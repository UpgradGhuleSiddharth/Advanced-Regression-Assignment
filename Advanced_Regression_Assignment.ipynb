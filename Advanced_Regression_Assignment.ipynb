{
  "nbformat": 4,
  "nbformat_minor": 0,
  "metadata": {
    "colab": {
      "name": "Advanced Regression Assignment.ipynb",
      "provenance": [],
      "collapsed_sections": []
    },
    "kernelspec": {
      "name": "python3",
      "display_name": "Python 3"
    },
    "language_info": {
      "name": "python"
    }
  },
  "cells": [
    {
      "cell_type": "markdown",
      "source": [
        "# Advanced Regression Assignment"
      ],
      "metadata": {
        "id": "DGWxpZuKYs1K"
      }
    },
    {
      "cell_type": "code",
      "execution_count": 59,
      "metadata": {
        "colab": {
          "base_uri": "https://localhost:8080/"
        },
        "id": "S4ITDgiTYhJN",
        "outputId": "8ead6478-b3f4-4622-e0de-52e56e1125e6"
      },
      "outputs": [
        {
          "output_type": "stream",
          "name": "stdout",
          "text": [
            "--2022-04-11 18:37:22--  https://docs.google.com/uc?export=download&id=1t6E6EgwXHSz51wfQIbMfN4XtTzh89y5y\n",
            "Resolving docs.google.com (docs.google.com)... 142.250.31.138, 142.250.31.100, 142.250.31.113, ...\n",
            "Connecting to docs.google.com (docs.google.com)|142.250.31.138|:443... connected.\n",
            "HTTP request sent, awaiting response... 303 See Other\n",
            "Location: https://doc-0s-3k-docs.googleusercontent.com/docs/securesc/ha0ro937gcuc7l7deffksulhg5h7mbp1/19neqhja0v441mdo5eqgk97l6qgvops5/1649702175000/07853932201158696572/*/1t6E6EgwXHSz51wfQIbMfN4XtTzh89y5y?e=download [following]\n",
            "Warning: wildcards not supported in HTTP.\n",
            "--2022-04-11 18:37:23--  https://doc-0s-3k-docs.googleusercontent.com/docs/securesc/ha0ro937gcuc7l7deffksulhg5h7mbp1/19neqhja0v441mdo5eqgk97l6qgvops5/1649702175000/07853932201158696572/*/1t6E6EgwXHSz51wfQIbMfN4XtTzh89y5y?e=download\n",
            "Resolving doc-0s-3k-docs.googleusercontent.com (doc-0s-3k-docs.googleusercontent.com)... 142.250.81.193, 2607:f8b0:4004:82f::2001\n",
            "Connecting to doc-0s-3k-docs.googleusercontent.com (doc-0s-3k-docs.googleusercontent.com)|142.250.81.193|:443... connected.\n",
            "HTTP request sent, awaiting response... 200 OK\n",
            "Length: 460676 (450K) [text/csv]\n",
            "Saving to: ‘train.csv’\n",
            "\n",
            "train.csv           100%[===================>] 449.88K  --.-KB/s    in 0.04s   \n",
            "\n",
            "2022-04-11 18:37:23 (11.4 MB/s) - ‘train.csv’ saved [460676/460676]\n",
            "\n",
            "--2022-04-11 18:37:23--  https://docs.google.com/uc?export=download&id=1uSHSNDUrVv_oZlg03zytjwDZ05-VWZDP\n",
            "Resolving docs.google.com (docs.google.com)... 142.250.65.78, 2607:f8b0:4004:835::200e\n",
            "Connecting to docs.google.com (docs.google.com)|142.250.65.78|:443... connected.\n",
            "HTTP request sent, awaiting response... 303 See Other\n",
            "Location: https://doc-00-3k-docs.googleusercontent.com/docs/securesc/ha0ro937gcuc7l7deffksulhg5h7mbp1/q399qsn6g1r45f8c1n2pimqql55ocg08/1649702175000/07853932201158696572/*/1uSHSNDUrVv_oZlg03zytjwDZ05-VWZDP?e=download [following]\n",
            "Warning: wildcards not supported in HTTP.\n",
            "--2022-04-11 18:37:23--  https://doc-00-3k-docs.googleusercontent.com/docs/securesc/ha0ro937gcuc7l7deffksulhg5h7mbp1/q399qsn6g1r45f8c1n2pimqql55ocg08/1649702175000/07853932201158696572/*/1uSHSNDUrVv_oZlg03zytjwDZ05-VWZDP?e=download\n",
            "Resolving doc-00-3k-docs.googleusercontent.com (doc-00-3k-docs.googleusercontent.com)... 142.250.81.193, 2607:f8b0:4004:82f::2001\n",
            "Connecting to doc-00-3k-docs.googleusercontent.com (doc-00-3k-docs.googleusercontent.com)|142.250.81.193|:443... connected.\n",
            "HTTP request sent, awaiting response... 200 OK\n",
            "Length: 13370 (13K) [text/plain]\n",
            "Saving to: ‘data_description.txt’\n",
            "\n",
            "data_description.tx 100%[===================>]  13.06K  --.-KB/s    in 0s      \n",
            "\n",
            "2022-04-11 18:37:23 (35.8 MB/s) - ‘data_description.txt’ saved [13370/13370]\n",
            "\n"
          ]
        },
        {
          "output_type": "execute_result",
          "data": {
            "text/plain": [
              ""
            ]
          },
          "metadata": {},
          "execution_count": 59
        }
      ],
      "source": [
        "# I am using google colaboratory envirnoment for this project\n",
        "# The data files are uploaded in the personal google drive\n",
        "# Here, I am importing those files from the google drive\n",
        "\n",
        "%%shell\n",
        "\n",
        "if [ ! -f day.csv ]; then\n",
        "    wget --no-check-certificate 'https://docs.google.com/uc?export=download&id=1t6E6EgwXHSz51wfQIbMfN4XtTzh89y5y' -O train.csv\n",
        "fi\n",
        "\n",
        "if [ ! -f dictionary.txt ]; then\n",
        "    wget --no-check-certificate 'https://docs.google.com/uc?export=download&id=1uSHSNDUrVv_oZlg03zytjwDZ05-VWZDP' -O data_description.txt\n",
        "fi"
      ]
    },
    {
      "cell_type": "markdown",
      "source": [
        "# Import commonly used libraries"
      ],
      "metadata": {
        "id": "rMkTJi1bZ_Fi"
      }
    },
    {
      "cell_type": "code",
      "source": [
        "import numpy as np\n",
        "import pandas as pd\n",
        "import matplotlib.pyplot as plt\n",
        "from datetime import datetime\n",
        "import seaborn as sns\n",
        "from matplotlib import rcParams"
      ],
      "metadata": {
        "id": "AzYMB6gtYu0d"
      },
      "execution_count": 60,
      "outputs": []
    },
    {
      "cell_type": "markdown",
      "source": [
        "# Load Data in DataFrame"
      ],
      "metadata": {
        "id": "c9YsTqyqaUJc"
      }
    },
    {
      "cell_type": "code",
      "source": [
        "df=pd.read_csv('train.csv')"
      ],
      "metadata": {
        "id": "7uKBvH-daGXH"
      },
      "execution_count": 61,
      "outputs": []
    },
    {
      "cell_type": "markdown",
      "source": [
        "# Data Understanding"
      ],
      "metadata": {
        "id": "7LcZowN6acAo"
      }
    },
    {
      "cell_type": "code",
      "source": [
        "# Check dataframe's shape and the first 5 rows\n",
        "# There are 1460 rows and 81 columns\n",
        "\n",
        "print(df.shape)\n",
        "df.head()"
      ],
      "metadata": {
        "colab": {
          "base_uri": "https://localhost:8080/",
          "height": 317
        },
        "id": "UQisT8zEabYX",
        "outputId": "59bfa47e-8b5b-4d4b-9a6d-a26f89a27d3e"
      },
      "execution_count": 62,
      "outputs": [
        {
          "output_type": "stream",
          "name": "stdout",
          "text": [
            "(1460, 81)\n"
          ]
        },
        {
          "output_type": "execute_result",
          "data": {
            "text/plain": [
              "   Id  MSSubClass MSZoning  LotFrontage  LotArea Street Alley LotShape  \\\n",
              "0   1          60       RL         65.0     8450   Pave   NaN      Reg   \n",
              "1   2          20       RL         80.0     9600   Pave   NaN      Reg   \n",
              "2   3          60       RL         68.0    11250   Pave   NaN      IR1   \n",
              "3   4          70       RL         60.0     9550   Pave   NaN      IR1   \n",
              "4   5          60       RL         84.0    14260   Pave   NaN      IR1   \n",
              "\n",
              "  LandContour Utilities  ... PoolArea PoolQC Fence MiscFeature MiscVal MoSold  \\\n",
              "0         Lvl    AllPub  ...        0    NaN   NaN         NaN       0      2   \n",
              "1         Lvl    AllPub  ...        0    NaN   NaN         NaN       0      5   \n",
              "2         Lvl    AllPub  ...        0    NaN   NaN         NaN       0      9   \n",
              "3         Lvl    AllPub  ...        0    NaN   NaN         NaN       0      2   \n",
              "4         Lvl    AllPub  ...        0    NaN   NaN         NaN       0     12   \n",
              "\n",
              "  YrSold  SaleType  SaleCondition  SalePrice  \n",
              "0   2008        WD         Normal     208500  \n",
              "1   2007        WD         Normal     181500  \n",
              "2   2008        WD         Normal     223500  \n",
              "3   2006        WD        Abnorml     140000  \n",
              "4   2008        WD         Normal     250000  \n",
              "\n",
              "[5 rows x 81 columns]"
            ],
            "text/html": [
              "\n",
              "  <div id=\"df-6f1ae29b-8ca0-43d3-be36-d1ac496e898d\">\n",
              "    <div class=\"colab-df-container\">\n",
              "      <div>\n",
              "<style scoped>\n",
              "    .dataframe tbody tr th:only-of-type {\n",
              "        vertical-align: middle;\n",
              "    }\n",
              "\n",
              "    .dataframe tbody tr th {\n",
              "        vertical-align: top;\n",
              "    }\n",
              "\n",
              "    .dataframe thead th {\n",
              "        text-align: right;\n",
              "    }\n",
              "</style>\n",
              "<table border=\"1\" class=\"dataframe\">\n",
              "  <thead>\n",
              "    <tr style=\"text-align: right;\">\n",
              "      <th></th>\n",
              "      <th>Id</th>\n",
              "      <th>MSSubClass</th>\n",
              "      <th>MSZoning</th>\n",
              "      <th>LotFrontage</th>\n",
              "      <th>LotArea</th>\n",
              "      <th>Street</th>\n",
              "      <th>Alley</th>\n",
              "      <th>LotShape</th>\n",
              "      <th>LandContour</th>\n",
              "      <th>Utilities</th>\n",
              "      <th>...</th>\n",
              "      <th>PoolArea</th>\n",
              "      <th>PoolQC</th>\n",
              "      <th>Fence</th>\n",
              "      <th>MiscFeature</th>\n",
              "      <th>MiscVal</th>\n",
              "      <th>MoSold</th>\n",
              "      <th>YrSold</th>\n",
              "      <th>SaleType</th>\n",
              "      <th>SaleCondition</th>\n",
              "      <th>SalePrice</th>\n",
              "    </tr>\n",
              "  </thead>\n",
              "  <tbody>\n",
              "    <tr>\n",
              "      <th>0</th>\n",
              "      <td>1</td>\n",
              "      <td>60</td>\n",
              "      <td>RL</td>\n",
              "      <td>65.0</td>\n",
              "      <td>8450</td>\n",
              "      <td>Pave</td>\n",
              "      <td>NaN</td>\n",
              "      <td>Reg</td>\n",
              "      <td>Lvl</td>\n",
              "      <td>AllPub</td>\n",
              "      <td>...</td>\n",
              "      <td>0</td>\n",
              "      <td>NaN</td>\n",
              "      <td>NaN</td>\n",
              "      <td>NaN</td>\n",
              "      <td>0</td>\n",
              "      <td>2</td>\n",
              "      <td>2008</td>\n",
              "      <td>WD</td>\n",
              "      <td>Normal</td>\n",
              "      <td>208500</td>\n",
              "    </tr>\n",
              "    <tr>\n",
              "      <th>1</th>\n",
              "      <td>2</td>\n",
              "      <td>20</td>\n",
              "      <td>RL</td>\n",
              "      <td>80.0</td>\n",
              "      <td>9600</td>\n",
              "      <td>Pave</td>\n",
              "      <td>NaN</td>\n",
              "      <td>Reg</td>\n",
              "      <td>Lvl</td>\n",
              "      <td>AllPub</td>\n",
              "      <td>...</td>\n",
              "      <td>0</td>\n",
              "      <td>NaN</td>\n",
              "      <td>NaN</td>\n",
              "      <td>NaN</td>\n",
              "      <td>0</td>\n",
              "      <td>5</td>\n",
              "      <td>2007</td>\n",
              "      <td>WD</td>\n",
              "      <td>Normal</td>\n",
              "      <td>181500</td>\n",
              "    </tr>\n",
              "    <tr>\n",
              "      <th>2</th>\n",
              "      <td>3</td>\n",
              "      <td>60</td>\n",
              "      <td>RL</td>\n",
              "      <td>68.0</td>\n",
              "      <td>11250</td>\n",
              "      <td>Pave</td>\n",
              "      <td>NaN</td>\n",
              "      <td>IR1</td>\n",
              "      <td>Lvl</td>\n",
              "      <td>AllPub</td>\n",
              "      <td>...</td>\n",
              "      <td>0</td>\n",
              "      <td>NaN</td>\n",
              "      <td>NaN</td>\n",
              "      <td>NaN</td>\n",
              "      <td>0</td>\n",
              "      <td>9</td>\n",
              "      <td>2008</td>\n",
              "      <td>WD</td>\n",
              "      <td>Normal</td>\n",
              "      <td>223500</td>\n",
              "    </tr>\n",
              "    <tr>\n",
              "      <th>3</th>\n",
              "      <td>4</td>\n",
              "      <td>70</td>\n",
              "      <td>RL</td>\n",
              "      <td>60.0</td>\n",
              "      <td>9550</td>\n",
              "      <td>Pave</td>\n",
              "      <td>NaN</td>\n",
              "      <td>IR1</td>\n",
              "      <td>Lvl</td>\n",
              "      <td>AllPub</td>\n",
              "      <td>...</td>\n",
              "      <td>0</td>\n",
              "      <td>NaN</td>\n",
              "      <td>NaN</td>\n",
              "      <td>NaN</td>\n",
              "      <td>0</td>\n",
              "      <td>2</td>\n",
              "      <td>2006</td>\n",
              "      <td>WD</td>\n",
              "      <td>Abnorml</td>\n",
              "      <td>140000</td>\n",
              "    </tr>\n",
              "    <tr>\n",
              "      <th>4</th>\n",
              "      <td>5</td>\n",
              "      <td>60</td>\n",
              "      <td>RL</td>\n",
              "      <td>84.0</td>\n",
              "      <td>14260</td>\n",
              "      <td>Pave</td>\n",
              "      <td>NaN</td>\n",
              "      <td>IR1</td>\n",
              "      <td>Lvl</td>\n",
              "      <td>AllPub</td>\n",
              "      <td>...</td>\n",
              "      <td>0</td>\n",
              "      <td>NaN</td>\n",
              "      <td>NaN</td>\n",
              "      <td>NaN</td>\n",
              "      <td>0</td>\n",
              "      <td>12</td>\n",
              "      <td>2008</td>\n",
              "      <td>WD</td>\n",
              "      <td>Normal</td>\n",
              "      <td>250000</td>\n",
              "    </tr>\n",
              "  </tbody>\n",
              "</table>\n",
              "<p>5 rows × 81 columns</p>\n",
              "</div>\n",
              "      <button class=\"colab-df-convert\" onclick=\"convertToInteractive('df-6f1ae29b-8ca0-43d3-be36-d1ac496e898d')\"\n",
              "              title=\"Convert this dataframe to an interactive table.\"\n",
              "              style=\"display:none;\">\n",
              "        \n",
              "  <svg xmlns=\"http://www.w3.org/2000/svg\" height=\"24px\"viewBox=\"0 0 24 24\"\n",
              "       width=\"24px\">\n",
              "    <path d=\"M0 0h24v24H0V0z\" fill=\"none\"/>\n",
              "    <path d=\"M18.56 5.44l.94 2.06.94-2.06 2.06-.94-2.06-.94-.94-2.06-.94 2.06-2.06.94zm-11 1L8.5 8.5l.94-2.06 2.06-.94-2.06-.94L8.5 2.5l-.94 2.06-2.06.94zm10 10l.94 2.06.94-2.06 2.06-.94-2.06-.94-.94-2.06-.94 2.06-2.06.94z\"/><path d=\"M17.41 7.96l-1.37-1.37c-.4-.4-.92-.59-1.43-.59-.52 0-1.04.2-1.43.59L10.3 9.45l-7.72 7.72c-.78.78-.78 2.05 0 2.83L4 21.41c.39.39.9.59 1.41.59.51 0 1.02-.2 1.41-.59l7.78-7.78 2.81-2.81c.8-.78.8-2.07 0-2.86zM5.41 20L4 18.59l7.72-7.72 1.47 1.35L5.41 20z\"/>\n",
              "  </svg>\n",
              "      </button>\n",
              "      \n",
              "  <style>\n",
              "    .colab-df-container {\n",
              "      display:flex;\n",
              "      flex-wrap:wrap;\n",
              "      gap: 12px;\n",
              "    }\n",
              "\n",
              "    .colab-df-convert {\n",
              "      background-color: #E8F0FE;\n",
              "      border: none;\n",
              "      border-radius: 50%;\n",
              "      cursor: pointer;\n",
              "      display: none;\n",
              "      fill: #1967D2;\n",
              "      height: 32px;\n",
              "      padding: 0 0 0 0;\n",
              "      width: 32px;\n",
              "    }\n",
              "\n",
              "    .colab-df-convert:hover {\n",
              "      background-color: #E2EBFA;\n",
              "      box-shadow: 0px 1px 2px rgba(60, 64, 67, 0.3), 0px 1px 3px 1px rgba(60, 64, 67, 0.15);\n",
              "      fill: #174EA6;\n",
              "    }\n",
              "\n",
              "    [theme=dark] .colab-df-convert {\n",
              "      background-color: #3B4455;\n",
              "      fill: #D2E3FC;\n",
              "    }\n",
              "\n",
              "    [theme=dark] .colab-df-convert:hover {\n",
              "      background-color: #434B5C;\n",
              "      box-shadow: 0px 1px 3px 1px rgba(0, 0, 0, 0.15);\n",
              "      filter: drop-shadow(0px 1px 2px rgba(0, 0, 0, 0.3));\n",
              "      fill: #FFFFFF;\n",
              "    }\n",
              "  </style>\n",
              "\n",
              "      <script>\n",
              "        const buttonEl =\n",
              "          document.querySelector('#df-6f1ae29b-8ca0-43d3-be36-d1ac496e898d button.colab-df-convert');\n",
              "        buttonEl.style.display =\n",
              "          google.colab.kernel.accessAllowed ? 'block' : 'none';\n",
              "\n",
              "        async function convertToInteractive(key) {\n",
              "          const element = document.querySelector('#df-6f1ae29b-8ca0-43d3-be36-d1ac496e898d');\n",
              "          const dataTable =\n",
              "            await google.colab.kernel.invokeFunction('convertToInteractive',\n",
              "                                                     [key], {});\n",
              "          if (!dataTable) return;\n",
              "\n",
              "          const docLinkHtml = 'Like what you see? Visit the ' +\n",
              "            '<a target=\"_blank\" href=https://colab.research.google.com/notebooks/data_table.ipynb>data table notebook</a>'\n",
              "            + ' to learn more about interactive tables.';\n",
              "          element.innerHTML = '';\n",
              "          dataTable['output_type'] = 'display_data';\n",
              "          await google.colab.output.renderOutput(dataTable, element);\n",
              "          const docLink = document.createElement('div');\n",
              "          docLink.innerHTML = docLinkHtml;\n",
              "          element.appendChild(docLink);\n",
              "        }\n",
              "      </script>\n",
              "    </div>\n",
              "  </div>\n",
              "  "
            ]
          },
          "metadata": {},
          "execution_count": 62
        }
      ]
    },
    {
      "cell_type": "code",
      "source": [
        "# Understand the meaning of each feature using data dictionay\n",
        "# Dataset contains a lot of features. Hence, features selection is needed\n",
        "\n",
        "!cat data_description.txt"
      ],
      "metadata": {
        "colab": {
          "base_uri": "https://localhost:8080/"
        },
        "id": "uA4xn23lah1J",
        "outputId": "a75cfe18-918d-44f3-c892-f8b214478fc2"
      },
      "execution_count": 63,
      "outputs": [
        {
          "output_type": "stream",
          "name": "stdout",
          "text": [
            "MSSubClass: Identifies the type of dwelling involved in the sale.\t\n",
            "\n",
            "        20\t1-STORY 1946 & NEWER ALL STYLES\n",
            "        30\t1-STORY 1945 & OLDER\n",
            "        40\t1-STORY W/FINISHED ATTIC ALL AGES\n",
            "        45\t1-1/2 STORY - UNFINISHED ALL AGES\n",
            "        50\t1-1/2 STORY FINISHED ALL AGES\n",
            "        60\t2-STORY 1946 & NEWER\n",
            "        70\t2-STORY 1945 & OLDER\n",
            "        75\t2-1/2 STORY ALL AGES\n",
            "        80\tSPLIT OR MULTI-LEVEL\n",
            "        85\tSPLIT FOYER\n",
            "        90\tDUPLEX - ALL STYLES AND AGES\n",
            "       120\t1-STORY PUD (Planned Unit Development) - 1946 & NEWER\n",
            "       150\t1-1/2 STORY PUD - ALL AGES\n",
            "       160\t2-STORY PUD - 1946 & NEWER\n",
            "       180\tPUD - MULTILEVEL - INCL SPLIT LEV/FOYER\n",
            "       190\t2 FAMILY CONVERSION - ALL STYLES AND AGES\n",
            "\n",
            "MSZoning: Identifies the general zoning classification of the sale.\n",
            "\t\t\n",
            "       A\tAgriculture\n",
            "       C\tCommercial\n",
            "       FV\tFloating Village Residential\n",
            "       I\tIndustrial\n",
            "       RH\tResidential High Density\n",
            "       RL\tResidential Low Density\n",
            "       RP\tResidential Low Density Park \n",
            "       RM\tResidential Medium Density\n",
            "\t\n",
            "LotFrontage: Linear feet of street connected to property\n",
            "\n",
            "LotArea: Lot size in square feet\n",
            "\n",
            "Street: Type of road access to property\n",
            "\n",
            "       Grvl\tGravel\t\n",
            "       Pave\tPaved\n",
            "       \t\n",
            "Alley: Type of alley access to property\n",
            "\n",
            "       Grvl\tGravel\n",
            "       Pave\tPaved\n",
            "       NA \tNo alley access\n",
            "\t\t\n",
            "LotShape: General shape of property\n",
            "\n",
            "       Reg\tRegular\t\n",
            "       IR1\tSlightly irregular\n",
            "       IR2\tModerately Irregular\n",
            "       IR3\tIrregular\n",
            "       \n",
            "LandContour: Flatness of the property\n",
            "\n",
            "       Lvl\tNear Flat/Level\t\n",
            "       Bnk\tBanked - Quick and significant rise from street grade to building\n",
            "       HLS\tHillside - Significant slope from side to side\n",
            "       Low\tDepression\n",
            "\t\t\n",
            "Utilities: Type of utilities available\n",
            "\t\t\n",
            "       AllPub\tAll public Utilities (E,G,W,& S)\t\n",
            "       NoSewr\tElectricity, Gas, and Water (Septic Tank)\n",
            "       NoSeWa\tElectricity and Gas Only\n",
            "       ELO\tElectricity only\t\n",
            "\t\n",
            "LotConfig: Lot configuration\n",
            "\n",
            "       Inside\tInside lot\n",
            "       Corner\tCorner lot\n",
            "       CulDSac\tCul-de-sac\n",
            "       FR2\tFrontage on 2 sides of property\n",
            "       FR3\tFrontage on 3 sides of property\n",
            "\t\n",
            "LandSlope: Slope of property\n",
            "\t\t\n",
            "       Gtl\tGentle slope\n",
            "       Mod\tModerate Slope\t\n",
            "       Sev\tSevere Slope\n",
            "\t\n",
            "Neighborhood: Physical locations within Ames city limits\n",
            "\n",
            "       Blmngtn\tBloomington Heights\n",
            "       Blueste\tBluestem\n",
            "       BrDale\tBriardale\n",
            "       BrkSide\tBrookside\n",
            "       ClearCr\tClear Creek\n",
            "       CollgCr\tCollege Creek\n",
            "       Crawfor\tCrawford\n",
            "       Edwards\tEdwards\n",
            "       Gilbert\tGilbert\n",
            "       IDOTRR\tIowa DOT and Rail Road\n",
            "       MeadowV\tMeadow Village\n",
            "       Mitchel\tMitchell\n",
            "       Names\tNorth Ames\n",
            "       NoRidge\tNorthridge\n",
            "       NPkVill\tNorthpark Villa\n",
            "       NridgHt\tNorthridge Heights\n",
            "       NWAmes\tNorthwest Ames\n",
            "       OldTown\tOld Town\n",
            "       SWISU\tSouth & West of Iowa State University\n",
            "       Sawyer\tSawyer\n",
            "       SawyerW\tSawyer West\n",
            "       Somerst\tSomerset\n",
            "       StoneBr\tStone Brook\n",
            "       Timber\tTimberland\n",
            "       Veenker\tVeenker\n",
            "\t\t\t\n",
            "Condition1: Proximity to various conditions\n",
            "\t\n",
            "       Artery\tAdjacent to arterial street\n",
            "       Feedr\tAdjacent to feeder street\t\n",
            "       Norm\tNormal\t\n",
            "       RRNn\tWithin 200' of North-South Railroad\n",
            "       RRAn\tAdjacent to North-South Railroad\n",
            "       PosN\tNear positive off-site feature--park, greenbelt, etc.\n",
            "       PosA\tAdjacent to postive off-site feature\n",
            "       RRNe\tWithin 200' of East-West Railroad\n",
            "       RRAe\tAdjacent to East-West Railroad\n",
            "\t\n",
            "Condition2: Proximity to various conditions (if more than one is present)\n",
            "\t\t\n",
            "       Artery\tAdjacent to arterial street\n",
            "       Feedr\tAdjacent to feeder street\t\n",
            "       Norm\tNormal\t\n",
            "       RRNn\tWithin 200' of North-South Railroad\n",
            "       RRAn\tAdjacent to North-South Railroad\n",
            "       PosN\tNear positive off-site feature--park, greenbelt, etc.\n",
            "       PosA\tAdjacent to postive off-site feature\n",
            "       RRNe\tWithin 200' of East-West Railroad\n",
            "       RRAe\tAdjacent to East-West Railroad\n",
            "\t\n",
            "BldgType: Type of dwelling\n",
            "\t\t\n",
            "       1Fam\tSingle-family Detached\t\n",
            "       2FmCon\tTwo-family Conversion; originally built as one-family dwelling\n",
            "       Duplx\tDuplex\n",
            "       TwnhsE\tTownhouse End Unit\n",
            "       TwnhsI\tTownhouse Inside Unit\n",
            "\t\n",
            "HouseStyle: Style of dwelling\n",
            "\t\n",
            "       1Story\tOne story\n",
            "       1.5Fin\tOne and one-half story: 2nd level finished\n",
            "       1.5Unf\tOne and one-half story: 2nd level unfinished\n",
            "       2Story\tTwo story\n",
            "       2.5Fin\tTwo and one-half story: 2nd level finished\n",
            "       2.5Unf\tTwo and one-half story: 2nd level unfinished\n",
            "       SFoyer\tSplit Foyer\n",
            "       SLvl\tSplit Level\n",
            "\t\n",
            "OverallQual: Rates the overall material and finish of the house\n",
            "\n",
            "       10\tVery Excellent\n",
            "       9\tExcellent\n",
            "       8\tVery Good\n",
            "       7\tGood\n",
            "       6\tAbove Average\n",
            "       5\tAverage\n",
            "       4\tBelow Average\n",
            "       3\tFair\n",
            "       2\tPoor\n",
            "       1\tVery Poor\n",
            "\t\n",
            "OverallCond: Rates the overall condition of the house\n",
            "\n",
            "       10\tVery Excellent\n",
            "       9\tExcellent\n",
            "       8\tVery Good\n",
            "       7\tGood\n",
            "       6\tAbove Average\t\n",
            "       5\tAverage\n",
            "       4\tBelow Average\t\n",
            "       3\tFair\n",
            "       2\tPoor\n",
            "       1\tVery Poor\n",
            "\t\t\n",
            "YearBuilt: Original construction date\n",
            "\n",
            "YearRemodAdd: Remodel date (same as construction date if no remodeling or additions)\n",
            "\n",
            "RoofStyle: Type of roof\n",
            "\n",
            "       Flat\tFlat\n",
            "       Gable\tGable\n",
            "       Gambrel\tGabrel (Barn)\n",
            "       Hip\tHip\n",
            "       Mansard\tMansard\n",
            "       Shed\tShed\n",
            "\t\t\n",
            "RoofMatl: Roof material\n",
            "\n",
            "       ClyTile\tClay or Tile\n",
            "       CompShg\tStandard (Composite) Shingle\n",
            "       Membran\tMembrane\n",
            "       Metal\tMetal\n",
            "       Roll\tRoll\n",
            "       Tar&Grv\tGravel & Tar\n",
            "       WdShake\tWood Shakes\n",
            "       WdShngl\tWood Shingles\n",
            "\t\t\n",
            "Exterior1st: Exterior covering on house\n",
            "\n",
            "       AsbShng\tAsbestos Shingles\n",
            "       AsphShn\tAsphalt Shingles\n",
            "       BrkComm\tBrick Common\n",
            "       BrkFace\tBrick Face\n",
            "       CBlock\tCinder Block\n",
            "       CemntBd\tCement Board\n",
            "       HdBoard\tHard Board\n",
            "       ImStucc\tImitation Stucco\n",
            "       MetalSd\tMetal Siding\n",
            "       Other\tOther\n",
            "       Plywood\tPlywood\n",
            "       PreCast\tPreCast\t\n",
            "       Stone\tStone\n",
            "       Stucco\tStucco\n",
            "       VinylSd\tVinyl Siding\n",
            "       Wd Sdng\tWood Siding\n",
            "       WdShing\tWood Shingles\n",
            "\t\n",
            "Exterior2nd: Exterior covering on house (if more than one material)\n",
            "\n",
            "       AsbShng\tAsbestos Shingles\n",
            "       AsphShn\tAsphalt Shingles\n",
            "       BrkComm\tBrick Common\n",
            "       BrkFace\tBrick Face\n",
            "       CBlock\tCinder Block\n",
            "       CemntBd\tCement Board\n",
            "       HdBoard\tHard Board\n",
            "       ImStucc\tImitation Stucco\n",
            "       MetalSd\tMetal Siding\n",
            "       Other\tOther\n",
            "       Plywood\tPlywood\n",
            "       PreCast\tPreCast\n",
            "       Stone\tStone\n",
            "       Stucco\tStucco\n",
            "       VinylSd\tVinyl Siding\n",
            "       Wd Sdng\tWood Siding\n",
            "       WdShing\tWood Shingles\n",
            "\t\n",
            "MasVnrType: Masonry veneer type\n",
            "\n",
            "       BrkCmn\tBrick Common\n",
            "       BrkFace\tBrick Face\n",
            "       CBlock\tCinder Block\n",
            "       None\tNone\n",
            "       Stone\tStone\n",
            "\t\n",
            "MasVnrArea: Masonry veneer area in square feet\n",
            "\n",
            "ExterQual: Evaluates the quality of the material on the exterior \n",
            "\t\t\n",
            "       Ex\tExcellent\n",
            "       Gd\tGood\n",
            "       TA\tAverage/Typical\n",
            "       Fa\tFair\n",
            "       Po\tPoor\n",
            "\t\t\n",
            "ExterCond: Evaluates the present condition of the material on the exterior\n",
            "\t\t\n",
            "       Ex\tExcellent\n",
            "       Gd\tGood\n",
            "       TA\tAverage/Typical\n",
            "       Fa\tFair\n",
            "       Po\tPoor\n",
            "\t\t\n",
            "Foundation: Type of foundation\n",
            "\t\t\n",
            "       BrkTil\tBrick & Tile\n",
            "       CBlock\tCinder Block\n",
            "       PConc\tPoured Contrete\t\n",
            "       Slab\tSlab\n",
            "       Stone\tStone\n",
            "       Wood\tWood\n",
            "\t\t\n",
            "BsmtQual: Evaluates the height of the basement\n",
            "\n",
            "       Ex\tExcellent (100+ inches)\t\n",
            "       Gd\tGood (90-99 inches)\n",
            "       TA\tTypical (80-89 inches)\n",
            "       Fa\tFair (70-79 inches)\n",
            "       Po\tPoor (<70 inches\n",
            "       NA\tNo Basement\n",
            "\t\t\n",
            "BsmtCond: Evaluates the general condition of the basement\n",
            "\n",
            "       Ex\tExcellent\n",
            "       Gd\tGood\n",
            "       TA\tTypical - slight dampness allowed\n",
            "       Fa\tFair - dampness or some cracking or settling\n",
            "       Po\tPoor - Severe cracking, settling, or wetness\n",
            "       NA\tNo Basement\n",
            "\t\n",
            "BsmtExposure: Refers to walkout or garden level walls\n",
            "\n",
            "       Gd\tGood Exposure\n",
            "       Av\tAverage Exposure (split levels or foyers typically score average or above)\t\n",
            "       Mn\tMimimum Exposure\n",
            "       No\tNo Exposure\n",
            "       NA\tNo Basement\n",
            "\t\n",
            "BsmtFinType1: Rating of basement finished area\n",
            "\n",
            "       GLQ\tGood Living Quarters\n",
            "       ALQ\tAverage Living Quarters\n",
            "       BLQ\tBelow Average Living Quarters\t\n",
            "       Rec\tAverage Rec Room\n",
            "       LwQ\tLow Quality\n",
            "       Unf\tUnfinshed\n",
            "       NA\tNo Basement\n",
            "\t\t\n",
            "BsmtFinSF1: Type 1 finished square feet\n",
            "\n",
            "BsmtFinType2: Rating of basement finished area (if multiple types)\n",
            "\n",
            "       GLQ\tGood Living Quarters\n",
            "       ALQ\tAverage Living Quarters\n",
            "       BLQ\tBelow Average Living Quarters\t\n",
            "       Rec\tAverage Rec Room\n",
            "       LwQ\tLow Quality\n",
            "       Unf\tUnfinshed\n",
            "       NA\tNo Basement\n",
            "\n",
            "BsmtFinSF2: Type 2 finished square feet\n",
            "\n",
            "BsmtUnfSF: Unfinished square feet of basement area\n",
            "\n",
            "TotalBsmtSF: Total square feet of basement area\n",
            "\n",
            "Heating: Type of heating\n",
            "\t\t\n",
            "       Floor\tFloor Furnace\n",
            "       GasA\tGas forced warm air furnace\n",
            "       GasW\tGas hot water or steam heat\n",
            "       Grav\tGravity furnace\t\n",
            "       OthW\tHot water or steam heat other than gas\n",
            "       Wall\tWall furnace\n",
            "\t\t\n",
            "HeatingQC: Heating quality and condition\n",
            "\n",
            "       Ex\tExcellent\n",
            "       Gd\tGood\n",
            "       TA\tAverage/Typical\n",
            "       Fa\tFair\n",
            "       Po\tPoor\n",
            "\t\t\n",
            "CentralAir: Central air conditioning\n",
            "\n",
            "       N\tNo\n",
            "       Y\tYes\n",
            "\t\t\n",
            "Electrical: Electrical system\n",
            "\n",
            "       SBrkr\tStandard Circuit Breakers & Romex\n",
            "       FuseA\tFuse Box over 60 AMP and all Romex wiring (Average)\t\n",
            "       FuseF\t60 AMP Fuse Box and mostly Romex wiring (Fair)\n",
            "       FuseP\t60 AMP Fuse Box and mostly knob & tube wiring (poor)\n",
            "       Mix\tMixed\n",
            "\t\t\n",
            "1stFlrSF: First Floor square feet\n",
            " \n",
            "2ndFlrSF: Second floor square feet\n",
            "\n",
            "LowQualFinSF: Low quality finished square feet (all floors)\n",
            "\n",
            "GrLivArea: Above grade (ground) living area square feet\n",
            "\n",
            "BsmtFullBath: Basement full bathrooms\n",
            "\n",
            "BsmtHalfBath: Basement half bathrooms\n",
            "\n",
            "FullBath: Full bathrooms above grade\n",
            "\n",
            "HalfBath: Half baths above grade\n",
            "\n",
            "Bedroom: Bedrooms above grade (does NOT include basement bedrooms)\n",
            "\n",
            "Kitchen: Kitchens above grade\n",
            "\n",
            "KitchenQual: Kitchen quality\n",
            "\n",
            "       Ex\tExcellent\n",
            "       Gd\tGood\n",
            "       TA\tTypical/Average\n",
            "       Fa\tFair\n",
            "       Po\tPoor\n",
            "       \t\n",
            "TotRmsAbvGrd: Total rooms above grade (does not include bathrooms)\n",
            "\n",
            "Functional: Home functionality (Assume typical unless deductions are warranted)\n",
            "\n",
            "       Typ\tTypical Functionality\n",
            "       Min1\tMinor Deductions 1\n",
            "       Min2\tMinor Deductions 2\n",
            "       Mod\tModerate Deductions\n",
            "       Maj1\tMajor Deductions 1\n",
            "       Maj2\tMajor Deductions 2\n",
            "       Sev\tSeverely Damaged\n",
            "       Sal\tSalvage only\n",
            "\t\t\n",
            "Fireplaces: Number of fireplaces\n",
            "\n",
            "FireplaceQu: Fireplace quality\n",
            "\n",
            "       Ex\tExcellent - Exceptional Masonry Fireplace\n",
            "       Gd\tGood - Masonry Fireplace in main level\n",
            "       TA\tAverage - Prefabricated Fireplace in main living area or Masonry Fireplace in basement\n",
            "       Fa\tFair - Prefabricated Fireplace in basement\n",
            "       Po\tPoor - Ben Franklin Stove\n",
            "       NA\tNo Fireplace\n",
            "\t\t\n",
            "GarageType: Garage location\n",
            "\t\t\n",
            "       2Types\tMore than one type of garage\n",
            "       Attchd\tAttached to home\n",
            "       Basment\tBasement Garage\n",
            "       BuiltIn\tBuilt-In (Garage part of house - typically has room above garage)\n",
            "       CarPort\tCar Port\n",
            "       Detchd\tDetached from home\n",
            "       NA\tNo Garage\n",
            "\t\t\n",
            "GarageYrBlt: Year garage was built\n",
            "\t\t\n",
            "GarageFinish: Interior finish of the garage\n",
            "\n",
            "       Fin\tFinished\n",
            "       RFn\tRough Finished\t\n",
            "       Unf\tUnfinished\n",
            "       NA\tNo Garage\n",
            "\t\t\n",
            "GarageCars: Size of garage in car capacity\n",
            "\n",
            "GarageArea: Size of garage in square feet\n",
            "\n",
            "GarageQual: Garage quality\n",
            "\n",
            "       Ex\tExcellent\n",
            "       Gd\tGood\n",
            "       TA\tTypical/Average\n",
            "       Fa\tFair\n",
            "       Po\tPoor\n",
            "       NA\tNo Garage\n",
            "\t\t\n",
            "GarageCond: Garage condition\n",
            "\n",
            "       Ex\tExcellent\n",
            "       Gd\tGood\n",
            "       TA\tTypical/Average\n",
            "       Fa\tFair\n",
            "       Po\tPoor\n",
            "       NA\tNo Garage\n",
            "\t\t\n",
            "PavedDrive: Paved driveway\n",
            "\n",
            "       Y\tPaved \n",
            "       P\tPartial Pavement\n",
            "       N\tDirt/Gravel\n",
            "\t\t\n",
            "WoodDeckSF: Wood deck area in square feet\n",
            "\n",
            "OpenPorchSF: Open porch area in square feet\n",
            "\n",
            "EnclosedPorch: Enclosed porch area in square feet\n",
            "\n",
            "3SsnPorch: Three season porch area in square feet\n",
            "\n",
            "ScreenPorch: Screen porch area in square feet\n",
            "\n",
            "PoolArea: Pool area in square feet\n",
            "\n",
            "PoolQC: Pool quality\n",
            "\t\t\n",
            "       Ex\tExcellent\n",
            "       Gd\tGood\n",
            "       TA\tAverage/Typical\n",
            "       Fa\tFair\n",
            "       NA\tNo Pool\n",
            "\t\t\n",
            "Fence: Fence quality\n",
            "\t\t\n",
            "       GdPrv\tGood Privacy\n",
            "       MnPrv\tMinimum Privacy\n",
            "       GdWo\tGood Wood\n",
            "       MnWw\tMinimum Wood/Wire\n",
            "       NA\tNo Fence\n",
            "\t\n",
            "MiscFeature: Miscellaneous feature not covered in other categories\n",
            "\t\t\n",
            "       Elev\tElevator\n",
            "       Gar2\t2nd Garage (if not described in garage section)\n",
            "       Othr\tOther\n",
            "       Shed\tShed (over 100 SF)\n",
            "       TenC\tTennis Court\n",
            "       NA\tNone\n",
            "\t\t\n",
            "MiscVal: $Value of miscellaneous feature\n",
            "\n",
            "MoSold: Month Sold (MM)\n",
            "\n",
            "YrSold: Year Sold (YYYY)\n",
            "\n",
            "SaleType: Type of sale\n",
            "\t\t\n",
            "       WD \tWarranty Deed - Conventional\n",
            "       CWD\tWarranty Deed - Cash\n",
            "       VWD\tWarranty Deed - VA Loan\n",
            "       New\tHome just constructed and sold\n",
            "       COD\tCourt Officer Deed/Estate\n",
            "       Con\tContract 15% Down payment regular terms\n",
            "       ConLw\tContract Low Down payment and low interest\n",
            "       ConLI\tContract Low Interest\n",
            "       ConLD\tContract Low Down\n",
            "       Oth\tOther\n",
            "\t\t\n",
            "SaleCondition: Condition of sale\n",
            "\n",
            "       Normal\tNormal Sale\n",
            "       Abnorml\tAbnormal Sale -  trade, foreclosure, short sale\n",
            "       AdjLand\tAdjoining Land Purchase\n",
            "       Alloca\tAllocation - two linked properties with separate deeds, typically condo with a garage unit\t\n",
            "       Family\tSale between family members\n",
            "       Partial\tHome was not completed when last assessed (associated with New Homes)\n"
          ]
        }
      ]
    },
    {
      "cell_type": "code",
      "source": [
        "# Check for null values and data types\n",
        "# There are some null values in the dataset\n",
        "\n",
        "df.info()"
      ],
      "metadata": {
        "colab": {
          "base_uri": "https://localhost:8080/"
        },
        "id": "ysAYwbNRayWX",
        "outputId": "05472375-8cf8-4207-e0ca-87c34e9d51ab"
      },
      "execution_count": 64,
      "outputs": [
        {
          "output_type": "stream",
          "name": "stdout",
          "text": [
            "<class 'pandas.core.frame.DataFrame'>\n",
            "RangeIndex: 1460 entries, 0 to 1459\n",
            "Data columns (total 81 columns):\n",
            " #   Column         Non-Null Count  Dtype  \n",
            "---  ------         --------------  -----  \n",
            " 0   Id             1460 non-null   int64  \n",
            " 1   MSSubClass     1460 non-null   int64  \n",
            " 2   MSZoning       1460 non-null   object \n",
            " 3   LotFrontage    1201 non-null   float64\n",
            " 4   LotArea        1460 non-null   int64  \n",
            " 5   Street         1460 non-null   object \n",
            " 6   Alley          91 non-null     object \n",
            " 7   LotShape       1460 non-null   object \n",
            " 8   LandContour    1460 non-null   object \n",
            " 9   Utilities      1460 non-null   object \n",
            " 10  LotConfig      1460 non-null   object \n",
            " 11  LandSlope      1460 non-null   object \n",
            " 12  Neighborhood   1460 non-null   object \n",
            " 13  Condition1     1460 non-null   object \n",
            " 14  Condition2     1460 non-null   object \n",
            " 15  BldgType       1460 non-null   object \n",
            " 16  HouseStyle     1460 non-null   object \n",
            " 17  OverallQual    1460 non-null   int64  \n",
            " 18  OverallCond    1460 non-null   int64  \n",
            " 19  YearBuilt      1460 non-null   int64  \n",
            " 20  YearRemodAdd   1460 non-null   int64  \n",
            " 21  RoofStyle      1460 non-null   object \n",
            " 22  RoofMatl       1460 non-null   object \n",
            " 23  Exterior1st    1460 non-null   object \n",
            " 24  Exterior2nd    1460 non-null   object \n",
            " 25  MasVnrType     1452 non-null   object \n",
            " 26  MasVnrArea     1452 non-null   float64\n",
            " 27  ExterQual      1460 non-null   object \n",
            " 28  ExterCond      1460 non-null   object \n",
            " 29  Foundation     1460 non-null   object \n",
            " 30  BsmtQual       1423 non-null   object \n",
            " 31  BsmtCond       1423 non-null   object \n",
            " 32  BsmtExposure   1422 non-null   object \n",
            " 33  BsmtFinType1   1423 non-null   object \n",
            " 34  BsmtFinSF1     1460 non-null   int64  \n",
            " 35  BsmtFinType2   1422 non-null   object \n",
            " 36  BsmtFinSF2     1460 non-null   int64  \n",
            " 37  BsmtUnfSF      1460 non-null   int64  \n",
            " 38  TotalBsmtSF    1460 non-null   int64  \n",
            " 39  Heating        1460 non-null   object \n",
            " 40  HeatingQC      1460 non-null   object \n",
            " 41  CentralAir     1460 non-null   object \n",
            " 42  Electrical     1459 non-null   object \n",
            " 43  1stFlrSF       1460 non-null   int64  \n",
            " 44  2ndFlrSF       1460 non-null   int64  \n",
            " 45  LowQualFinSF   1460 non-null   int64  \n",
            " 46  GrLivArea      1460 non-null   int64  \n",
            " 47  BsmtFullBath   1460 non-null   int64  \n",
            " 48  BsmtHalfBath   1460 non-null   int64  \n",
            " 49  FullBath       1460 non-null   int64  \n",
            " 50  HalfBath       1460 non-null   int64  \n",
            " 51  BedroomAbvGr   1460 non-null   int64  \n",
            " 52  KitchenAbvGr   1460 non-null   int64  \n",
            " 53  KitchenQual    1460 non-null   object \n",
            " 54  TotRmsAbvGrd   1460 non-null   int64  \n",
            " 55  Functional     1460 non-null   object \n",
            " 56  Fireplaces     1460 non-null   int64  \n",
            " 57  FireplaceQu    770 non-null    object \n",
            " 58  GarageType     1379 non-null   object \n",
            " 59  GarageYrBlt    1379 non-null   float64\n",
            " 60  GarageFinish   1379 non-null   object \n",
            " 61  GarageCars     1460 non-null   int64  \n",
            " 62  GarageArea     1460 non-null   int64  \n",
            " 63  GarageQual     1379 non-null   object \n",
            " 64  GarageCond     1379 non-null   object \n",
            " 65  PavedDrive     1460 non-null   object \n",
            " 66  WoodDeckSF     1460 non-null   int64  \n",
            " 67  OpenPorchSF    1460 non-null   int64  \n",
            " 68  EnclosedPorch  1460 non-null   int64  \n",
            " 69  3SsnPorch      1460 non-null   int64  \n",
            " 70  ScreenPorch    1460 non-null   int64  \n",
            " 71  PoolArea       1460 non-null   int64  \n",
            " 72  PoolQC         7 non-null      object \n",
            " 73  Fence          281 non-null    object \n",
            " 74  MiscFeature    54 non-null     object \n",
            " 75  MiscVal        1460 non-null   int64  \n",
            " 76  MoSold         1460 non-null   int64  \n",
            " 77  YrSold         1460 non-null   int64  \n",
            " 78  SaleType       1460 non-null   object \n",
            " 79  SaleCondition  1460 non-null   object \n",
            " 80  SalePrice      1460 non-null   int64  \n",
            "dtypes: float64(3), int64(35), object(43)\n",
            "memory usage: 924.0+ KB\n"
          ]
        }
      ]
    },
    {
      "cell_type": "markdown",
      "source": [
        "# Data Cleaning and Manipulation"
      ],
      "metadata": {
        "id": "pfYOcezGitp7"
      }
    },
    {
      "cell_type": "markdown",
      "source": [
        "## Drop Null Columns"
      ],
      "metadata": {
        "id": "fB7iDq2bHeKC"
      }
    },
    {
      "cell_type": "code",
      "source": [
        "# In this cell, we find the percentage of null values in each column\n",
        "# Percentage helps to easily compare number of null values with respect total datapoints\n",
        "# 19 columns have at least one null value\n",
        "\n",
        "pd.set_option('display.max_rows', 1000)\n",
        "null_cols=df.isnull().mean()*100\n",
        "print(f'Number of columns with null values = {(null_cols>0).sum()}')\n",
        "print(f'Number of columns with >10% null values = {(null_cols>10).sum()}')\n",
        "print()\n",
        "print(null_cols[null_cols>0].sort_values())\n",
        "pd.set_option('display.max_rows', 20)"
      ],
      "metadata": {
        "colab": {
          "base_uri": "https://localhost:8080/"
        },
        "id": "jQBJ1FjKdYd0",
        "outputId": "ef59d444-5198-4560-fac8-ae16120ae662"
      },
      "execution_count": 65,
      "outputs": [
        {
          "output_type": "stream",
          "name": "stdout",
          "text": [
            "Number of columns with null values = 19\n",
            "Number of columns with >10% null values = 6\n",
            "\n",
            "Electrical       0.068493\n",
            "MasVnrType       0.547945\n",
            "MasVnrArea       0.547945\n",
            "BsmtQual         2.534247\n",
            "BsmtCond         2.534247\n",
            "BsmtFinType1     2.534247\n",
            "BsmtExposure     2.602740\n",
            "BsmtFinType2     2.602740\n",
            "GarageCond       5.547945\n",
            "GarageQual       5.547945\n",
            "GarageFinish     5.547945\n",
            "GarageType       5.547945\n",
            "GarageYrBlt      5.547945\n",
            "LotFrontage     17.739726\n",
            "FireplaceQu     47.260274\n",
            "Fence           80.753425\n",
            "Alley           93.767123\n",
            "MiscFeature     96.301370\n",
            "PoolQC          99.520548\n",
            "dtype: float64\n"
          ]
        }
      ]
    },
    {
      "cell_type": "code",
      "source": [
        "# Based on above analysis I drop columns with more than 10% null values\n",
        "# Now we have 75 columns/variables.\n",
        "\n",
        "columns=null_cols[null_cols>10].index\n",
        "df=df.drop(columns=columns)\n",
        "df.shape"
      ],
      "metadata": {
        "id": "qfg_UzVvfgj6",
        "colab": {
          "base_uri": "https://localhost:8080/"
        },
        "outputId": "8f6d0126-faa5-448a-d319-27c055aa10be"
      },
      "execution_count": 66,
      "outputs": [
        {
          "output_type": "execute_result",
          "data": {
            "text/plain": [
              "(1460, 75)"
            ]
          },
          "metadata": {},
          "execution_count": 66
        }
      ]
    },
    {
      "cell_type": "code",
      "source": [
        "# In this cell, I find the percentage of null values in the remaining 10 columns\n",
        "# Because of the small number of null values in the remaining columns we can either drop or impute them\n",
        "# It can be seen that remaining variables have <10% null values\n",
        "\n",
        "null_cols=df.isnull().mean()*100\n",
        "print(f'Number of Null Variables = {(null_cols>0).sum()}')\n",
        "print()\n",
        "null_cols[null_cols>0].sort_values()"
      ],
      "metadata": {
        "colab": {
          "base_uri": "https://localhost:8080/"
        },
        "id": "a0-dpepP-9gS",
        "outputId": "01da9de2-6df0-43d1-dcbc-9f13a211029b"
      },
      "execution_count": 67,
      "outputs": [
        {
          "output_type": "stream",
          "name": "stdout",
          "text": [
            "Number of Null Variables = 13\n",
            "\n"
          ]
        },
        {
          "output_type": "execute_result",
          "data": {
            "text/plain": [
              "Electrical      0.068493\n",
              "MasVnrType      0.547945\n",
              "MasVnrArea      0.547945\n",
              "BsmtQual        2.534247\n",
              "BsmtCond        2.534247\n",
              "BsmtFinType1    2.534247\n",
              "BsmtExposure    2.602740\n",
              "BsmtFinType2    2.602740\n",
              "GarageType      5.547945\n",
              "GarageYrBlt     5.547945\n",
              "GarageFinish    5.547945\n",
              "GarageQual      5.547945\n",
              "GarageCond      5.547945\n",
              "dtype: float64"
            ]
          },
          "metadata": {},
          "execution_count": 67
        }
      ]
    },
    {
      "cell_type": "markdown",
      "source": [
        "## Fix Missing Values\n",
        "\n",
        "In this section, I handle remaining 13 variables having <10% null values. We have three choices:\n",
        "\n",
        "1. Imputation\n",
        "2. Drop the whole column\n",
        "3. Drop the rows with null/missing values\n",
        "\n",
        "The choice for each column is made by analyzing the number of unique values. The reason behind these choices for each columns is given below."
      ],
      "metadata": {
        "id": "Ui3jo4M8HmSI"
      }
    },
    {
      "cell_type": "code",
      "source": [
        "# Variable = Electrical \n",
        "# Categorical variable\n",
        "# \"SBrkr\" is the most frequent value (frequency = 91.4%) and its frequency is  high enough (>50%).\n",
        "# Hence, its missing values are imputed with the mode\n",
        "\n",
        "column='Electrical'\n",
        "print(df[column].value_counts(normalize=True)*100)\n",
        "print()\n",
        "mode=df[column].mode()[0]\n",
        "df[column]=df[column].fillna(mode)\n",
        "df[column].value_counts(normalize=True)*100"
      ],
      "metadata": {
        "colab": {
          "base_uri": "https://localhost:8080/"
        },
        "id": "kaOPes9__kGI",
        "outputId": "103f5fb7-5392-4c13-f914-c2a91b7a6184"
      },
      "execution_count": 68,
      "outputs": [
        {
          "output_type": "stream",
          "name": "stdout",
          "text": [
            "SBrkr    91.432488\n",
            "FuseA     6.442769\n",
            "FuseF     1.850583\n",
            "FuseP     0.205620\n",
            "Mix       0.068540\n",
            "Name: Electrical, dtype: float64\n",
            "\n"
          ]
        },
        {
          "output_type": "execute_result",
          "data": {
            "text/plain": [
              "SBrkr    91.438356\n",
              "FuseA     6.438356\n",
              "FuseF     1.849315\n",
              "FuseP     0.205479\n",
              "Mix       0.068493\n",
              "Name: Electrical, dtype: float64"
            ]
          },
          "metadata": {},
          "execution_count": 68
        }
      ]
    },
    {
      "cell_type": "code",
      "source": [
        "# Variable = MasVnrType\n",
        "# Categorical variable\n",
        "# \"None\" is the most frequent value (frequency = 59.5%) and its frequency is  high enough (>50%).\n",
        "# Hence, its missing values are imputed with the mode\n",
        "\n",
        "column='MasVnrType'\n",
        "print(df[column].value_counts(normalize=True)*100)\n",
        "print()\n",
        "mode=df[column].mode()[0]\n",
        "df[column]=df[column].fillna(mode)\n",
        "df[column].value_counts(normalize=True)*100"
      ],
      "metadata": {
        "colab": {
          "base_uri": "https://localhost:8080/"
        },
        "id": "tbwrnSuzKUTL",
        "outputId": "d37a4993-9572-44e8-d3c1-e210548be567"
      },
      "execution_count": 69,
      "outputs": [
        {
          "output_type": "stream",
          "name": "stdout",
          "text": [
            "None       59.504132\n",
            "BrkFace    30.647383\n",
            "Stone       8.815427\n",
            "BrkCmn      1.033058\n",
            "Name: MasVnrType, dtype: float64\n",
            "\n"
          ]
        },
        {
          "output_type": "execute_result",
          "data": {
            "text/plain": [
              "None       59.726027\n",
              "BrkFace    30.479452\n",
              "Stone       8.767123\n",
              "BrkCmn      1.027397\n",
              "Name: MasVnrType, dtype: float64"
            ]
          },
          "metadata": {},
          "execution_count": 69
        }
      ]
    },
    {
      "cell_type": "code",
      "source": [
        "# Variable = MasVnrArea\n",
        "# Numerical variable\n",
        "# The box of this variables indicates the presence of outliers\n",
        "# Hence, its missing values are imputed with the median\n",
        "\n",
        "column='MasVnrArea'\n",
        "\n",
        "df[column].plot(kind='box')\n",
        "plt.show()\n",
        "print(df[column].value_counts(normalize=True)*100)\n",
        "print()\n",
        "median=df[column].median()\n",
        "df[column]=df[column].fillna(mode)\n",
        "df[column].value_counts(normalize=True)*100"
      ],
      "metadata": {
        "colab": {
          "base_uri": "https://localhost:8080/",
          "height": 699
        },
        "id": "fu1KxfdbM7rA",
        "outputId": "80ae5f3c-b883-48f9-a292-ae7f746006d0"
      },
      "execution_count": 70,
      "outputs": [
        {
          "output_type": "display_data",
          "data": {
            "text/plain": [
              "<Figure size 432x288 with 1 Axes>"
            ],
            "image/png": "[encoded data removed]"
          },
          "metadata": {
            "needs_background": "light"
          }
        },
        {
          "output_type": "stream",
          "name": "stdout",
          "text": [
            "0.0      59.297521\n",
            "180.0     0.550964\n",
            "72.0      0.550964\n",
            "108.0     0.550964\n",
            "120.0     0.482094\n",
            "           ...    \n",
            "562.0     0.068871\n",
            "89.0      0.068871\n",
            "921.0     0.068871\n",
            "762.0     0.068871\n",
            "119.0     0.068871\n",
            "Name: MasVnrArea, Length: 327, dtype: float64\n",
            "\n"
          ]
        },
        {
          "output_type": "execute_result",
          "data": {
            "text/plain": [
              "0.0      58.972603\n",
              "None      0.547945\n",
              "72.0      0.547945\n",
              "108.0     0.547945\n",
              "180.0     0.547945\n",
              "           ...    \n",
              "562.0     0.068493\n",
              "89.0      0.068493\n",
              "921.0     0.068493\n",
              "762.0     0.068493\n",
              "119.0     0.068493\n",
              "Name: MasVnrArea, Length: 328, dtype: float64"
            ]
          },
          "metadata": {},
          "execution_count": 70
        }
      ]
    },
    {
      "cell_type": "code",
      "source": [
        "# Variable = BsmtQual\n",
        "# Categorical variable\n",
        "# \"TA\" is the most frequent value (frequency = 45.6%) but its frequency is not high enough (>50%).\n",
        "# Only 2.5% rows are missing this variable.\n",
        "# Hence, its best to drop rows with missing values.\n",
        "\n",
        "column='BsmtQual'\n",
        "print(df[column].value_counts(normalize=True)*100)\n",
        "print()\n",
        "print(df.shape)\n",
        "df = df[df[column].notna()]\n",
        "df.shape"
      ],
      "metadata": {
        "colab": {
          "base_uri": "https://localhost:8080/"
        },
        "id": "WjXFWyC6O0ye",
        "outputId": "f409763e-2ab6-4f7e-9f9e-ce9c9cfc3e2a"
      },
      "execution_count": 71,
      "outputs": [
        {
          "output_type": "stream",
          "name": "stdout",
          "text": [
            "TA    45.607871\n",
            "Gd    43.429375\n",
            "Ex     8.503162\n",
            "Fa     2.459592\n",
            "Name: BsmtQual, dtype: float64\n",
            "\n",
            "(1460, 75)\n"
          ]
        },
        {
          "output_type": "execute_result",
          "data": {
            "text/plain": [
              "(1423, 75)"
            ]
          },
          "metadata": {},
          "execution_count": 71
        }
      ]
    },
    {
      "cell_type": "code",
      "source": [
        "# Variable = BsmtCond\n",
        "# Categorical variable\n",
        "# Null rows of this variable have already been removed in the earlier steps\n",
        "\n",
        "column='BsmtCond'\n",
        "print(df[column].isnull().sum())"
      ],
      "metadata": {
        "id": "7LHs0F0OO7zv",
        "colab": {
          "base_uri": "https://localhost:8080/"
        },
        "outputId": "4fd482ff-a0fe-4381-93f0-74718abcceaa"
      },
      "execution_count": 72,
      "outputs": [
        {
          "output_type": "stream",
          "name": "stdout",
          "text": [
            "0\n"
          ]
        }
      ]
    },
    {
      "cell_type": "code",
      "source": [
        "# Variable = BsmtFinType1\n",
        "# Categorical variable\n",
        "# Null rows of this variable have already been removed in the earlier steps\n",
        "\n",
        "column='BsmtFinType1'\n",
        "print(df[column].isnull().sum())"
      ],
      "metadata": {
        "colab": {
          "base_uri": "https://localhost:8080/"
        },
        "id": "uWTIR2IhxkJc",
        "outputId": "0fafe72e-0c1b-41ad-d67a-a7043339c1b3"
      },
      "execution_count": 73,
      "outputs": [
        {
          "output_type": "stream",
          "name": "stdout",
          "text": [
            "0\n"
          ]
        }
      ]
    },
    {
      "cell_type": "code",
      "source": [
        "# Variable = BsmtExposure\n",
        "# Categorical variable\n",
        "# \"None\" is the most frequent value (frequency = 67%) and its frequency is  high enough (>50%).\n",
        "# Hence, its missing values are imputed with the mode\n",
        "\n",
        "column='BsmtExposure'\n",
        "print(df[column].value_counts(normalize=True)*100)\n",
        "print()\n",
        "mode=df[column].mode()[0]\n",
        "df[column]=df[column].fillna(mode)\n",
        "df[column].value_counts(normalize=True)*100"
      ],
      "metadata": {
        "colab": {
          "base_uri": "https://localhost:8080/"
        },
        "id": "bZsVuYkfzJdx",
        "outputId": "a86ade9c-560e-40c7-ae04-044ee383a961"
      },
      "execution_count": 74,
      "outputs": [
        {
          "output_type": "stream",
          "name": "stdout",
          "text": [
            "No    67.018284\n",
            "Av    15.541491\n",
            "Gd     9.423347\n",
            "Mn     8.016878\n",
            "Name: BsmtExposure, dtype: float64\n",
            "\n"
          ]
        },
        {
          "output_type": "execute_result",
          "data": {
            "text/plain": [
              "No    67.041462\n",
              "Av    15.530569\n",
              "Gd     9.416725\n",
              "Mn     8.011244\n",
              "Name: BsmtExposure, dtype: float64"
            ]
          },
          "metadata": {},
          "execution_count": 74
        }
      ]
    },
    {
      "cell_type": "code",
      "source": [
        "# Variable = BsmtFinType2\n",
        "# Categorical variable\n",
        "# \"None\" is the most frequent value (frequency = 67%) and its frequency is  high enough (>50%).\n",
        "# Hence, its missing values are imputed with the mode\n",
        "\n",
        "column='BsmtFinType2'\n",
        "print(df[column].value_counts(normalize=True)*100)\n",
        "print()\n",
        "mode=df[column].mode()[0]\n",
        "df[column]=df[column].fillna(mode)\n",
        "df[column].value_counts(normalize=True)*100"
      ],
      "metadata": {
        "colab": {
          "base_uri": "https://localhost:8080/"
        },
        "id": "81rDBke4z9ln",
        "outputId": "f4059a7e-a9a1-451f-ab78-67c4b65e7476"
      },
      "execution_count": 75,
      "outputs": [
        {
          "output_type": "stream",
          "name": "stdout",
          "text": [
            "Unf    88.326301\n",
            "Rec     3.797468\n",
            "LwQ     3.234880\n",
            "BLQ     2.320675\n",
            "ALQ     1.336146\n",
            "GLQ     0.984529\n",
            "Name: BsmtFinType2, dtype: float64\n",
            "\n"
          ]
        },
        {
          "output_type": "execute_result",
          "data": {
            "text/plain": [
              "Unf    88.334505\n",
              "Rec     3.794800\n",
              "LwQ     3.232607\n",
              "BLQ     2.319044\n",
              "ALQ     1.335207\n",
              "GLQ     0.983837\n",
              "Name: BsmtFinType2, dtype: float64"
            ]
          },
          "metadata": {},
          "execution_count": 75
        }
      ]
    },
    {
      "cell_type": "code",
      "source": [
        "# Variable = GarageType\n",
        "# Categorical variable\n",
        "# \"None\" is the most frequent value (frequency = 63.8%) and its frequency is  high enough (>50%).\n",
        "# Hence, its missing values are imputed with the mode\n",
        "\n",
        "column='GarageType'\n",
        "print(df[column].value_counts(normalize=True)*100)\n",
        "print()\n",
        "mode=df[column].mode()[0]\n",
        "df[column]=df[column].fillna(mode)\n",
        "df[column].value_counts(normalize=True)*100"
      ],
      "metadata": {
        "colab": {
          "base_uri": "https://localhost:8080/"
        },
        "id": "4ESeCTTG0MT6",
        "outputId": "d5d57fa5-c1ec-488f-85b8-0cf7e43c94ec"
      },
      "execution_count": 76,
      "outputs": [
        {
          "output_type": "stream",
          "name": "stdout",
          "text": [
            "Attchd     63.825056\n",
            "Detchd     27.353595\n",
            "BuiltIn     6.449222\n",
            "Basment     1.408451\n",
            "CarPort     0.518903\n",
            "2Types      0.444774\n",
            "Name: GarageType, dtype: float64\n",
            "\n"
          ]
        },
        {
          "output_type": "execute_result",
          "data": {
            "text/plain": [
              "Attchd     65.706254\n",
              "Detchd     25.931131\n",
              "BuiltIn     6.113844\n",
              "Basment     1.335207\n",
              "CarPort     0.491918\n",
              "2Types      0.421644\n",
              "Name: GarageType, dtype: float64"
            ]
          },
          "metadata": {},
          "execution_count": 76
        }
      ]
    },
    {
      "cell_type": "code",
      "source": [
        "# Variable = GarageYrBlt\n",
        "# Categorical variable\n",
        "# \"2005\" is the most frequent value (frequency = 4.8%) but its frequency is not high enough (>50%).\n",
        "# Only 5.5% rows are missing this variable.\n",
        "# Hence, its best to drop rows with missing values.\n",
        "\n",
        "column='GarageYrBlt'\n",
        "print(df[column].value_counts(normalize=True)*100)\n",
        "print()\n",
        "print(df.shape)\n",
        "df = df[df[column].notna()]\n",
        "df.shape"
      ],
      "metadata": {
        "colab": {
          "base_uri": "https://localhost:8080/"
        },
        "id": "lAY79Cmv0MXG",
        "outputId": "abfc311b-1f48-479e-a14d-34bd31eaa6f0"
      },
      "execution_count": 77,
      "outputs": [
        {
          "output_type": "stream",
          "name": "stdout",
          "text": [
            "2005.0    4.818384\n",
            "2006.0    4.373610\n",
            "2004.0    3.928836\n",
            "2003.0    3.632320\n",
            "2007.0    3.632320\n",
            "            ...   \n",
            "1900.0    0.074129\n",
            "1906.0    0.074129\n",
            "1908.0    0.074129\n",
            "1927.0    0.074129\n",
            "1933.0    0.074129\n",
            "Name: GarageYrBlt, Length: 97, dtype: float64\n",
            "\n",
            "(1423, 75)\n"
          ]
        },
        {
          "output_type": "execute_result",
          "data": {
            "text/plain": [
              "(1349, 75)"
            ]
          },
          "metadata": {},
          "execution_count": 77
        }
      ]
    },
    {
      "cell_type": "code",
      "source": [
        "# Variable = GarageFinish\n",
        "# Categorical variable\n",
        "# \"Unf\" is the most frequent value (frequency = 43%) but its frequency is not high enough (>50%).\n",
        "# Only 5.5% rows are missing this variable.\n",
        "# Hence, its best to drop rows with missing values.\n",
        "\n",
        "column='GarageFinish'\n",
        "print(df[column].value_counts(normalize=True)*100)\n",
        "print()\n",
        "print(df.shape)\n",
        "df = df[df[column].notna()]\n",
        "df.shape"
      ],
      "metadata": {
        "colab": {
          "base_uri": "https://localhost:8080/"
        },
        "id": "4AvZFaV305xw",
        "outputId": "a4ec7d38-1937-450e-e0a2-1295766172d7"
      },
      "execution_count": 78,
      "outputs": [
        {
          "output_type": "stream",
          "name": "stdout",
          "text": [
            "Unf    42.994811\n",
            "RFn    31.060044\n",
            "Fin    25.945145\n",
            "Name: GarageFinish, dtype: float64\n",
            "\n",
            "(1349, 75)\n"
          ]
        },
        {
          "output_type": "execute_result",
          "data": {
            "text/plain": [
              "(1349, 75)"
            ]
          },
          "metadata": {},
          "execution_count": 78
        }
      ]
    },
    {
      "cell_type": "code",
      "source": [
        "# Variable = GarageQual\n",
        "# Categorical variable\n",
        "# Null rows of this variable have already been removed in the earlier steps\n",
        "\n",
        "column='BsmtFinType1'\n",
        "print(df[column].isnull().sum())"
      ],
      "metadata": {
        "colab": {
          "base_uri": "https://localhost:8080/"
        },
        "id": "9nWyQ7Jjg19Z",
        "outputId": "cf22177a-6974-42bd-9ec4-8efa4e2c6342"
      },
      "execution_count": 79,
      "outputs": [
        {
          "output_type": "stream",
          "name": "stdout",
          "text": [
            "0\n"
          ]
        }
      ]
    },
    {
      "cell_type": "code",
      "source": [
        "# Variable = GarageCond\n",
        "# Categorical variable\n",
        "# Null rows of this variable have already been removed in the earlier steps\n",
        "\n",
        "column='BsmtFinType1'\n",
        "print(df[column].isnull().sum())"
      ],
      "metadata": {
        "colab": {
          "base_uri": "https://localhost:8080/"
        },
        "id": "tESe1rFrg16A",
        "outputId": "b9b825b8-97da-4694-b8d1-a2712f136225"
      },
      "execution_count": 80,
      "outputs": [
        {
          "output_type": "stream",
          "name": "stdout",
          "text": [
            "0\n"
          ]
        }
      ]
    },
    {
      "cell_type": "code",
      "source": [
        "# Checking for null values and data types.\n",
        "# There are no null values in the dataset.\n",
        "\n",
        "pd.set_option('display.max_rows', 1000)\n",
        "null_cols=df.isnull().mean()*100\n",
        "print(f'Number of columns with null values = {(null_cols>0).sum()}')\n",
        "print(f'Number of columns with >10% null values = {(null_cols>10).sum()}')\n",
        "print()\n",
        "print(f'Shape = {df.shape}')\n",
        "pd.set_option('display.max_rows', 20)"
      ],
      "metadata": {
        "colab": {
          "base_uri": "https://localhost:8080/"
        },
        "id": "9vUioNkohkhp",
        "outputId": "a3914dc1-1665-49d4-b643-77abee401002"
      },
      "execution_count": 81,
      "outputs": [
        {
          "output_type": "stream",
          "name": "stdout",
          "text": [
            "Number of columns with null values = 0\n",
            "Number of columns with >10% null values = 0\n",
            "\n",
            "Shape = (1349, 75)\n"
          ]
        }
      ]
    },
    {
      "cell_type": "code",
      "source": [
        "df.columns"
      ],
      "metadata": {
        "colab": {
          "base_uri": "https://localhost:8080/"
        },
        "id": "_dkgoqBYi-gL",
        "outputId": "dea04767-3dc8-4bd3-98e1-f3433a68760f"
      },
      "execution_count": 82,
      "outputs": [
        {
          "output_type": "execute_result",
          "data": {
            "text/plain": [
              "Index(['Id', 'MSSubClass', 'MSZoning', 'LotArea', 'Street', 'LotShape',\n",
              "       'LandContour', 'Utilities', 'LotConfig', 'LandSlope', 'Neighborhood',\n",
              "       'Condition1', 'Condition2', 'BldgType', 'HouseStyle', 'OverallQual',\n",
              "       'OverallCond', 'YearBuilt', 'YearRemodAdd', 'RoofStyle', 'RoofMatl',\n",
              "       'Exterior1st', 'Exterior2nd', 'MasVnrType', 'MasVnrArea', 'ExterQual',\n",
              "       'ExterCond', 'Foundation', 'BsmtQual', 'BsmtCond', 'BsmtExposure',\n",
              "       'BsmtFinType1', 'BsmtFinSF1', 'BsmtFinType2', 'BsmtFinSF2', 'BsmtUnfSF',\n",
              "       'TotalBsmtSF', 'Heating', 'HeatingQC', 'CentralAir', 'Electrical',\n",
              "       '1stFlrSF', '2ndFlrSF', 'LowQualFinSF', 'GrLivArea', 'BsmtFullBath',\n",
              "       'BsmtHalfBath', 'FullBath', 'HalfBath', 'BedroomAbvGr', 'KitchenAbvGr',\n",
              "       'KitchenQual', 'TotRmsAbvGrd', 'Functional', 'Fireplaces', 'GarageType',\n",
              "       'GarageYrBlt', 'GarageFinish', 'GarageCars', 'GarageArea', 'GarageQual',\n",
              "       'GarageCond', 'PavedDrive', 'WoodDeckSF', 'OpenPorchSF',\n",
              "       'EnclosedPorch', '3SsnPorch', 'ScreenPorch', 'PoolArea', 'MiscVal',\n",
              "       'MoSold', 'YrSold', 'SaleType', 'SaleCondition', 'SalePrice'],\n",
              "      dtype='object')"
            ]
          },
          "metadata": {},
          "execution_count": 82
        }
      ]
    },
    {
      "cell_type": "markdown",
      "source": [
        "## Fix Invalid Valus"
      ],
      "metadata": {
        "id": "3HQJRhEMK5V3"
      }
    },
    {
      "cell_type": "code",
      "source": [
        "# Variable = MasVnrArea\n",
        "# Numerical variable\n",
        "# 0.6% rows has invalid value 'None'\n",
        "# Because 0.6% (8 rows) is a small number, we can drop these rows\n",
        "\n",
        "column='MasVnrArea'\n",
        "print(df[column].value_counts(normalize=True)*100)\n",
        "print()\n",
        "print(df.shape)\n",
        "df = df[~(df[column]=='None')]\n",
        "df.shape"
      ],
      "metadata": {
        "colab": {
          "base_uri": "https://localhost:8080/"
        },
        "id": "5G08_5e7tBue",
        "outputId": "94c21178-c428-4588-cd54-ba092f91b1f4"
      },
      "execution_count": 83,
      "outputs": [
        {
          "output_type": "stream",
          "name": "stdout",
          "text": [
            "0.0      56.412157\n",
            "72.0      0.593032\n",
            "108.0     0.593032\n",
            "None      0.593032\n",
            "180.0     0.593032\n",
            "           ...    \n",
            "562.0     0.074129\n",
            "89.0      0.074129\n",
            "921.0     0.074129\n",
            "762.0     0.074129\n",
            "119.0     0.074129\n",
            "Name: MasVnrArea, Length: 327, dtype: float64\n",
            "\n",
            "(1349, 75)\n"
          ]
        },
        {
          "output_type": "execute_result",
          "data": {
            "text/plain": [
              "(1341, 75)"
            ]
          },
          "metadata": {},
          "execution_count": 83
        }
      ]
    },
    {
      "cell_type": "markdown",
      "source": [
        "## Drop Unnecessary Variables\n"
      ],
      "metadata": {
        "id": "7suSG3NBigDx"
      }
    },
    {
      "cell_type": "code",
      "source": [
        "# Variable 'Id' does not contain useful information\n",
        "# Values of variables - 'MoSold','YrSold','SaleType','SaleCondition' cannot be deteremined apriori for new data\n",
        "# Hence, we drop these variable\n",
        "\n",
        "print(df.shape)\n",
        "df=df.drop(columns=['Id','MoSold','YrSold','SaleType','SaleCondition'])\n",
        "df.shape"
      ],
      "metadata": {
        "colab": {
          "base_uri": "https://localhost:8080/"
        },
        "id": "ChruzH1ji31G",
        "outputId": "fb31082d-b2e7-48ba-dd65-876ed5500431"
      },
      "execution_count": 84,
      "outputs": [
        {
          "output_type": "stream",
          "name": "stdout",
          "text": [
            "(1341, 75)\n"
          ]
        },
        {
          "output_type": "execute_result",
          "data": {
            "text/plain": [
              "(1341, 70)"
            ]
          },
          "metadata": {},
          "execution_count": 84
        }
      ]
    },
    {
      "cell_type": "markdown",
      "source": [
        "## Fix Incorrect Data Types\n"
      ],
      "metadata": {
        "id": "bCtQwk2pjtlH"
      }
    },
    {
      "cell_type": "code",
      "source": [
        "# Check datatypes\n",
        "\n",
        "pd.set_option('display.max_rows', 100)\n",
        "print(df.dtypes)\n",
        "pd.set_option('display.max_rows', 10)"
      ],
      "metadata": {
        "colab": {
          "base_uri": "https://localhost:8080/"
        },
        "id": "jntlO3KdjgX5",
        "outputId": "3bb0b04a-4648-4d77-8868-f1763a8e4074"
      },
      "execution_count": 85,
      "outputs": [
        {
          "output_type": "stream",
          "name": "stdout",
          "text": [
            "MSSubClass         int64\n",
            "MSZoning          object\n",
            "LotArea            int64\n",
            "Street            object\n",
            "LotShape          object\n",
            "LandContour       object\n",
            "Utilities         object\n",
            "LotConfig         object\n",
            "LandSlope         object\n",
            "Neighborhood      object\n",
            "Condition1        object\n",
            "Condition2        object\n",
            "BldgType          object\n",
            "HouseStyle        object\n",
            "OverallQual        int64\n",
            "OverallCond        int64\n",
            "YearBuilt          int64\n",
            "YearRemodAdd       int64\n",
            "RoofStyle         object\n",
            "RoofMatl          object\n",
            "Exterior1st       object\n",
            "Exterior2nd       object\n",
            "MasVnrType        object\n",
            "MasVnrArea        object\n",
            "ExterQual         object\n",
            "ExterCond         object\n",
            "Foundation        object\n",
            "BsmtQual          object\n",
            "BsmtCond          object\n",
            "BsmtExposure      object\n",
            "BsmtFinType1      object\n",
            "BsmtFinSF1         int64\n",
            "BsmtFinType2      object\n",
            "BsmtFinSF2         int64\n",
            "BsmtUnfSF          int64\n",
            "TotalBsmtSF        int64\n",
            "Heating           object\n",
            "HeatingQC         object\n",
            "CentralAir        object\n",
            "Electrical        object\n",
            "1stFlrSF           int64\n",
            "2ndFlrSF           int64\n",
            "LowQualFinSF       int64\n",
            "GrLivArea          int64\n",
            "BsmtFullBath       int64\n",
            "BsmtHalfBath       int64\n",
            "FullBath           int64\n",
            "HalfBath           int64\n",
            "BedroomAbvGr       int64\n",
            "KitchenAbvGr       int64\n",
            "KitchenQual       object\n",
            "TotRmsAbvGrd       int64\n",
            "Functional        object\n",
            "Fireplaces         int64\n",
            "GarageType        object\n",
            "GarageYrBlt      float64\n",
            "GarageFinish      object\n",
            "GarageCars         int64\n",
            "GarageArea         int64\n",
            "GarageQual        object\n",
            "GarageCond        object\n",
            "PavedDrive        object\n",
            "WoodDeckSF         int64\n",
            "OpenPorchSF        int64\n",
            "EnclosedPorch      int64\n",
            "3SsnPorch          int64\n",
            "ScreenPorch        int64\n",
            "PoolArea           int64\n",
            "MiscVal            int64\n",
            "SalePrice          int64\n",
            "dtype: object\n"
          ]
        }
      ]
    },
    {
      "cell_type": "code",
      "source": [
        "# # convert categorical variables to object datatype\n",
        "\n",
        "# convert_to_cat=['MSSubClass','OverallQual','OverallCond']\n",
        "\n",
        "# for column in convert_to_cat:\n",
        "#   df[column]=df[column].astype('object')\n",
        "\n",
        "# df[convert_to_cat].dtypes"
      ],
      "metadata": {
        "id": "1l2KmreuoqmF"
      },
      "execution_count": 86,
      "outputs": []
    },
    {
      "cell_type": "code",
      "source": [
        "# convert numerical variables to float datatype\n",
        "\n",
        "df['MasVnrArea']=df['MasVnrArea'].astype('float')\n",
        "\n",
        "df['MasVnrArea'].dtype"
      ],
      "metadata": {
        "colab": {
          "base_uri": "https://localhost:8080/"
        },
        "id": "jPxeSdO8sfvm",
        "outputId": "85889e12-e9bf-4436-d678-b1184f2a3c68"
      },
      "execution_count": 87,
      "outputs": [
        {
          "output_type": "execute_result",
          "data": {
            "text/plain": [
              "dtype('float64')"
            ]
          },
          "metadata": {},
          "execution_count": 87
        }
      ]
    },
    {
      "cell_type": "markdown",
      "source": [
        "## Find categorical and numerical variables"
      ],
      "metadata": {
        "id": "IRIwtmXQ1i21"
      }
    },
    {
      "cell_type": "code",
      "source": [
        "# Find categorical and numerical variables\n",
        "\n",
        "cat_var=df.select_dtypes(include=['object']).columns\n",
        "\n",
        "num_var=df.drop('SalePrice',axis=1).select_dtypes(include=['int','float']).columns\n",
        "\n",
        "print(f'Number of categorical variables = {len(cat_var)}')\n",
        "print(f'Number of numerical variables = {len(num_var)}')"
      ],
      "metadata": {
        "colab": {
          "base_uri": "https://localhost:8080/"
        },
        "id": "62gy8qcB_jdU",
        "outputId": "8ea944d8-3c57-427f-a22f-c57c0cb343af"
      },
      "execution_count": 88,
      "outputs": [
        {
          "output_type": "stream",
          "name": "stdout",
          "text": [
            "Number of categorical variables = 36\n",
            "Number of numerical variables = 33\n"
          ]
        }
      ]
    },
    {
      "cell_type": "markdown",
      "source": [
        "# EDA"
      ],
      "metadata": {
        "id": "fWm5xbi720Nr"
      }
    },
    {
      "cell_type": "markdown",
      "source": [
        "## Summary Statistics"
      ],
      "metadata": {
        "id": "Z2nS4b0gjeFc"
      }
    },
    {
      "cell_type": "code",
      "source": [
        "df.describe()"
      ],
      "metadata": {
        "colab": {
          "base_uri": "https://localhost:8080/",
          "height": 394
        },
        "id": "2B8yKdATjdzx",
        "outputId": "e96b874d-a383-45ff-8d92-c0f875647abc"
      },
      "execution_count": 89,
      "outputs": [
        {
          "output_type": "execute_result",
          "data": {
            "text/plain": [
              "        MSSubClass        LotArea  OverallQual  OverallCond    YearBuilt  \\\n",
              "count  1341.000000    1341.000000  1341.000000  1341.000000  1341.000000   \n",
              "mean     56.129754   10707.992543     6.220731     5.595078  1973.097688   \n",
              "std      41.223485   10325.471320     1.324472     1.077285    29.566018   \n",
              "min      20.000000    1300.000000     2.000000     2.000000  1880.000000   \n",
              "25%      20.000000    7750.000000     5.000000     5.000000  1956.000000   \n",
              "50%      50.000000    9600.000000     6.000000     5.000000  1976.000000   \n",
              "75%      70.000000   11764.000000     7.000000     6.000000  2001.000000   \n",
              "max     190.000000  215245.000000    10.000000     9.000000  2010.000000   \n",
              "\n",
              "       YearRemodAdd   MasVnrArea   BsmtFinSF1   BsmtFinSF2    BsmtUnfSF  ...  \\\n",
              "count   1341.000000  1341.000000  1341.000000  1341.000000  1341.000000  ...   \n",
              "mean    1985.710664   110.441462   464.034303    49.465324   583.371365  ...   \n",
              "std       20.293145   185.493039   458.983337   166.435770   440.479524  ...   \n",
              "min     1950.000000     0.000000     0.000000     0.000000     0.000000  ...   \n",
              "25%     1968.000000     0.000000     0.000000     0.000000   248.000000  ...   \n",
              "50%     1995.000000     0.000000   412.000000     0.000000   490.000000  ...   \n",
              "75%     2004.000000   174.000000   733.000000     0.000000   816.000000  ...   \n",
              "max     2010.000000  1600.000000  5644.000000  1474.000000  2336.000000  ...   \n",
              "\n",
              "        GarageCars   GarageArea   WoodDeckSF  OpenPorchSF  EnclosedPorch  \\\n",
              "count  1341.000000  1341.000000  1341.000000  1341.000000    1341.000000   \n",
              "mean      1.872483   501.636092    99.344519    47.747204      21.216257   \n",
              "std       0.634337   186.861051   127.428970    65.328717      60.784126   \n",
              "min       1.000000   160.000000     0.000000     0.000000       0.000000   \n",
              "25%       1.000000   379.000000     0.000000     0.000000       0.000000   \n",
              "50%       2.000000   484.000000    12.000000    28.000000       0.000000   \n",
              "75%       2.000000   583.000000   173.000000    70.000000       0.000000   \n",
              "max       4.000000  1418.000000   857.000000   547.000000     552.000000   \n",
              "\n",
              "         3SsnPorch  ScreenPorch     PoolArea       MiscVal      SalePrice  \n",
              "count  1341.000000  1341.000000  1341.000000   1341.000000    1341.000000  \n",
              "mean      3.577927    16.397465     3.003729     42.836689  186824.209545  \n",
              "std      30.191245    57.991772    41.914581    507.491273   78872.093585  \n",
              "min       0.000000     0.000000     0.000000      0.000000   35311.000000  \n",
              "25%       0.000000     0.000000     0.000000      0.000000  135000.000000  \n",
              "50%       0.000000     0.000000     0.000000      0.000000  168500.000000  \n",
              "75%       0.000000     0.000000     0.000000      0.000000  220000.000000  \n",
              "max     508.000000   480.000000   738.000000  15500.000000  755000.000000  \n",
              "\n",
              "[8 rows x 34 columns]"
            ],
            "text/html": [
              "\n",
              "  <div id=\"df-8737cb2a-3fbd-446a-b749-156f0c008074\">\n",
              "    <div class=\"colab-df-container\">\n",
              "      <div>\n",
              "<style scoped>\n",
              "    .dataframe tbody tr th:only-of-type {\n",
              "        vertical-align: middle;\n",
              "    }\n",
              "\n",
              "    .dataframe tbody tr th {\n",
              "        vertical-align: top;\n",
              "    }\n",
              "\n",
              "    .dataframe thead th {\n",
              "        text-align: right;\n",
              "    }\n",
              "</style>\n",
              "<table border=\"1\" class=\"dataframe\">\n",
              "  <thead>\n",
              "    <tr style=\"text-align: right;\">\n",
              "      <th></th>\n",
              "      <th>MSSubClass</th>\n",
              "      <th>LotArea</th>\n",
              "      <th>OverallQual</th>\n",
              "      <th>OverallCond</th>\n",
              "      <th>YearBuilt</th>\n",
              "      <th>YearRemodAdd</th>\n",
              "      <th>MasVnrArea</th>\n",
              "      <th>BsmtFinSF1</th>\n",
              "      <th>BsmtFinSF2</th>\n",
              "      <th>BsmtUnfSF</th>\n",
              "      <th>...</th>\n",
              "      <th>GarageCars</th>\n",
              "      <th>GarageArea</th>\n",
              "      <th>WoodDeckSF</th>\n",
              "      <th>OpenPorchSF</th>\n",
              "      <th>EnclosedPorch</th>\n",
              "      <th>3SsnPorch</th>\n",
              "      <th>ScreenPorch</th>\n",
              "      <th>PoolArea</th>\n",
              "      <th>MiscVal</th>\n",
              "      <th>SalePrice</th>\n",
              "    </tr>\n",
              "  </thead>\n",
              "  <tbody>\n",
              "    <tr>\n",
              "      <th>count</th>\n",
              "      <td>1341.000000</td>\n",
              "      <td>1341.000000</td>\n",
              "      <td>1341.000000</td>\n",
              "      <td>1341.000000</td>\n",
              "      <td>1341.000000</td>\n",
              "      <td>1341.000000</td>\n",
              "      <td>1341.000000</td>\n",
              "      <td>1341.000000</td>\n",
              "      <td>1341.000000</td>\n",
              "      <td>1341.000000</td>\n",
              "      <td>...</td>\n",
              "      <td>1341.000000</td>\n",
              "      <td>1341.000000</td>\n",
              "      <td>1341.000000</td>\n",
              "      <td>1341.000000</td>\n",
              "      <td>1341.000000</td>\n",
              "      <td>1341.000000</td>\n",
              "      <td>1341.000000</td>\n",
              "      <td>1341.000000</td>\n",
              "      <td>1341.000000</td>\n",
              "      <td>1341.000000</td>\n",
              "    </tr>\n",
              "    <tr>\n",
              "      <th>mean</th>\n",
              "      <td>56.129754</td>\n",
              "      <td>10707.992543</td>\n",
              "      <td>6.220731</td>\n",
              "      <td>5.595078</td>\n",
              "      <td>1973.097688</td>\n",
              "      <td>1985.710664</td>\n",
              "      <td>110.441462</td>\n",
              "      <td>464.034303</td>\n",
              "      <td>49.465324</td>\n",
              "      <td>583.371365</td>\n",
              "      <td>...</td>\n",
              "      <td>1.872483</td>\n",
              "      <td>501.636092</td>\n",
              "      <td>99.344519</td>\n",
              "      <td>47.747204</td>\n",
              "      <td>21.216257</td>\n",
              "      <td>3.577927</td>\n",
              "      <td>16.397465</td>\n",
              "      <td>3.003729</td>\n",
              "      <td>42.836689</td>\n",
              "      <td>186824.209545</td>\n",
              "    </tr>\n",
              "    <tr>\n",
              "      <th>std</th>\n",
              "      <td>41.223485</td>\n",
              "      <td>10325.471320</td>\n",
              "      <td>1.324472</td>\n",
              "      <td>1.077285</td>\n",
              "      <td>29.566018</td>\n",
              "      <td>20.293145</td>\n",
              "      <td>185.493039</td>\n",
              "      <td>458.983337</td>\n",
              "      <td>166.435770</td>\n",
              "      <td>440.479524</td>\n",
              "      <td>...</td>\n",
              "      <td>0.634337</td>\n",
              "      <td>186.861051</td>\n",
              "      <td>127.428970</td>\n",
              "      <td>65.328717</td>\n",
              "      <td>60.784126</td>\n",
              "      <td>30.191245</td>\n",
              "      <td>57.991772</td>\n",
              "      <td>41.914581</td>\n",
              "      <td>507.491273</td>\n",
              "      <td>78872.093585</td>\n",
              "    </tr>\n",
              "    <tr>\n",
              "      <th>min</th>\n",
              "      <td>20.000000</td>\n",
              "      <td>1300.000000</td>\n",
              "      <td>2.000000</td>\n",
              "      <td>2.000000</td>\n",
              "      <td>1880.000000</td>\n",
              "      <td>1950.000000</td>\n",
              "      <td>0.000000</td>\n",
              "      <td>0.000000</td>\n",
              "      <td>0.000000</td>\n",
              "      <td>0.000000</td>\n",
              "      <td>...</td>\n",
              "      <td>1.000000</td>\n",
              "      <td>160.000000</td>\n",
              "      <td>0.000000</td>\n",
              "      <td>0.000000</td>\n",
              "      <td>0.000000</td>\n",
              "      <td>0.000000</td>\n",
              "      <td>0.000000</td>\n",
              "      <td>0.000000</td>\n",
              "      <td>0.000000</td>\n",
              "      <td>35311.000000</td>\n",
              "    </tr>\n",
              "    <tr>\n",
              "      <th>25%</th>\n",
              "      <td>20.000000</td>\n",
              "      <td>7750.000000</td>\n",
              "      <td>5.000000</td>\n",
              "      <td>5.000000</td>\n",
              "      <td>1956.000000</td>\n",
              "      <td>1968.000000</td>\n",
              "      <td>0.000000</td>\n",
              "      <td>0.000000</td>\n",
              "      <td>0.000000</td>\n",
              "      <td>248.000000</td>\n",
              "      <td>...</td>\n",
              "      <td>1.000000</td>\n",
              "      <td>379.000000</td>\n",
              "      <td>0.000000</td>\n",
              "      <td>0.000000</td>\n",
              "      <td>0.000000</td>\n",
              "      <td>0.000000</td>\n",
              "      <td>0.000000</td>\n",
              "      <td>0.000000</td>\n",
              "      <td>0.000000</td>\n",
              "      <td>135000.000000</td>\n",
              "    </tr>\n",
              "    <tr>\n",
              "      <th>50%</th>\n",
              "      <td>50.000000</td>\n",
              "      <td>9600.000000</td>\n",
              "      <td>6.000000</td>\n",
              "      <td>5.000000</td>\n",
              "      <td>1976.000000</td>\n",
              "      <td>1995.000000</td>\n",
              "      <td>0.000000</td>\n",
              "      <td>412.000000</td>\n",
              "      <td>0.000000</td>\n",
              "      <td>490.000000</td>\n",
              "      <td>...</td>\n",
              "      <td>2.000000</td>\n",
              "      <td>484.000000</td>\n",
              "      <td>12.000000</td>\n",
              "      <td>28.000000</td>\n",
              "      <td>0.000000</td>\n",
              "      <td>0.000000</td>\n",
              "      <td>0.000000</td>\n",
              "      <td>0.000000</td>\n",
              "      <td>0.000000</td>\n",
              "      <td>168500.000000</td>\n",
              "    </tr>\n",
              "    <tr>\n",
              "      <th>75%</th>\n",
              "      <td>70.000000</td>\n",
              "      <td>11764.000000</td>\n",
              "      <td>7.000000</td>\n",
              "      <td>6.000000</td>\n",
              "      <td>2001.000000</td>\n",
              "      <td>2004.000000</td>\n",
              "      <td>174.000000</td>\n",
              "      <td>733.000000</td>\n",
              "      <td>0.000000</td>\n",
              "      <td>816.000000</td>\n",
              "      <td>...</td>\n",
              "      <td>2.000000</td>\n",
              "      <td>583.000000</td>\n",
              "      <td>173.000000</td>\n",
              "      <td>70.000000</td>\n",
              "      <td>0.000000</td>\n",
              "      <td>0.000000</td>\n",
              "      <td>0.000000</td>\n",
              "      <td>0.000000</td>\n",
              "      <td>0.000000</td>\n",
              "      <td>220000.000000</td>\n",
              "    </tr>\n",
              "    <tr>\n",
              "      <th>max</th>\n",
              "      <td>190.000000</td>\n",
              "      <td>215245.000000</td>\n",
              "      <td>10.000000</td>\n",
              "      <td>9.000000</td>\n",
              "      <td>2010.000000</td>\n",
              "      <td>2010.000000</td>\n",
              "      <td>1600.000000</td>\n",
              "      <td>5644.000000</td>\n",
              "      <td>1474.000000</td>\n",
              "      <td>2336.000000</td>\n",
              "      <td>...</td>\n",
              "      <td>4.000000</td>\n",
              "      <td>1418.000000</td>\n",
              "      <td>857.000000</td>\n",
              "      <td>547.000000</td>\n",
              "      <td>552.000000</td>\n",
              "      <td>508.000000</td>\n",
              "      <td>480.000000</td>\n",
              "      <td>738.000000</td>\n",
              "      <td>15500.000000</td>\n",
              "      <td>755000.000000</td>\n",
              "    </tr>\n",
              "  </tbody>\n",
              "</table>\n",
              "<p>8 rows × 34 columns</p>\n",
              "</div>\n",
              "      <button class=\"colab-df-convert\" onclick=\"convertToInteractive('df-8737cb2a-3fbd-446a-b749-156f0c008074')\"\n",
              "              title=\"Convert this dataframe to an interactive table.\"\n",
              "              style=\"display:none;\">\n",
              "        \n",
              "  <svg xmlns=\"http://www.w3.org/2000/svg\" height=\"24px\"viewBox=\"0 0 24 24\"\n",
              "       width=\"24px\">\n",
              "    <path d=\"M0 0h24v24H0V0z\" fill=\"none\"/>\n",
              "    <path d=\"M18.56 5.44l.94 2.06.94-2.06 2.06-.94-2.06-.94-.94-2.06-.94 2.06-2.06.94zm-11 1L8.5 8.5l.94-2.06 2.06-.94-2.06-.94L8.5 2.5l-.94 2.06-2.06.94zm10 10l.94 2.06.94-2.06 2.06-.94-2.06-.94-.94-2.06-.94 2.06-2.06.94z\"/><path d=\"M17.41 7.96l-1.37-1.37c-.4-.4-.92-.59-1.43-.59-.52 0-1.04.2-1.43.59L10.3 9.45l-7.72 7.72c-.78.78-.78 2.05 0 2.83L4 21.41c.39.39.9.59 1.41.59.51 0 1.02-.2 1.41-.59l7.78-7.78 2.81-2.81c.8-.78.8-2.07 0-2.86zM5.41 20L4 18.59l7.72-7.72 1.47 1.35L5.41 20z\"/>\n",
              "  </svg>\n",
              "      </button>\n",
              "      \n",
              "  <style>\n",
              "    .colab-df-container {\n",
              "      display:flex;\n",
              "      flex-wrap:wrap;\n",
              "      gap: 12px;\n",
              "    }\n",
              "\n",
              "    .colab-df-convert {\n",
              "      background-color: #E8F0FE;\n",
              "      border: none;\n",
              "      border-radius: 50%;\n",
              "      cursor: pointer;\n",
              "      display: none;\n",
              "      fill: #1967D2;\n",
              "      height: 32px;\n",
              "      padding: 0 0 0 0;\n",
              "      width: 32px;\n",
              "    }\n",
              "\n",
              "    .colab-df-convert:hover {\n",
              "      background-color: #E2EBFA;\n",
              "      box-shadow: 0px 1px 2px rgba(60, 64, 67, 0.3), 0px 1px 3px 1px rgba(60, 64, 67, 0.15);\n",
              "      fill: #174EA6;\n",
              "    }\n",
              "\n",
              "    [theme=dark] .colab-df-convert {\n",
              "      background-color: #3B4455;\n",
              "      fill: #D2E3FC;\n",
              "    }\n",
              "\n",
              "    [theme=dark] .colab-df-convert:hover {\n",
              "      background-color: #434B5C;\n",
              "      box-shadow: 0px 1px 3px 1px rgba(0, 0, 0, 0.15);\n",
              "      filter: drop-shadow(0px 1px 2px rgba(0, 0, 0, 0.3));\n",
              "      fill: #FFFFFF;\n",
              "    }\n",
              "  </style>\n",
              "\n",
              "      <script>\n",
              "        const buttonEl =\n",
              "          document.querySelector('#df-8737cb2a-3fbd-446a-b749-156f0c008074 button.colab-df-convert');\n",
              "        buttonEl.style.display =\n",
              "          google.colab.kernel.accessAllowed ? 'block' : 'none';\n",
              "\n",
              "        async function convertToInteractive(key) {\n",
              "          const element = document.querySelector('#df-8737cb2a-3fbd-446a-b749-156f0c008074');\n",
              "          const dataTable =\n",
              "            await google.colab.kernel.invokeFunction('convertToInteractive',\n",
              "                                                     [key], {});\n",
              "          if (!dataTable) return;\n",
              "\n",
              "          const docLinkHtml = 'Like what you see? Visit the ' +\n",
              "            '<a target=\"_blank\" href=https://colab.research.google.com/notebooks/data_table.ipynb>data table notebook</a>'\n",
              "            + ' to learn more about interactive tables.';\n",
              "          element.innerHTML = '';\n",
              "          dataTable['output_type'] = 'display_data';\n",
              "          await google.colab.output.renderOutput(dataTable, element);\n",
              "          const docLink = document.createElement('div');\n",
              "          docLink.innerHTML = docLinkHtml;\n",
              "          element.appendChild(docLink);\n",
              "        }\n",
              "      </script>\n",
              "    </div>\n",
              "  </div>\n",
              "  "
            ]
          },
          "metadata": {},
          "execution_count": 89
        }
      ]
    },
    {
      "cell_type": "markdown",
      "source": [
        "## Bivariate Analysis\n",
        "I performed bivariate analysis between variables and target variables. I did not perform univariate analysis on 69 variable because-- (i) large number of variables (ii) the goal of the project is to find variables having highest impact on the target variable"
      ],
      "metadata": {
        "id": "oifGAjGj-k20"
      }
    },
    {
      "cell_type": "code",
      "source": [
        "# Found linear and non linear relationship between variables and target variable\n",
        "\n",
        "plt.figure(figsize=(25,15))\n",
        "for idx,column in enumerate(num_var):\n",
        "  ax=plt.subplot(6, 6, idx+1)\n",
        "  ax.scatter(df[column],df['SalePrice'])\n",
        "  ax.set_title(column)\n",
        "plt.tight_layout()"
      ],
      "metadata": {
        "colab": {
          "base_uri": "https://localhost:8080/",
          "height": 393
        },
        "id": "NjLmDpr04ilL",
        "outputId": "71df4203-5365-4920-8634-ded1cdffd94d"
      },
      "execution_count": 90,
      "outputs": [
        {
          "output_type": "display_data",
          "data": {
            "text/plain": [
              "<Figure size 1800x1080 with 33 Axes>"
            ],
            "image/png": "[encoded data removed]"
          },
          "metadata": {
            "needs_background": "light"
          }
        }
      ]
    },
    {
      "cell_type": "code",
      "source": [
        "# Found linear and non linear relationship between variables and target variable\n",
        "\n",
        "plt.figure(figsize=(25,15))\n",
        "for idx,column in enumerate(cat_var):\n",
        "  plt.subplot(6, 7, idx+1)\n",
        "  sns.boxplot(x = column, y = 'SalePrice', data = df)\n",
        "  plt.xticks(rotation=45)\n",
        "plt.tight_layout()"
      ],
      "metadata": {
        "colab": {
          "base_uri": "https://localhost:8080/",
          "height": 393
        },
        "id": "9rzawn8D22VT",
        "outputId": "a6976225-c3d8-46eb-fc36-a9f47b08b95d"
      },
      "execution_count": 91,
      "outputs": [
        {
          "output_type": "display_data",
          "data": {
            "text/plain": [
              "<Figure size 1800x1080 with 36 Axes>"
            ],
            "image/png": "[encoded data removed]"
          },
          "metadata": {
            "needs_background": "light"
          }
        }
      ]
    },
    {
      "cell_type": "markdown",
      "source": [
        "# Create Derived Metrics\n",
        "\n",
        "Because of non linear relationship I created polynomial variables"
      ],
      "metadata": {
        "id": "gMTuVpYnx4x0"
      }
    },
    {
      "cell_type": "code",
      "source": [
        "for column in num_var:\n",
        "  df[f'{column}_square']=df[column]**2\n",
        "df"
      ],
      "metadata": {
        "colab": {
          "base_uri": "https://localhost:8080/",
          "height": 488
        },
        "id": "4qfsfBv-APmh",
        "outputId": "472f3777-4215-436e-f983-293396c62b42"
      },
      "execution_count": 92,
      "outputs": [
        {
          "output_type": "execute_result",
          "data": {
            "text/plain": [
              "      MSSubClass MSZoning  LotArea Street LotShape LandContour Utilities  \\\n",
              "0             60       RL     8450   Pave      Reg         Lvl    AllPub   \n",
              "1             20       RL     9600   Pave      Reg         Lvl    AllPub   \n",
              "2             60       RL    11250   Pave      IR1         Lvl    AllPub   \n",
              "3             70       RL     9550   Pave      IR1         Lvl    AllPub   \n",
              "4             60       RL    14260   Pave      IR1         Lvl    AllPub   \n",
              "...          ...      ...      ...    ...      ...         ...       ...   \n",
              "1455          60       RL     7917   Pave      Reg         Lvl    AllPub   \n",
              "1456          20       RL    13175   Pave      Reg         Lvl    AllPub   \n",
              "1457          70       RL     9042   Pave      Reg         Lvl    AllPub   \n",
              "1458          20       RL     9717   Pave      Reg         Lvl    AllPub   \n",
              "1459          20       RL     9937   Pave      Reg         Lvl    AllPub   \n",
              "\n",
              "     LotConfig LandSlope Neighborhood  ... GarageYrBlt_square  \\\n",
              "0       Inside       Gtl      CollgCr  ...          4012009.0   \n",
              "1          FR2       Gtl      Veenker  ...          3904576.0   \n",
              "2       Inside       Gtl      CollgCr  ...          4004001.0   \n",
              "3       Corner       Gtl      Crawfor  ...          3992004.0   \n",
              "4          FR2       Gtl      NoRidge  ...          4000000.0   \n",
              "...        ...       ...          ...  ...                ...   \n",
              "1455    Inside       Gtl      Gilbert  ...          3996001.0   \n",
              "1456    Inside       Gtl       NWAmes  ...          3912484.0   \n",
              "1457    Inside       Gtl      Crawfor  ...          3767481.0   \n",
              "1458    Inside       Gtl        NAmes  ...          3802500.0   \n",
              "1459    Inside       Gtl      Edwards  ...          3861225.0   \n",
              "\n",
              "     GarageCars_square GarageArea_square WoodDeckSF_square  \\\n",
              "0                    4            300304                 0   \n",
              "1                    4            211600             88804   \n",
              "2                    4            369664                 0   \n",
              "3                    9            412164                 0   \n",
              "4                    9            698896             36864   \n",
              "...                ...               ...               ...   \n",
              "1455                 4            211600                 0   \n",
              "1456                 4            250000            121801   \n",
              "1457                 1             63504                 0   \n",
              "1458                 1             57600            133956   \n",
              "1459                 1             76176            541696   \n",
              "\n",
              "      OpenPorchSF_square  EnclosedPorch_square  3SsnPorch_square  \\\n",
              "0                   3721                     0                 0   \n",
              "1                      0                     0                 0   \n",
              "2                   1764                     0                 0   \n",
              "3                   1225                 73984                 0   \n",
              "4                   7056                     0                 0   \n",
              "...                  ...                   ...               ...   \n",
              "1455                1600                     0                 0   \n",
              "1456                   0                     0                 0   \n",
              "1457                3600                     0                 0   \n",
              "1458                   0                 12544                 0   \n",
              "1459                4624                     0                 0   \n",
              "\n",
              "      ScreenPorch_square PoolArea_square MiscVal_square  \n",
              "0                      0               0              0  \n",
              "1                      0               0              0  \n",
              "2                      0               0              0  \n",
              "3                      0               0              0  \n",
              "4                      0               0              0  \n",
              "...                  ...             ...            ...  \n",
              "1455                   0               0              0  \n",
              "1456                   0               0              0  \n",
              "1457                   0               0        6250000  \n",
              "1458                   0               0              0  \n",
              "1459                   0               0              0  \n",
              "\n",
              "[1341 rows x 103 columns]"
            ],
            "text/html": [
              "\n",
              "  <div id=\"df-53e890e7-2451-49b4-a253-70eec67efc46\">\n",
              "    <div class=\"colab-df-container\">\n",
              "      <div>\n",
              "<style scoped>\n",
              "    .dataframe tbody tr th:only-of-type {\n",
              "        vertical-align: middle;\n",
              "    }\n",
              "\n",
              "    .dataframe tbody tr th {\n",
              "        vertical-align: top;\n",
              "    }\n",
              "\n",
              "    .dataframe thead th {\n",
              "        text-align: right;\n",
              "    }\n",
              "</style>\n",
              "<table border=\"1\" class=\"dataframe\">\n",
              "  <thead>\n",
              "    <tr style=\"text-align: right;\">\n",
              "      <th></th>\n",
              "      <th>MSSubClass</th>\n",
              "      <th>MSZoning</th>\n",
              "      <th>LotArea</th>\n",
              "      <th>Street</th>\n",
              "      <th>LotShape</th>\n",
              "      <th>LandContour</th>\n",
              "      <th>Utilities</th>\n",
              "      <th>LotConfig</th>\n",
              "      <th>LandSlope</th>\n",
              "      <th>Neighborhood</th>\n",
              "      <th>...</th>\n",
              "      <th>GarageYrBlt_square</th>\n",
              "      <th>GarageCars_square</th>\n",
              "      <th>GarageArea_square</th>\n",
              "      <th>WoodDeckSF_square</th>\n",
              "      <th>OpenPorchSF_square</th>\n",
              "      <th>EnclosedPorch_square</th>\n",
              "      <th>3SsnPorch_square</th>\n",
              "      <th>ScreenPorch_square</th>\n",
              "      <th>PoolArea_square</th>\n",
              "      <th>MiscVal_square</th>\n",
              "    </tr>\n",
              "  </thead>\n",
              "  <tbody>\n",
              "    <tr>\n",
              "      <th>0</th>\n",
              "      <td>60</td>\n",
              "      <td>RL</td>\n",
              "      <td>8450</td>\n",
              "      <td>Pave</td>\n",
              "      <td>Reg</td>\n",
              "      <td>Lvl</td>\n",
              "      <td>AllPub</td>\n",
              "      <td>Inside</td>\n",
              "      <td>Gtl</td>\n",
              "      <td>CollgCr</td>\n",
              "      <td>...</td>\n",
              "      <td>4012009.0</td>\n",
              "      <td>4</td>\n",
              "      <td>300304</td>\n",
              "      <td>0</td>\n",
              "      <td>3721</td>\n",
              "      <td>0</td>\n",
              "      <td>0</td>\n",
              "      <td>0</td>\n",
              "      <td>0</td>\n",
              "      <td>0</td>\n",
              "    </tr>\n",
              "    <tr>\n",
              "      <th>1</th>\n",
              "      <td>20</td>\n",
              "      <td>RL</td>\n",
              "      <td>9600</td>\n",
              "      <td>Pave</td>\n",
              "      <td>Reg</td>\n",
              "      <td>Lvl</td>\n",
              "      <td>AllPub</td>\n",
              "      <td>FR2</td>\n",
              "      <td>Gtl</td>\n",
              "      <td>Veenker</td>\n",
              "      <td>...</td>\n",
              "      <td>3904576.0</td>\n",
              "      <td>4</td>\n",
              "      <td>211600</td>\n",
              "      <td>88804</td>\n",
              "      <td>0</td>\n",
              "      <td>0</td>\n",
              "      <td>0</td>\n",
              "      <td>0</td>\n",
              "      <td>0</td>\n",
              "      <td>0</td>\n",
              "    </tr>\n",
              "    <tr>\n",
              "      <th>2</th>\n",
              "      <td>60</td>\n",
              "      <td>RL</td>\n",
              "      <td>11250</td>\n",
              "      <td>Pave</td>\n",
              "      <td>IR1</td>\n",
              "      <td>Lvl</td>\n",
              "      <td>AllPub</td>\n",
              "      <td>Inside</td>\n",
              "      <td>Gtl</td>\n",
              "      <td>CollgCr</td>\n",
              "      <td>...</td>\n",
              "      <td>4004001.0</td>\n",
              "      <td>4</td>\n",
              "      <td>369664</td>\n",
              "      <td>0</td>\n",
              "      <td>1764</td>\n",
              "      <td>0</td>\n",
              "      <td>0</td>\n",
              "      <td>0</td>\n",
              "      <td>0</td>\n",
              "      <td>0</td>\n",
              "    </tr>\n",
              "    <tr>\n",
              "      <th>3</th>\n",
              "      <td>70</td>\n",
              "      <td>RL</td>\n",
              "      <td>9550</td>\n",
              "      <td>Pave</td>\n",
              "      <td>IR1</td>\n",
              "      <td>Lvl</td>\n",
              "      <td>AllPub</td>\n",
              "      <td>Corner</td>\n",
              "      <td>Gtl</td>\n",
              "      <td>Crawfor</td>\n",
              "      <td>...</td>\n",
              "      <td>3992004.0</td>\n",
              "      <td>9</td>\n",
              "      <td>412164</td>\n",
              "      <td>0</td>\n",
              "      <td>1225</td>\n",
              "      <td>73984</td>\n",
              "      <td>0</td>\n",
              "      <td>0</td>\n",
              "      <td>0</td>\n",
              "      <td>0</td>\n",
              "    </tr>\n",
              "    <tr>\n",
              "      <th>4</th>\n",
              "      <td>60</td>\n",
              "      <td>RL</td>\n",
              "      <td>14260</td>\n",
              "      <td>Pave</td>\n",
              "      <td>IR1</td>\n",
              "      <td>Lvl</td>\n",
              "      <td>AllPub</td>\n",
              "      <td>FR2</td>\n",
              "      <td>Gtl</td>\n",
              "      <td>NoRidge</td>\n",
              "      <td>...</td>\n",
              "      <td>4000000.0</td>\n",
              "      <td>9</td>\n",
              "      <td>698896</td>\n",
              "      <td>36864</td>\n",
              "      <td>7056</td>\n",
              "      <td>0</td>\n",
              "      <td>0</td>\n",
              "      <td>0</td>\n",
              "      <td>0</td>\n",
              "      <td>0</td>\n",
              "    </tr>\n",
              "    <tr>\n",
              "      <th>...</th>\n",
              "      <td>...</td>\n",
              "      <td>...</td>\n",
              "      <td>...</td>\n",
              "      <td>...</td>\n",
              "      <td>...</td>\n",
              "      <td>...</td>\n",
              "      <td>...</td>\n",
              "      <td>...</td>\n",
              "      <td>...</td>\n",
              "      <td>...</td>\n",
              "      <td>...</td>\n",
              "      <td>...</td>\n",
              "      <td>...</td>\n",
              "      <td>...</td>\n",
              "      <td>...</td>\n",
              "      <td>...</td>\n",
              "      <td>...</td>\n",
              "      <td>...</td>\n",
              "      <td>...</td>\n",
              "      <td>...</td>\n",
              "      <td>...</td>\n",
              "    </tr>\n",
              "    <tr>\n",
              "      <th>1455</th>\n",
              "      <td>60</td>\n",
              "      <td>RL</td>\n",
              "      <td>7917</td>\n",
              "      <td>Pave</td>\n",
              "      <td>Reg</td>\n",
              "      <td>Lvl</td>\n",
              "      <td>AllPub</td>\n",
              "      <td>Inside</td>\n",
              "      <td>Gtl</td>\n",
              "      <td>Gilbert</td>\n",
              "      <td>...</td>\n",
              "      <td>3996001.0</td>\n",
              "      <td>4</td>\n",
              "      <td>211600</td>\n",
              "      <td>0</td>\n",
              "      <td>1600</td>\n",
              "      <td>0</td>\n",
              "      <td>0</td>\n",
              "      <td>0</td>\n",
              "      <td>0</td>\n",
              "      <td>0</td>\n",
              "    </tr>\n",
              "    <tr>\n",
              "      <th>1456</th>\n",
              "      <td>20</td>\n",
              "      <td>RL</td>\n",
              "      <td>13175</td>\n",
              "      <td>Pave</td>\n",
              "      <td>Reg</td>\n",
              "      <td>Lvl</td>\n",
              "      <td>AllPub</td>\n",
              "      <td>Inside</td>\n",
              "      <td>Gtl</td>\n",
              "      <td>NWAmes</td>\n",
              "      <td>...</td>\n",
              "      <td>3912484.0</td>\n",
              "      <td>4</td>\n",
              "      <td>250000</td>\n",
              "      <td>121801</td>\n",
              "      <td>0</td>\n",
              "      <td>0</td>\n",
              "      <td>0</td>\n",
              "      <td>0</td>\n",
              "      <td>0</td>\n",
              "      <td>0</td>\n",
              "    </tr>\n",
              "    <tr>\n",
              "      <th>1457</th>\n",
              "      <td>70</td>\n",
              "      <td>RL</td>\n",
              "      <td>9042</td>\n",
              "      <td>Pave</td>\n",
              "      <td>Reg</td>\n",
              "      <td>Lvl</td>\n",
              "      <td>AllPub</td>\n",
              "      <td>Inside</td>\n",
              "      <td>Gtl</td>\n",
              "      <td>Crawfor</td>\n",
              "      <td>...</td>\n",
              "      <td>3767481.0</td>\n",
              "      <td>1</td>\n",
              "      <td>63504</td>\n",
              "      <td>0</td>\n",
              "      <td>3600</td>\n",
              "      <td>0</td>\n",
              "      <td>0</td>\n",
              "      <td>0</td>\n",
              "      <td>0</td>\n",
              "      <td>6250000</td>\n",
              "    </tr>\n",
              "    <tr>\n",
              "      <th>1458</th>\n",
              "      <td>20</td>\n",
              "      <td>RL</td>\n",
              "      <td>9717</td>\n",
              "      <td>Pave</td>\n",
              "      <td>Reg</td>\n",
              "      <td>Lvl</td>\n",
              "      <td>AllPub</td>\n",
              "      <td>Inside</td>\n",
              "      <td>Gtl</td>\n",
              "      <td>NAmes</td>\n",
              "      <td>...</td>\n",
              "      <td>3802500.0</td>\n",
              "      <td>1</td>\n",
              "      <td>57600</td>\n",
              "      <td>133956</td>\n",
              "      <td>0</td>\n",
              "      <td>12544</td>\n",
              "      <td>0</td>\n",
              "      <td>0</td>\n",
              "      <td>0</td>\n",
              "      <td>0</td>\n",
              "    </tr>\n",
              "    <tr>\n",
              "      <th>1459</th>\n",
              "      <td>20</td>\n",
              "      <td>RL</td>\n",
              "      <td>9937</td>\n",
              "      <td>Pave</td>\n",
              "      <td>Reg</td>\n",
              "      <td>Lvl</td>\n",
              "      <td>AllPub</td>\n",
              "      <td>Inside</td>\n",
              "      <td>Gtl</td>\n",
              "      <td>Edwards</td>\n",
              "      <td>...</td>\n",
              "      <td>3861225.0</td>\n",
              "      <td>1</td>\n",
              "      <td>76176</td>\n",
              "      <td>541696</td>\n",
              "      <td>4624</td>\n",
              "      <td>0</td>\n",
              "      <td>0</td>\n",
              "      <td>0</td>\n",
              "      <td>0</td>\n",
              "      <td>0</td>\n",
              "    </tr>\n",
              "  </tbody>\n",
              "</table>\n",
              "<p>1341 rows × 103 columns</p>\n",
              "</div>\n",
              "      <button class=\"colab-df-convert\" onclick=\"convertToInteractive('df-53e890e7-2451-49b4-a253-70eec67efc46')\"\n",
              "              title=\"Convert this dataframe to an interactive table.\"\n",
              "              style=\"display:none;\">\n",
              "        \n",
              "  <svg xmlns=\"http://www.w3.org/2000/svg\" height=\"24px\"viewBox=\"0 0 24 24\"\n",
              "       width=\"24px\">\n",
              "    <path d=\"M0 0h24v24H0V0z\" fill=\"none\"/>\n",
              "    <path d=\"M18.56 5.44l.94 2.06.94-2.06 2.06-.94-2.06-.94-.94-2.06-.94 2.06-2.06.94zm-11 1L8.5 8.5l.94-2.06 2.06-.94-2.06-.94L8.5 2.5l-.94 2.06-2.06.94zm10 10l.94 2.06.94-2.06 2.06-.94-2.06-.94-.94-2.06-.94 2.06-2.06.94z\"/><path d=\"M17.41 7.96l-1.37-1.37c-.4-.4-.92-.59-1.43-.59-.52 0-1.04.2-1.43.59L10.3 9.45l-7.72 7.72c-.78.78-.78 2.05 0 2.83L4 21.41c.39.39.9.59 1.41.59.51 0 1.02-.2 1.41-.59l7.78-7.78 2.81-2.81c.8-.78.8-2.07 0-2.86zM5.41 20L4 18.59l7.72-7.72 1.47 1.35L5.41 20z\"/>\n",
              "  </svg>\n",
              "      </button>\n",
              "      \n",
              "  <style>\n",
              "    .colab-df-container {\n",
              "      display:flex;\n",
              "      flex-wrap:wrap;\n",
              "      gap: 12px;\n",
              "    }\n",
              "\n",
              "    .colab-df-convert {\n",
              "      background-color: #E8F0FE;\n",
              "      border: none;\n",
              "      border-radius: 50%;\n",
              "      cursor: pointer;\n",
              "      display: none;\n",
              "      fill: #1967D2;\n",
              "      height: 32px;\n",
              "      padding: 0 0 0 0;\n",
              "      width: 32px;\n",
              "    }\n",
              "\n",
              "    .colab-df-convert:hover {\n",
              "      background-color: #E2EBFA;\n",
              "      box-shadow: 0px 1px 2px rgba(60, 64, 67, 0.3), 0px 1px 3px 1px rgba(60, 64, 67, 0.15);\n",
              "      fill: #174EA6;\n",
              "    }\n",
              "\n",
              "    [theme=dark] .colab-df-convert {\n",
              "      background-color: #3B4455;\n",
              "      fill: #D2E3FC;\n",
              "    }\n",
              "\n",
              "    [theme=dark] .colab-df-convert:hover {\n",
              "      background-color: #434B5C;\n",
              "      box-shadow: 0px 1px 3px 1px rgba(0, 0, 0, 0.15);\n",
              "      filter: drop-shadow(0px 1px 2px rgba(0, 0, 0, 0.3));\n",
              "      fill: #FFFFFF;\n",
              "    }\n",
              "  </style>\n",
              "\n",
              "      <script>\n",
              "        const buttonEl =\n",
              "          document.querySelector('#df-53e890e7-2451-49b4-a253-70eec67efc46 button.colab-df-convert');\n",
              "        buttonEl.style.display =\n",
              "          google.colab.kernel.accessAllowed ? 'block' : 'none';\n",
              "\n",
              "        async function convertToInteractive(key) {\n",
              "          const element = document.querySelector('#df-53e890e7-2451-49b4-a253-70eec67efc46');\n",
              "          const dataTable =\n",
              "            await google.colab.kernel.invokeFunction('convertToInteractive',\n",
              "                                                     [key], {});\n",
              "          if (!dataTable) return;\n",
              "\n",
              "          const docLinkHtml = 'Like what you see? Visit the ' +\n",
              "            '<a target=\"_blank\" href=https://colab.research.google.com/notebooks/data_table.ipynb>data table notebook</a>'\n",
              "            + ' to learn more about interactive tables.';\n",
              "          element.innerHTML = '';\n",
              "          dataTable['output_type'] = 'display_data';\n",
              "          await google.colab.output.renderOutput(dataTable, element);\n",
              "          const docLink = document.createElement('div');\n",
              "          docLink.innerHTML = docLinkHtml;\n",
              "          element.appendChild(docLink);\n",
              "        }\n",
              "      </script>\n",
              "    </div>\n",
              "  </div>\n",
              "  "
            ]
          },
          "metadata": {},
          "execution_count": 92
        }
      ]
    },
    {
      "cell_type": "markdown",
      "source": [
        "## Find categorical and numerical variables again"
      ],
      "metadata": {
        "id": "na23wmsSCd6E"
      }
    },
    {
      "cell_type": "code",
      "source": [
        "# Find categorical and numerical variables\n",
        "\n",
        "cat_var=df.select_dtypes(include=['object']).columns\n",
        "\n",
        "num_var=df.drop('SalePrice',axis=1).select_dtypes(include=['int','float']).columns\n",
        "\n",
        "print(f'Number of categorical variables = {len(cat_var)}')\n",
        "print(f'Number of numerical variables = {len(num_var)}')"
      ],
      "metadata": {
        "colab": {
          "base_uri": "https://localhost:8080/"
        },
        "id": "XMrbSWAqAPjO",
        "outputId": "151926bf-8db9-452e-9345-4a121c08dc2d"
      },
      "execution_count": 93,
      "outputs": [
        {
          "output_type": "stream",
          "name": "stdout",
          "text": [
            "Number of categorical variables = 36\n",
            "Number of numerical variables = 66\n"
          ]
        }
      ]
    },
    {
      "cell_type": "markdown",
      "source": [
        "# Data Preparation Before Training"
      ],
      "metadata": {
        "id": "wF_vf-5ur-Cs"
      }
    },
    {
      "cell_type": "markdown",
      "source": [
        "## Create Dummy Variables"
      ],
      "metadata": {
        "id": "4xuggLyVvVvp"
      }
    },
    {
      "cell_type": "code",
      "source": [
        "# In this cell, I have defined a function to create dummy variables for categorical variables.\n",
        "\n",
        "def create_dummy_var(df,col_name):\n",
        "  dummy_var_df=pd.get_dummies(df[col_name], drop_first = True, prefix=col_name)\n",
        "  df=df.drop(col_name,axis=1)\n",
        "  df=pd.concat([df, dummy_var_df], axis = 1)\n",
        "  return df"
      ],
      "metadata": {
        "id": "uBWW0G13sfrm"
      },
      "execution_count": 94,
      "outputs": []
    },
    {
      "cell_type": "code",
      "source": [
        "# Create dummy variables from all categorical values\n",
        "\n",
        "for var_name in cat_var:\n",
        "  df=create_dummy_var(df,var_name)\n",
        "\n",
        "print(f'Shape = {df.shape}')\n",
        "df.head()"
      ],
      "metadata": {
        "colab": {
          "base_uri": "https://localhost:8080/",
          "height": 317
        },
        "id": "VFj0mQK3v9WQ",
        "outputId": "4ecf1f86-de6b-48e3-b6fe-fa47c7fb990d"
      },
      "execution_count": 95,
      "outputs": [
        {
          "output_type": "stream",
          "name": "stdout",
          "text": [
            "Shape = (1341, 245)\n"
          ]
        },
        {
          "output_type": "execute_result",
          "data": {
            "text/plain": [
              "   MSSubClass  LotArea  OverallQual  OverallCond  YearBuilt  YearRemodAdd  \\\n",
              "0          60     8450            7            5       2003          2003   \n",
              "1          20     9600            6            8       1976          1976   \n",
              "2          60    11250            7            5       2001          2002   \n",
              "3          70     9550            7            5       1915          1970   \n",
              "4          60    14260            8            5       2000          2000   \n",
              "\n",
              "   MasVnrArea  BsmtFinSF1  BsmtFinSF2  BsmtUnfSF  ...  GarageQual_Fa  \\\n",
              "0       196.0         706           0        150  ...              0   \n",
              "1         0.0         978           0        284  ...              0   \n",
              "2       162.0         486           0        434  ...              0   \n",
              "3         0.0         216           0        540  ...              0   \n",
              "4       350.0         655           0        490  ...              0   \n",
              "\n",
              "   GarageQual_Gd  GarageQual_Po  GarageQual_TA  GarageCond_Fa  GarageCond_Gd  \\\n",
              "0              0              0              1              0              0   \n",
              "1              0              0              1              0              0   \n",
              "2              0              0              1              0              0   \n",
              "3              0              0              1              0              0   \n",
              "4              0              0              1              0              0   \n",
              "\n",
              "   GarageCond_Po  GarageCond_TA  PavedDrive_P  PavedDrive_Y  \n",
              "0              0              1             0             1  \n",
              "1              0              1             0             1  \n",
              "2              0              1             0             1  \n",
              "3              0              1             0             1  \n",
              "4              0              1             0             1  \n",
              "\n",
              "[5 rows x 245 columns]"
            ],
            "text/html": [
              "\n",
              "  <div id=\"df-f75968c8-cc5f-4d56-a803-c6eeb1049ecd\">\n",
              "    <div class=\"colab-df-container\">\n",
              "      <div>\n",
              "<style scoped>\n",
              "    .dataframe tbody tr th:only-of-type {\n",
              "        vertical-align: middle;\n",
              "    }\n",
              "\n",
              "    .dataframe tbody tr th {\n",
              "        vertical-align: top;\n",
              "    }\n",
              "\n",
              "    .dataframe thead th {\n",
              "        text-align: right;\n",
              "    }\n",
              "</style>\n",
              "<table border=\"1\" class=\"dataframe\">\n",
              "  <thead>\n",
              "    <tr style=\"text-align: right;\">\n",
              "      <th></th>\n",
              "      <th>MSSubClass</th>\n",
              "      <th>LotArea</th>\n",
              "      <th>OverallQual</th>\n",
              "      <th>OverallCond</th>\n",
              "      <th>YearBuilt</th>\n",
              "      <th>YearRemodAdd</th>\n",
              "      <th>MasVnrArea</th>\n",
              "      <th>BsmtFinSF1</th>\n",
              "      <th>BsmtFinSF2</th>\n",
              "      <th>BsmtUnfSF</th>\n",
              "      <th>...</th>\n",
              "      <th>GarageQual_Fa</th>\n",
              "      <th>GarageQual_Gd</th>\n",
              "      <th>GarageQual_Po</th>\n",
              "      <th>GarageQual_TA</th>\n",
              "      <th>GarageCond_Fa</th>\n",
              "      <th>GarageCond_Gd</th>\n",
              "      <th>GarageCond_Po</th>\n",
              "      <th>GarageCond_TA</th>\n",
              "      <th>PavedDrive_P</th>\n",
              "      <th>PavedDrive_Y</th>\n",
              "    </tr>\n",
              "  </thead>\n",
              "  <tbody>\n",
              "    <tr>\n",
              "      <th>0</th>\n",
              "      <td>60</td>\n",
              "      <td>8450</td>\n",
              "      <td>7</td>\n",
              "      <td>5</td>\n",
              "      <td>2003</td>\n",
              "      <td>2003</td>\n",
              "      <td>196.0</td>\n",
              "      <td>706</td>\n",
              "      <td>0</td>\n",
              "      <td>150</td>\n",
              "      <td>...</td>\n",
              "      <td>0</td>\n",
              "      <td>0</td>\n",
              "      <td>0</td>\n",
              "      <td>1</td>\n",
              "      <td>0</td>\n",
              "      <td>0</td>\n",
              "      <td>0</td>\n",
              "      <td>1</td>\n",
              "      <td>0</td>\n",
              "      <td>1</td>\n",
              "    </tr>\n",
              "    <tr>\n",
              "      <th>1</th>\n",
              "      <td>20</td>\n",
              "      <td>9600</td>\n",
              "      <td>6</td>\n",
              "      <td>8</td>\n",
              "      <td>1976</td>\n",
              "      <td>1976</td>\n",
              "      <td>0.0</td>\n",
              "      <td>978</td>\n",
              "      <td>0</td>\n",
              "      <td>284</td>\n",
              "      <td>...</td>\n",
              "      <td>0</td>\n",
              "      <td>0</td>\n",
              "      <td>0</td>\n",
              "      <td>1</td>\n",
              "      <td>0</td>\n",
              "      <td>0</td>\n",
              "      <td>0</td>\n",
              "      <td>1</td>\n",
              "      <td>0</td>\n",
              "      <td>1</td>\n",
              "    </tr>\n",
              "    <tr>\n",
              "      <th>2</th>\n",
              "      <td>60</td>\n",
              "      <td>11250</td>\n",
              "      <td>7</td>\n",
              "      <td>5</td>\n",
              "      <td>2001</td>\n",
              "      <td>2002</td>\n",
              "      <td>162.0</td>\n",
              "      <td>486</td>\n",
              "      <td>0</td>\n",
              "      <td>434</td>\n",
              "      <td>...</td>\n",
              "      <td>0</td>\n",
              "      <td>0</td>\n",
              "      <td>0</td>\n",
              "      <td>1</td>\n",
              "      <td>0</td>\n",
              "      <td>0</td>\n",
              "      <td>0</td>\n",
              "      <td>1</td>\n",
              "      <td>0</td>\n",
              "      <td>1</td>\n",
              "    </tr>\n",
              "    <tr>\n",
              "      <th>3</th>\n",
              "      <td>70</td>\n",
              "      <td>9550</td>\n",
              "      <td>7</td>\n",
              "      <td>5</td>\n",
              "      <td>1915</td>\n",
              "      <td>1970</td>\n",
              "      <td>0.0</td>\n",
              "      <td>216</td>\n",
              "      <td>0</td>\n",
              "      <td>540</td>\n",
              "      <td>...</td>\n",
              "      <td>0</td>\n",
              "      <td>0</td>\n",
              "      <td>0</td>\n",
              "      <td>1</td>\n",
              "      <td>0</td>\n",
              "      <td>0</td>\n",
              "      <td>0</td>\n",
              "      <td>1</td>\n",
              "      <td>0</td>\n",
              "      <td>1</td>\n",
              "    </tr>\n",
              "    <tr>\n",
              "      <th>4</th>\n",
              "      <td>60</td>\n",
              "      <td>14260</td>\n",
              "      <td>8</td>\n",
              "      <td>5</td>\n",
              "      <td>2000</td>\n",
              "      <td>2000</td>\n",
              "      <td>350.0</td>\n",
              "      <td>655</td>\n",
              "      <td>0</td>\n",
              "      <td>490</td>\n",
              "      <td>...</td>\n",
              "      <td>0</td>\n",
              "      <td>0</td>\n",
              "      <td>0</td>\n",
              "      <td>1</td>\n",
              "      <td>0</td>\n",
              "      <td>0</td>\n",
              "      <td>0</td>\n",
              "      <td>1</td>\n",
              "      <td>0</td>\n",
              "      <td>1</td>\n",
              "    </tr>\n",
              "  </tbody>\n",
              "</table>\n",
              "<p>5 rows × 245 columns</p>\n",
              "</div>\n",
              "      <button class=\"colab-df-convert\" onclick=\"convertToInteractive('df-f75968c8-cc5f-4d56-a803-c6eeb1049ecd')\"\n",
              "              title=\"Convert this dataframe to an interactive table.\"\n",
              "              style=\"display:none;\">\n",
              "        \n",
              "  <svg xmlns=\"http://www.w3.org/2000/svg\" height=\"24px\"viewBox=\"0 0 24 24\"\n",
              "       width=\"24px\">\n",
              "    <path d=\"M0 0h24v24H0V0z\" fill=\"none\"/>\n",
              "    <path d=\"M18.56 5.44l.94 2.06.94-2.06 2.06-.94-2.06-.94-.94-2.06-.94 2.06-2.06.94zm-11 1L8.5 8.5l.94-2.06 2.06-.94-2.06-.94L8.5 2.5l-.94 2.06-2.06.94zm10 10l.94 2.06.94-2.06 2.06-.94-2.06-.94-.94-2.06-.94 2.06-2.06.94z\"/><path d=\"M17.41 7.96l-1.37-1.37c-.4-.4-.92-.59-1.43-.59-.52 0-1.04.2-1.43.59L10.3 9.45l-7.72 7.72c-.78.78-.78 2.05 0 2.83L4 21.41c.39.39.9.59 1.41.59.51 0 1.02-.2 1.41-.59l7.78-7.78 2.81-2.81c.8-.78.8-2.07 0-2.86zM5.41 20L4 18.59l7.72-7.72 1.47 1.35L5.41 20z\"/>\n",
              "  </svg>\n",
              "      </button>\n",
              "      \n",
              "  <style>\n",
              "    .colab-df-container {\n",
              "      display:flex;\n",
              "      flex-wrap:wrap;\n",
              "      gap: 12px;\n",
              "    }\n",
              "\n",
              "    .colab-df-convert {\n",
              "      background-color: #E8F0FE;\n",
              "      border: none;\n",
              "      border-radius: 50%;\n",
              "      cursor: pointer;\n",
              "      display: none;\n",
              "      fill: #1967D2;\n",
              "      height: 32px;\n",
              "      padding: 0 0 0 0;\n",
              "      width: 32px;\n",
              "    }\n",
              "\n",
              "    .colab-df-convert:hover {\n",
              "      background-color: #E2EBFA;\n",
              "      box-shadow: 0px 1px 2px rgba(60, 64, 67, 0.3), 0px 1px 3px 1px rgba(60, 64, 67, 0.15);\n",
              "      fill: #174EA6;\n",
              "    }\n",
              "\n",
              "    [theme=dark] .colab-df-convert {\n",
              "      background-color: #3B4455;\n",
              "      fill: #D2E3FC;\n",
              "    }\n",
              "\n",
              "    [theme=dark] .colab-df-convert:hover {\n",
              "      background-color: #434B5C;\n",
              "      box-shadow: 0px 1px 3px 1px rgba(0, 0, 0, 0.15);\n",
              "      filter: drop-shadow(0px 1px 2px rgba(0, 0, 0, 0.3));\n",
              "      fill: #FFFFFF;\n",
              "    }\n",
              "  </style>\n",
              "\n",
              "      <script>\n",
              "        const buttonEl =\n",
              "          document.querySelector('#df-f75968c8-cc5f-4d56-a803-c6eeb1049ecd button.colab-df-convert');\n",
              "        buttonEl.style.display =\n",
              "          google.colab.kernel.accessAllowed ? 'block' : 'none';\n",
              "\n",
              "        async function convertToInteractive(key) {\n",
              "          const element = document.querySelector('#df-f75968c8-cc5f-4d56-a803-c6eeb1049ecd');\n",
              "          const dataTable =\n",
              "            await google.colab.kernel.invokeFunction('convertToInteractive',\n",
              "                                                     [key], {});\n",
              "          if (!dataTable) return;\n",
              "\n",
              "          const docLinkHtml = 'Like what you see? Visit the ' +\n",
              "            '<a target=\"_blank\" href=https://colab.research.google.com/notebooks/data_table.ipynb>data table notebook</a>'\n",
              "            + ' to learn more about interactive tables.';\n",
              "          element.innerHTML = '';\n",
              "          dataTable['output_type'] = 'display_data';\n",
              "          await google.colab.output.renderOutput(dataTable, element);\n",
              "          const docLink = document.createElement('div');\n",
              "          docLink.innerHTML = docLinkHtml;\n",
              "          element.appendChild(docLink);\n",
              "        }\n",
              "      </script>\n",
              "    </div>\n",
              "  </div>\n",
              "  "
            ]
          },
          "metadata": {},
          "execution_count": 95
        }
      ]
    },
    {
      "cell_type": "markdown",
      "source": [
        "## Splitting the Data into Training and Testing Sets"
      ],
      "metadata": {
        "id": "CCYivzRm87W7"
      }
    },
    {
      "cell_type": "code",
      "source": [
        "from sklearn.model_selection import train_test_split\n",
        "\n",
        "# setting random seed for consistant results\n",
        "np.random.seed(0)\n",
        "df_train, df_test = train_test_split(df, train_size = 0.8, random_state = 100)\n",
        "\n",
        "# Checking shape the of training set\n",
        "\n",
        "print(f'df_train shape = {df_train.shape}')\n",
        "print(f'df_test shape = {df_test.shape}')"
      ],
      "metadata": {
        "id": "rsSmbM7327AN",
        "colab": {
          "base_uri": "https://localhost:8080/"
        },
        "outputId": "9fe92003-531d-4d41-e6b5-b778a05adda0"
      },
      "execution_count": 96,
      "outputs": [
        {
          "output_type": "stream",
          "name": "stdout",
          "text": [
            "df_train shape = (1072, 245)\n",
            "df_test shape = (269, 245)\n"
          ]
        }
      ]
    },
    {
      "cell_type": "markdown",
      "source": [
        "## Dividing Training set into X and Y sets for the model building"
      ],
      "metadata": {
        "id": "733U6CL49Uq9"
      }
    },
    {
      "cell_type": "code",
      "source": [
        "y_train = df_train.pop('SalePrice')\n",
        "X_train = df_train\n",
        "\n",
        "y_test = df_test.pop('SalePrice')\n",
        "X_test = df_test\n",
        "\n",
        "# Checking shapes again\n",
        "\n",
        "print(f'X_train shape = {X_train.shape}')\n",
        "print(f'Y train shape = {y_train.shape}')\n",
        "print()\n",
        "print(f'X_test shape = {X_test.shape}')\n",
        "print(f'Y test shape = {y_test.shape}')"
      ],
      "metadata": {
        "id": "1qMOn77-255K",
        "colab": {
          "base_uri": "https://localhost:8080/"
        },
        "outputId": "8202026e-00cf-482b-bdc7-77af4d0f27d5"
      },
      "execution_count": 97,
      "outputs": [
        {
          "output_type": "stream",
          "name": "stdout",
          "text": [
            "X_train shape = (1072, 244)\n",
            "Y train shape = (1072,)\n",
            "\n",
            "X_test shape = (269, 244)\n",
            "Y test shape = (269,)\n"
          ]
        }
      ]
    },
    {
      "cell_type": "markdown",
      "source": [
        "## Rescaling the Numerical Variables\n"
      ],
      "metadata": {
        "id": "IxKRg85S9_KI"
      }
    },
    {
      "cell_type": "code",
      "source": [
        "# I used MinMax scaling on numerical columns.\n",
        "\n",
        "from sklearn.preprocessing import MinMaxScaler\n",
        "scaler = MinMaxScaler()\n",
        "\n",
        "X_train[num_var] = scaler.fit_transform(X_train[num_var])\n",
        "X_test[num_var] = scaler.transform(X_test[num_var])\n",
        "\n",
        "print(f'X_train shape = {X_train.shape}')\n",
        "print(f'X_test shape = {X_test.shape}')"
      ],
      "metadata": {
        "id": "0kQvzGQY9pqj",
        "colab": {
          "base_uri": "https://localhost:8080/"
        },
        "outputId": "a8c95b1b-f6f0-43a4-b3dc-89a9aa5f09a4"
      },
      "execution_count": 98,
      "outputs": [
        {
          "output_type": "stream",
          "name": "stdout",
          "text": [
            "X_train shape = (1072, 244)\n",
            "X_test shape = (269, 244)\n"
          ]
        }
      ]
    },
    {
      "cell_type": "code",
      "source": [
        "X_train.describe()"
      ],
      "metadata": {
        "colab": {
          "base_uri": "https://localhost:8080/",
          "height": 394
        },
        "id": "fbTSPwIQC7GY",
        "outputId": "a66e5961-c013-4b46-bffe-724499b33547"
      },
      "execution_count": 99,
      "outputs": [
        {
          "output_type": "execute_result",
          "data": {
            "text/plain": [
              "        MSSubClass      LotArea  OverallQual  OverallCond    YearBuilt  \\\n",
              "count  1072.000000  1072.000000  1072.000000  1072.000000  1072.000000   \n",
              "mean      0.210245     0.057188     0.523204     0.510928     0.712651   \n",
              "std       0.243289     0.057643     0.166669     0.152953     0.228216   \n",
              "min       0.000000     0.000000     0.000000     0.000000     0.000000   \n",
              "25%       0.000000     0.038983     0.375000     0.428571     0.576923   \n",
              "50%       0.176471     0.050780     0.500000     0.428571     0.734615   \n",
              "75%       0.294118     0.063103     0.625000     0.571429     0.930769   \n",
              "max       1.000000     1.000000     1.000000     1.000000     1.000000   \n",
              "\n",
              "       YearRemodAdd   MasVnrArea   BsmtFinSF1   BsmtFinSF2    BsmtUnfSF  ...  \\\n",
              "count   1072.000000  1072.000000  1072.000000  1072.000000  1072.000000  ...   \n",
              "mean       0.592335     0.069227     0.081887     0.031932     0.249663  ...   \n",
              "std        0.342078     0.117626     0.081477     0.109536     0.184155  ...   \n",
              "min        0.000000     0.000000     0.000000     0.000000     0.000000  ...   \n",
              "25%        0.300000     0.000000     0.000000     0.000000     0.113014  ...   \n",
              "50%        0.733333     0.000000     0.073618     0.000000     0.214041  ...   \n",
              "75%        0.900000     0.107500     0.128455     0.000000     0.347175  ...   \n",
              "max        1.000000     1.000000     1.000000     1.000000     1.000000  ...   \n",
              "\n",
              "       GarageQual_Fa  GarageQual_Gd  GarageQual_Po  GarageQual_TA  \\\n",
              "count    1072.000000    1072.000000    1072.000000    1072.000000   \n",
              "mean        0.041045       0.008396       0.001866       0.945896   \n",
              "std         0.198486       0.091284       0.043173       0.226329   \n",
              "min         0.000000       0.000000       0.000000       0.000000   \n",
              "25%         0.000000       0.000000       0.000000       1.000000   \n",
              "50%         0.000000       0.000000       0.000000       1.000000   \n",
              "75%         0.000000       0.000000       0.000000       1.000000   \n",
              "max         1.000000       1.000000       1.000000       1.000000   \n",
              "\n",
              "       GarageCond_Fa  GarageCond_Gd  GarageCond_Po  GarageCond_TA  \\\n",
              "count    1072.000000    1072.000000    1072.000000    1072.000000   \n",
              "mean        0.027985       0.006530       0.005597       0.958022   \n",
              "std         0.165007       0.080581       0.074638       0.200632   \n",
              "min         0.000000       0.000000       0.000000       0.000000   \n",
              "25%         0.000000       0.000000       0.000000       1.000000   \n",
              "50%         0.000000       0.000000       0.000000       1.000000   \n",
              "75%         0.000000       0.000000       0.000000       1.000000   \n",
              "max         1.000000       1.000000       1.000000       1.000000   \n",
              "\n",
              "       PavedDrive_P  PavedDrive_Y  \n",
              "count    1072.00000   1072.000000  \n",
              "mean        0.01959      0.937500  \n",
              "std         0.13865      0.242174  \n",
              "min         0.00000      0.000000  \n",
              "25%         0.00000      1.000000  \n",
              "50%         0.00000      1.000000  \n",
              "75%         0.00000      1.000000  \n",
              "max         1.00000      1.000000  \n",
              "\n",
              "[8 rows x 244 columns]"
            ],
            "text/html": [
              "\n",
              "  <div id=\"df-d8c070a4-5c23-45d0-819b-e730549bf290\">\n",
              "    <div class=\"colab-df-container\">\n",
              "      <div>\n",
              "<style scoped>\n",
              "    .dataframe tbody tr th:only-of-type {\n",
              "        vertical-align: middle;\n",
              "    }\n",
              "\n",
              "    .dataframe tbody tr th {\n",
              "        vertical-align: top;\n",
              "    }\n",
              "\n",
              "    .dataframe thead th {\n",
              "        text-align: right;\n",
              "    }\n",
              "</style>\n",
              "<table border=\"1\" class=\"dataframe\">\n",
              "  <thead>\n",
              "    <tr style=\"text-align: right;\">\n",
              "      <th></th>\n",
              "      <th>MSSubClass</th>\n",
              "      <th>LotArea</th>\n",
              "      <th>OverallQual</th>\n",
              "      <th>OverallCond</th>\n",
              "      <th>YearBuilt</th>\n",
              "      <th>YearRemodAdd</th>\n",
              "      <th>MasVnrArea</th>\n",
              "      <th>BsmtFinSF1</th>\n",
              "      <th>BsmtFinSF2</th>\n",
              "      <th>BsmtUnfSF</th>\n",
              "      <th>...</th>\n",
              "      <th>GarageQual_Fa</th>\n",
              "      <th>GarageQual_Gd</th>\n",
              "      <th>GarageQual_Po</th>\n",
              "      <th>GarageQual_TA</th>\n",
              "      <th>GarageCond_Fa</th>\n",
              "      <th>GarageCond_Gd</th>\n",
              "      <th>GarageCond_Po</th>\n",
              "      <th>GarageCond_TA</th>\n",
              "      <th>PavedDrive_P</th>\n",
              "      <th>PavedDrive_Y</th>\n",
              "    </tr>\n",
              "  </thead>\n",
              "  <tbody>\n",
              "    <tr>\n",
              "      <th>count</th>\n",
              "      <td>1072.000000</td>\n",
              "      <td>1072.000000</td>\n",
              "      <td>1072.000000</td>\n",
              "      <td>1072.000000</td>\n",
              "      <td>1072.000000</td>\n",
              "      <td>1072.000000</td>\n",
              "      <td>1072.000000</td>\n",
              "      <td>1072.000000</td>\n",
              "      <td>1072.000000</td>\n",
              "      <td>1072.000000</td>\n",
              "      <td>...</td>\n",
              "      <td>1072.000000</td>\n",
              "      <td>1072.000000</td>\n",
              "      <td>1072.000000</td>\n",
              "      <td>1072.000000</td>\n",
              "      <td>1072.000000</td>\n",
              "      <td>1072.000000</td>\n",
              "      <td>1072.000000</td>\n",
              "      <td>1072.000000</td>\n",
              "      <td>1072.00000</td>\n",
              "      <td>1072.000000</td>\n",
              "    </tr>\n",
              "    <tr>\n",
              "      <th>mean</th>\n",
              "      <td>0.210245</td>\n",
              "      <td>0.057188</td>\n",
              "      <td>0.523204</td>\n",
              "      <td>0.510928</td>\n",
              "      <td>0.712651</td>\n",
              "      <td>0.592335</td>\n",
              "      <td>0.069227</td>\n",
              "      <td>0.081887</td>\n",
              "      <td>0.031932</td>\n",
              "      <td>0.249663</td>\n",
              "      <td>...</td>\n",
              "      <td>0.041045</td>\n",
              "      <td>0.008396</td>\n",
              "      <td>0.001866</td>\n",
              "      <td>0.945896</td>\n",
              "      <td>0.027985</td>\n",
              "      <td>0.006530</td>\n",
              "      <td>0.005597</td>\n",
              "      <td>0.958022</td>\n",
              "      <td>0.01959</td>\n",
              "      <td>0.937500</td>\n",
              "    </tr>\n",
              "    <tr>\n",
              "      <th>std</th>\n",
              "      <td>0.243289</td>\n",
              "      <td>0.057643</td>\n",
              "      <td>0.166669</td>\n",
              "      <td>0.152953</td>\n",
              "      <td>0.228216</td>\n",
              "      <td>0.342078</td>\n",
              "      <td>0.117626</td>\n",
              "      <td>0.081477</td>\n",
              "      <td>0.109536</td>\n",
              "      <td>0.184155</td>\n",
              "      <td>...</td>\n",
              "      <td>0.198486</td>\n",
              "      <td>0.091284</td>\n",
              "      <td>0.043173</td>\n",
              "      <td>0.226329</td>\n",
              "      <td>0.165007</td>\n",
              "      <td>0.080581</td>\n",
              "      <td>0.074638</td>\n",
              "      <td>0.200632</td>\n",
              "      <td>0.13865</td>\n",
              "      <td>0.242174</td>\n",
              "    </tr>\n",
              "    <tr>\n",
              "      <th>min</th>\n",
              "      <td>0.000000</td>\n",
              "      <td>0.000000</td>\n",
              "      <td>0.000000</td>\n",
              "      <td>0.000000</td>\n",
              "      <td>0.000000</td>\n",
              "      <td>0.000000</td>\n",
              "      <td>0.000000</td>\n",
              "      <td>0.000000</td>\n",
              "      <td>0.000000</td>\n",
              "      <td>0.000000</td>\n",
              "      <td>...</td>\n",
              "      <td>0.000000</td>\n",
              "      <td>0.000000</td>\n",
              "      <td>0.000000</td>\n",
              "      <td>0.000000</td>\n",
              "      <td>0.000000</td>\n",
              "      <td>0.000000</td>\n",
              "      <td>0.000000</td>\n",
              "      <td>0.000000</td>\n",
              "      <td>0.00000</td>\n",
              "      <td>0.000000</td>\n",
              "    </tr>\n",
              "    <tr>\n",
              "      <th>25%</th>\n",
              "      <td>0.000000</td>\n",
              "      <td>0.038983</td>\n",
              "      <td>0.375000</td>\n",
              "      <td>0.428571</td>\n",
              "      <td>0.576923</td>\n",
              "      <td>0.300000</td>\n",
              "      <td>0.000000</td>\n",
              "      <td>0.000000</td>\n",
              "      <td>0.000000</td>\n",
              "      <td>0.113014</td>\n",
              "      <td>...</td>\n",
              "      <td>0.000000</td>\n",
              "      <td>0.000000</td>\n",
              "      <td>0.000000</td>\n",
              "      <td>1.000000</td>\n",
              "      <td>0.000000</td>\n",
              "      <td>0.000000</td>\n",
              "      <td>0.000000</td>\n",
              "      <td>1.000000</td>\n",
              "      <td>0.00000</td>\n",
              "      <td>1.000000</td>\n",
              "    </tr>\n",
              "    <tr>\n",
              "      <th>50%</th>\n",
              "      <td>0.176471</td>\n",
              "      <td>0.050780</td>\n",
              "      <td>0.500000</td>\n",
              "      <td>0.428571</td>\n",
              "      <td>0.734615</td>\n",
              "      <td>0.733333</td>\n",
              "      <td>0.000000</td>\n",
              "      <td>0.073618</td>\n",
              "      <td>0.000000</td>\n",
              "      <td>0.214041</td>\n",
              "      <td>...</td>\n",
              "      <td>0.000000</td>\n",
              "      <td>0.000000</td>\n",
              "      <td>0.000000</td>\n",
              "      <td>1.000000</td>\n",
              "      <td>0.000000</td>\n",
              "      <td>0.000000</td>\n",
              "      <td>0.000000</td>\n",
              "      <td>1.000000</td>\n",
              "      <td>0.00000</td>\n",
              "      <td>1.000000</td>\n",
              "    </tr>\n",
              "    <tr>\n",
              "      <th>75%</th>\n",
              "      <td>0.294118</td>\n",
              "      <td>0.063103</td>\n",
              "      <td>0.625000</td>\n",
              "      <td>0.571429</td>\n",
              "      <td>0.930769</td>\n",
              "      <td>0.900000</td>\n",
              "      <td>0.107500</td>\n",
              "      <td>0.128455</td>\n",
              "      <td>0.000000</td>\n",
              "      <td>0.347175</td>\n",
              "      <td>...</td>\n",
              "      <td>0.000000</td>\n",
              "      <td>0.000000</td>\n",
              "      <td>0.000000</td>\n",
              "      <td>1.000000</td>\n",
              "      <td>0.000000</td>\n",
              "      <td>0.000000</td>\n",
              "      <td>0.000000</td>\n",
              "      <td>1.000000</td>\n",
              "      <td>0.00000</td>\n",
              "      <td>1.000000</td>\n",
              "    </tr>\n",
              "    <tr>\n",
              "      <th>max</th>\n",
              "      <td>1.000000</td>\n",
              "      <td>1.000000</td>\n",
              "      <td>1.000000</td>\n",
              "      <td>1.000000</td>\n",
              "      <td>1.000000</td>\n",
              "      <td>1.000000</td>\n",
              "      <td>1.000000</td>\n",
              "      <td>1.000000</td>\n",
              "      <td>1.000000</td>\n",
              "      <td>1.000000</td>\n",
              "      <td>...</td>\n",
              "      <td>1.000000</td>\n",
              "      <td>1.000000</td>\n",
              "      <td>1.000000</td>\n",
              "      <td>1.000000</td>\n",
              "      <td>1.000000</td>\n",
              "      <td>1.000000</td>\n",
              "      <td>1.000000</td>\n",
              "      <td>1.000000</td>\n",
              "      <td>1.00000</td>\n",
              "      <td>1.000000</td>\n",
              "    </tr>\n",
              "  </tbody>\n",
              "</table>\n",
              "<p>8 rows × 244 columns</p>\n",
              "</div>\n",
              "      <button class=\"colab-df-convert\" onclick=\"convertToInteractive('df-d8c070a4-5c23-45d0-819b-e730549bf290')\"\n",
              "              title=\"Convert this dataframe to an interactive table.\"\n",
              "              style=\"display:none;\">\n",
              "        \n",
              "  <svg xmlns=\"http://www.w3.org/2000/svg\" height=\"24px\"viewBox=\"0 0 24 24\"\n",
              "       width=\"24px\">\n",
              "    <path d=\"M0 0h24v24H0V0z\" fill=\"none\"/>\n",
              "    <path d=\"M18.56 5.44l.94 2.06.94-2.06 2.06-.94-2.06-.94-.94-2.06-.94 2.06-2.06.94zm-11 1L8.5 8.5l.94-2.06 2.06-.94-2.06-.94L8.5 2.5l-.94 2.06-2.06.94zm10 10l.94 2.06.94-2.06 2.06-.94-2.06-.94-.94-2.06-.94 2.06-2.06.94z\"/><path d=\"M17.41 7.96l-1.37-1.37c-.4-.4-.92-.59-1.43-.59-.52 0-1.04.2-1.43.59L10.3 9.45l-7.72 7.72c-.78.78-.78 2.05 0 2.83L4 21.41c.39.39.9.59 1.41.59.51 0 1.02-.2 1.41-.59l7.78-7.78 2.81-2.81c.8-.78.8-2.07 0-2.86zM5.41 20L4 18.59l7.72-7.72 1.47 1.35L5.41 20z\"/>\n",
              "  </svg>\n",
              "      </button>\n",
              "      \n",
              "  <style>\n",
              "    .colab-df-container {\n",
              "      display:flex;\n",
              "      flex-wrap:wrap;\n",
              "      gap: 12px;\n",
              "    }\n",
              "\n",
              "    .colab-df-convert {\n",
              "      background-color: #E8F0FE;\n",
              "      border: none;\n",
              "      border-radius: 50%;\n",
              "      cursor: pointer;\n",
              "      display: none;\n",
              "      fill: #1967D2;\n",
              "      height: 32px;\n",
              "      padding: 0 0 0 0;\n",
              "      width: 32px;\n",
              "    }\n",
              "\n",
              "    .colab-df-convert:hover {\n",
              "      background-color: #E2EBFA;\n",
              "      box-shadow: 0px 1px 2px rgba(60, 64, 67, 0.3), 0px 1px 3px 1px rgba(60, 64, 67, 0.15);\n",
              "      fill: #174EA6;\n",
              "    }\n",
              "\n",
              "    [theme=dark] .colab-df-convert {\n",
              "      background-color: #3B4455;\n",
              "      fill: #D2E3FC;\n",
              "    }\n",
              "\n",
              "    [theme=dark] .colab-df-convert:hover {\n",
              "      background-color: #434B5C;\n",
              "      box-shadow: 0px 1px 3px 1px rgba(0, 0, 0, 0.15);\n",
              "      filter: drop-shadow(0px 1px 2px rgba(0, 0, 0, 0.3));\n",
              "      fill: #FFFFFF;\n",
              "    }\n",
              "  </style>\n",
              "\n",
              "      <script>\n",
              "        const buttonEl =\n",
              "          document.querySelector('#df-d8c070a4-5c23-45d0-819b-e730549bf290 button.colab-df-convert');\n",
              "        buttonEl.style.display =\n",
              "          google.colab.kernel.accessAllowed ? 'block' : 'none';\n",
              "\n",
              "        async function convertToInteractive(key) {\n",
              "          const element = document.querySelector('#df-d8c070a4-5c23-45d0-819b-e730549bf290');\n",
              "          const dataTable =\n",
              "            await google.colab.kernel.invokeFunction('convertToInteractive',\n",
              "                                                     [key], {});\n",
              "          if (!dataTable) return;\n",
              "\n",
              "          const docLinkHtml = 'Like what you see? Visit the ' +\n",
              "            '<a target=\"_blank\" href=https://colab.research.google.com/notebooks/data_table.ipynb>data table notebook</a>'\n",
              "            + ' to learn more about interactive tables.';\n",
              "          element.innerHTML = '';\n",
              "          dataTable['output_type'] = 'display_data';\n",
              "          await google.colab.output.renderOutput(dataTable, element);\n",
              "          const docLink = document.createElement('div');\n",
              "          docLink.innerHTML = docLinkHtml;\n",
              "          element.appendChild(docLink);\n",
              "        }\n",
              "      </script>\n",
              "    </div>\n",
              "  </div>\n",
              "  "
            ]
          },
          "metadata": {},
          "execution_count": 99
        }
      ]
    },
    {
      "cell_type": "code",
      "source": [
        "X_test.describe()"
      ],
      "metadata": {
        "colab": {
          "base_uri": "https://localhost:8080/",
          "height": 394
        },
        "id": "nKnarNgRjPvx",
        "outputId": "71057aeb-c580-4b76-a759-4e7a1f608815"
      },
      "execution_count": 100,
      "outputs": [
        {
          "output_type": "execute_result",
          "data": {
            "text/plain": [
              "       MSSubClass     LotArea  OverallQual  OverallCond   YearBuilt  \\\n",
              "count  269.000000  269.000000   269.000000   269.000000  269.000000   \n",
              "mean     0.221627    0.059194     0.545074     0.524164    0.730026   \n",
              "std      0.239515    0.081817     0.160170     0.157451    0.224158   \n",
              "min      0.000000    0.001383     0.250000     0.142857    0.000000   \n",
              "25%      0.000000    0.040591     0.375000     0.428571    0.607692   \n",
              "50%      0.235294    0.050808     0.500000     0.428571    0.738462   \n",
              "75%      0.323529    0.067067     0.625000     0.571429    0.938462   \n",
              "max      1.000000    1.309654     1.000000     1.000000    0.992308   \n",
              "\n",
              "       YearRemodAdd  MasVnrArea  BsmtFinSF1  BsmtFinSF2   BsmtUnfSF  ...  \\\n",
              "count    269.000000  269.000000  269.000000  269.000000  269.000000  ...   \n",
              "mean       0.606506    0.068225    0.083534    0.040042    0.250000  ...   \n",
              "std        0.322749    0.109133    0.080842    0.125491    0.205550  ...   \n",
              "min        0.000000    0.000000    0.000000    0.000000    0.000000  ...   \n",
              "25%        0.316667    0.000000    0.000000    0.000000    0.078767  ...   \n",
              "50%        0.750000    0.000000    0.070872    0.000000    0.196918  ...   \n",
              "75%        0.883333    0.112500    0.137137    0.000000    0.362586  ...   \n",
              "max        0.983333    0.696875    0.371368    0.759837    0.921661  ...   \n",
              "\n",
              "       GarageQual_Fa  GarageQual_Gd  GarageQual_Po  GarageQual_TA  \\\n",
              "count     269.000000     269.000000     269.000000     269.000000   \n",
              "mean        0.014870       0.018587       0.003717       0.962825   \n",
              "std         0.121258       0.135314       0.060971       0.189542   \n",
              "min         0.000000       0.000000       0.000000       0.000000   \n",
              "25%         0.000000       0.000000       0.000000       1.000000   \n",
              "50%         0.000000       0.000000       0.000000       1.000000   \n",
              "75%         0.000000       0.000000       0.000000       1.000000   \n",
              "max         1.000000       1.000000       1.000000       1.000000   \n",
              "\n",
              "       GarageCond_Fa  GarageCond_Gd  GarageCond_Po  GarageCond_TA  \\\n",
              "count     269.000000     269.000000     269.000000     269.000000   \n",
              "mean        0.011152       0.007435       0.003717       0.977695   \n",
              "std         0.105210       0.086065       0.060971       0.147948   \n",
              "min         0.000000       0.000000       0.000000       0.000000   \n",
              "25%         0.000000       0.000000       0.000000       1.000000   \n",
              "50%         0.000000       0.000000       0.000000       1.000000   \n",
              "75%         0.000000       0.000000       0.000000       1.000000   \n",
              "max         1.000000       1.000000       1.000000       1.000000   \n",
              "\n",
              "       PavedDrive_P  PavedDrive_Y  \n",
              "count    269.000000    269.000000  \n",
              "mean       0.022305      0.947955  \n",
              "std        0.147948      0.222531  \n",
              "min        0.000000      0.000000  \n",
              "25%        0.000000      1.000000  \n",
              "50%        0.000000      1.000000  \n",
              "75%        0.000000      1.000000  \n",
              "max        1.000000      1.000000  \n",
              "\n",
              "[8 rows x 244 columns]"
            ],
            "text/html": [
              "\n",
              "  <div id=\"df-1b43c60b-8340-418e-b5f9-ef0e1b6ab020\">\n",
              "    <div class=\"colab-df-container\">\n",
              "      <div>\n",
              "<style scoped>\n",
              "    .dataframe tbody tr th:only-of-type {\n",
              "        vertical-align: middle;\n",
              "    }\n",
              "\n",
              "    .dataframe tbody tr th {\n",
              "        vertical-align: top;\n",
              "    }\n",
              "\n",
              "    .dataframe thead th {\n",
              "        text-align: right;\n",
              "    }\n",
              "</style>\n",
              "<table border=\"1\" class=\"dataframe\">\n",
              "  <thead>\n",
              "    <tr style=\"text-align: right;\">\n",
              "      <th></th>\n",
              "      <th>MSSubClass</th>\n",
              "      <th>LotArea</th>\n",
              "      <th>OverallQual</th>\n",
              "      <th>OverallCond</th>\n",
              "      <th>YearBuilt</th>\n",
              "      <th>YearRemodAdd</th>\n",
              "      <th>MasVnrArea</th>\n",
              "      <th>BsmtFinSF1</th>\n",
              "      <th>BsmtFinSF2</th>\n",
              "      <th>BsmtUnfSF</th>\n",
              "      <th>...</th>\n",
              "      <th>GarageQual_Fa</th>\n",
              "      <th>GarageQual_Gd</th>\n",
              "      <th>GarageQual_Po</th>\n",
              "      <th>GarageQual_TA</th>\n",
              "      <th>GarageCond_Fa</th>\n",
              "      <th>GarageCond_Gd</th>\n",
              "      <th>GarageCond_Po</th>\n",
              "      <th>GarageCond_TA</th>\n",
              "      <th>PavedDrive_P</th>\n",
              "      <th>PavedDrive_Y</th>\n",
              "    </tr>\n",
              "  </thead>\n",
              "  <tbody>\n",
              "    <tr>\n",
              "      <th>count</th>\n",
              "      <td>269.000000</td>\n",
              "      <td>269.000000</td>\n",
              "      <td>269.000000</td>\n",
              "      <td>269.000000</td>\n",
              "      <td>269.000000</td>\n",
              "      <td>269.000000</td>\n",
              "      <td>269.000000</td>\n",
              "      <td>269.000000</td>\n",
              "      <td>269.000000</td>\n",
              "      <td>269.000000</td>\n",
              "      <td>...</td>\n",
              "      <td>269.000000</td>\n",
              "      <td>269.000000</td>\n",
              "      <td>269.000000</td>\n",
              "      <td>269.000000</td>\n",
              "      <td>269.000000</td>\n",
              "      <td>269.000000</td>\n",
              "      <td>269.000000</td>\n",
              "      <td>269.000000</td>\n",
              "      <td>269.000000</td>\n",
              "      <td>269.000000</td>\n",
              "    </tr>\n",
              "    <tr>\n",
              "      <th>mean</th>\n",
              "      <td>0.221627</td>\n",
              "      <td>0.059194</td>\n",
              "      <td>0.545074</td>\n",
              "      <td>0.524164</td>\n",
              "      <td>0.730026</td>\n",
              "      <td>0.606506</td>\n",
              "      <td>0.068225</td>\n",
              "      <td>0.083534</td>\n",
              "      <td>0.040042</td>\n",
              "      <td>0.250000</td>\n",
              "      <td>...</td>\n",
              "      <td>0.014870</td>\n",
              "      <td>0.018587</td>\n",
              "      <td>0.003717</td>\n",
              "      <td>0.962825</td>\n",
              "      <td>0.011152</td>\n",
              "      <td>0.007435</td>\n",
              "      <td>0.003717</td>\n",
              "      <td>0.977695</td>\n",
              "      <td>0.022305</td>\n",
              "      <td>0.947955</td>\n",
              "    </tr>\n",
              "    <tr>\n",
              "      <th>std</th>\n",
              "      <td>0.239515</td>\n",
              "      <td>0.081817</td>\n",
              "      <td>0.160170</td>\n",
              "      <td>0.157451</td>\n",
              "      <td>0.224158</td>\n",
              "      <td>0.322749</td>\n",
              "      <td>0.109133</td>\n",
              "      <td>0.080842</td>\n",
              "      <td>0.125491</td>\n",
              "      <td>0.205550</td>\n",
              "      <td>...</td>\n",
              "      <td>0.121258</td>\n",
              "      <td>0.135314</td>\n",
              "      <td>0.060971</td>\n",
              "      <td>0.189542</td>\n",
              "      <td>0.105210</td>\n",
              "      <td>0.086065</td>\n",
              "      <td>0.060971</td>\n",
              "      <td>0.147948</td>\n",
              "      <td>0.147948</td>\n",
              "      <td>0.222531</td>\n",
              "    </tr>\n",
              "    <tr>\n",
              "      <th>min</th>\n",
              "      <td>0.000000</td>\n",
              "      <td>0.001383</td>\n",
              "      <td>0.250000</td>\n",
              "      <td>0.142857</td>\n",
              "      <td>0.000000</td>\n",
              "      <td>0.000000</td>\n",
              "      <td>0.000000</td>\n",
              "      <td>0.000000</td>\n",
              "      <td>0.000000</td>\n",
              "      <td>0.000000</td>\n",
              "      <td>...</td>\n",
              "      <td>0.000000</td>\n",
              "      <td>0.000000</td>\n",
              "      <td>0.000000</td>\n",
              "      <td>0.000000</td>\n",
              "      <td>0.000000</td>\n",
              "      <td>0.000000</td>\n",
              "      <td>0.000000</td>\n",
              "      <td>0.000000</td>\n",
              "      <td>0.000000</td>\n",
              "      <td>0.000000</td>\n",
              "    </tr>\n",
              "    <tr>\n",
              "      <th>25%</th>\n",
              "      <td>0.000000</td>\n",
              "      <td>0.040591</td>\n",
              "      <td>0.375000</td>\n",
              "      <td>0.428571</td>\n",
              "      <td>0.607692</td>\n",
              "      <td>0.316667</td>\n",
              "      <td>0.000000</td>\n",
              "      <td>0.000000</td>\n",
              "      <td>0.000000</td>\n",
              "      <td>0.078767</td>\n",
              "      <td>...</td>\n",
              "      <td>0.000000</td>\n",
              "      <td>0.000000</td>\n",
              "      <td>0.000000</td>\n",
              "      <td>1.000000</td>\n",
              "      <td>0.000000</td>\n",
              "      <td>0.000000</td>\n",
              "      <td>0.000000</td>\n",
              "      <td>1.000000</td>\n",
              "      <td>0.000000</td>\n",
              "      <td>1.000000</td>\n",
              "    </tr>\n",
              "    <tr>\n",
              "      <th>50%</th>\n",
              "      <td>0.235294</td>\n",
              "      <td>0.050808</td>\n",
              "      <td>0.500000</td>\n",
              "      <td>0.428571</td>\n",
              "      <td>0.738462</td>\n",
              "      <td>0.750000</td>\n",
              "      <td>0.000000</td>\n",
              "      <td>0.070872</td>\n",
              "      <td>0.000000</td>\n",
              "      <td>0.196918</td>\n",
              "      <td>...</td>\n",
              "      <td>0.000000</td>\n",
              "      <td>0.000000</td>\n",
              "      <td>0.000000</td>\n",
              "      <td>1.000000</td>\n",
              "      <td>0.000000</td>\n",
              "      <td>0.000000</td>\n",
              "      <td>0.000000</td>\n",
              "      <td>1.000000</td>\n",
              "      <td>0.000000</td>\n",
              "      <td>1.000000</td>\n",
              "    </tr>\n",
              "    <tr>\n",
              "      <th>75%</th>\n",
              "      <td>0.323529</td>\n",
              "      <td>0.067067</td>\n",
              "      <td>0.625000</td>\n",
              "      <td>0.571429</td>\n",
              "      <td>0.938462</td>\n",
              "      <td>0.883333</td>\n",
              "      <td>0.112500</td>\n",
              "      <td>0.137137</td>\n",
              "      <td>0.000000</td>\n",
              "      <td>0.362586</td>\n",
              "      <td>...</td>\n",
              "      <td>0.000000</td>\n",
              "      <td>0.000000</td>\n",
              "      <td>0.000000</td>\n",
              "      <td>1.000000</td>\n",
              "      <td>0.000000</td>\n",
              "      <td>0.000000</td>\n",
              "      <td>0.000000</td>\n",
              "      <td>1.000000</td>\n",
              "      <td>0.000000</td>\n",
              "      <td>1.000000</td>\n",
              "    </tr>\n",
              "    <tr>\n",
              "      <th>max</th>\n",
              "      <td>1.000000</td>\n",
              "      <td>1.309654</td>\n",
              "      <td>1.000000</td>\n",
              "      <td>1.000000</td>\n",
              "      <td>0.992308</td>\n",
              "      <td>0.983333</td>\n",
              "      <td>0.696875</td>\n",
              "      <td>0.371368</td>\n",
              "      <td>0.759837</td>\n",
              "      <td>0.921661</td>\n",
              "      <td>...</td>\n",
              "      <td>1.000000</td>\n",
              "      <td>1.000000</td>\n",
              "      <td>1.000000</td>\n",
              "      <td>1.000000</td>\n",
              "      <td>1.000000</td>\n",
              "      <td>1.000000</td>\n",
              "      <td>1.000000</td>\n",
              "      <td>1.000000</td>\n",
              "      <td>1.000000</td>\n",
              "      <td>1.000000</td>\n",
              "    </tr>\n",
              "  </tbody>\n",
              "</table>\n",
              "<p>8 rows × 244 columns</p>\n",
              "</div>\n",
              "      <button class=\"colab-df-convert\" onclick=\"convertToInteractive('df-1b43c60b-8340-418e-b5f9-ef0e1b6ab020')\"\n",
              "              title=\"Convert this dataframe to an interactive table.\"\n",
              "              style=\"display:none;\">\n",
              "        \n",
              "  <svg xmlns=\"http://www.w3.org/2000/svg\" height=\"24px\"viewBox=\"0 0 24 24\"\n",
              "       width=\"24px\">\n",
              "    <path d=\"M0 0h24v24H0V0z\" fill=\"none\"/>\n",
              "    <path d=\"M18.56 5.44l.94 2.06.94-2.06 2.06-.94-2.06-.94-.94-2.06-.94 2.06-2.06.94zm-11 1L8.5 8.5l.94-2.06 2.06-.94-2.06-.94L8.5 2.5l-.94 2.06-2.06.94zm10 10l.94 2.06.94-2.06 2.06-.94-2.06-.94-.94-2.06-.94 2.06-2.06.94z\"/><path d=\"M17.41 7.96l-1.37-1.37c-.4-.4-.92-.59-1.43-.59-.52 0-1.04.2-1.43.59L10.3 9.45l-7.72 7.72c-.78.78-.78 2.05 0 2.83L4 21.41c.39.39.9.59 1.41.59.51 0 1.02-.2 1.41-.59l7.78-7.78 2.81-2.81c.8-.78.8-2.07 0-2.86zM5.41 20L4 18.59l7.72-7.72 1.47 1.35L5.41 20z\"/>\n",
              "  </svg>\n",
              "      </button>\n",
              "      \n",
              "  <style>\n",
              "    .colab-df-container {\n",
              "      display:flex;\n",
              "      flex-wrap:wrap;\n",
              "      gap: 12px;\n",
              "    }\n",
              "\n",
              "    .colab-df-convert {\n",
              "      background-color: #E8F0FE;\n",
              "      border: none;\n",
              "      border-radius: 50%;\n",
              "      cursor: pointer;\n",
              "      display: none;\n",
              "      fill: #1967D2;\n",
              "      height: 32px;\n",
              "      padding: 0 0 0 0;\n",
              "      width: 32px;\n",
              "    }\n",
              "\n",
              "    .colab-df-convert:hover {\n",
              "      background-color: #E2EBFA;\n",
              "      box-shadow: 0px 1px 2px rgba(60, 64, 67, 0.3), 0px 1px 3px 1px rgba(60, 64, 67, 0.15);\n",
              "      fill: #174EA6;\n",
              "    }\n",
              "\n",
              "    [theme=dark] .colab-df-convert {\n",
              "      background-color: #3B4455;\n",
              "      fill: #D2E3FC;\n",
              "    }\n",
              "\n",
              "    [theme=dark] .colab-df-convert:hover {\n",
              "      background-color: #434B5C;\n",
              "      box-shadow: 0px 1px 3px 1px rgba(0, 0, 0, 0.15);\n",
              "      filter: drop-shadow(0px 1px 2px rgba(0, 0, 0, 0.3));\n",
              "      fill: #FFFFFF;\n",
              "    }\n",
              "  </style>\n",
              "\n",
              "      <script>\n",
              "        const buttonEl =\n",
              "          document.querySelector('#df-1b43c60b-8340-418e-b5f9-ef0e1b6ab020 button.colab-df-convert');\n",
              "        buttonEl.style.display =\n",
              "          google.colab.kernel.accessAllowed ? 'block' : 'none';\n",
              "\n",
              "        async function convertToInteractive(key) {\n",
              "          const element = document.querySelector('#df-1b43c60b-8340-418e-b5f9-ef0e1b6ab020');\n",
              "          const dataTable =\n",
              "            await google.colab.kernel.invokeFunction('convertToInteractive',\n",
              "                                                     [key], {});\n",
              "          if (!dataTable) return;\n",
              "\n",
              "          const docLinkHtml = 'Like what you see? Visit the ' +\n",
              "            '<a target=\"_blank\" href=https://colab.research.google.com/notebooks/data_table.ipynb>data table notebook</a>'\n",
              "            + ' to learn more about interactive tables.';\n",
              "          element.innerHTML = '';\n",
              "          dataTable['output_type'] = 'display_data';\n",
              "          await google.colab.output.renderOutput(dataTable, element);\n",
              "          const docLink = document.createElement('div');\n",
              "          docLink.innerHTML = docLinkHtml;\n",
              "          element.appendChild(docLink);\n",
              "        }\n",
              "      </script>\n",
              "    </div>\n",
              "  </div>\n",
              "  "
            ]
          },
          "metadata": {},
          "execution_count": 100
        }
      ]
    },
    {
      "cell_type": "markdown",
      "source": [
        "# Model building "
      ],
      "metadata": {
        "id": "0zdtjZDYDTdi"
      }
    },
    {
      "cell_type": "markdown",
      "source": [
        "## 1. Multiple Linear Regression (No Regularization)\n"
      ],
      "metadata": {
        "id": "xepRmeKLDlc8"
      }
    },
    {
      "cell_type": "code",
      "source": [
        "import statsmodels.api as sm\n",
        "from sklearn.metrics import r2_score\n",
        "\n",
        "# Add a constant\n",
        "X_train_1 = sm.add_constant(X_train)\n",
        "\n",
        "# Create a first fitted model\n",
        "lr = sm.OLS(y_train, X_train_1).fit()\n",
        "\n",
        "y_train_pred = lr.predict(X_train_1)\n",
        "\n",
        "print(f'\\n\\nR2 train set = {r2_score(y_train,y_train_pred)}')\n",
        "\n",
        "X_test_1 = sm.add_constant(X_test,has_constant='add')\n",
        "\n",
        "y_test_pred = lr.predict(X_test_1)\n",
        "\n",
        "print(f'\\n\\nR2 on test set = {r2_score(y_test, y_test_pred)}\\n\\n')"
      ],
      "metadata": {
        "colab": {
          "base_uri": "https://localhost:8080/"
        },
        "id": "FtQgWZhwDTMU",
        "outputId": "82f5246b-96b4-47d4-c3e8-f27c187bdddf"
      },
      "execution_count": 101,
      "outputs": [
        {
          "output_type": "stream",
          "name": "stdout",
          "text": [
            "\n",
            "\n",
            "R2 train set = 0.9441286486282798\n",
            "\n",
            "\n",
            "R2 on test set = 0.3647746572646676\n",
            "\n",
            "\n"
          ]
        }
      ]
    },
    {
      "cell_type": "markdown",
      "source": [
        "## 2. Ridge Regression (Default Alpha)\n"
      ],
      "metadata": {
        "id": "EnAWhk_aQBk-"
      }
    },
    {
      "cell_type": "code",
      "source": [
        "from sklearn.linear_model import Ridge\n",
        "\n",
        "# Create a first fitted model\n",
        "ridge = Ridge().fit(X_train,y_train)\n",
        "\n",
        "y_train_pred = ridge.predict(X_train)\n",
        "\n",
        "print(f'\\n\\nR2 train set = {round(r2_score(y_train,y_train_pred),4)}')\n",
        "\n",
        "y_test_pred = ridge.predict(X_test)\n",
        "\n",
        "print(f'\\n\\nR2 on test set = {round(r2_score(y_test, y_test_pred),4)}\\n\\n')"
      ],
      "metadata": {
        "id": "naQehiHYP0IK",
        "colab": {
          "base_uri": "https://localhost:8080/"
        },
        "outputId": "3fd66385-1ece-4736-ff30-b181e8e3397b"
      },
      "execution_count": 102,
      "outputs": [
        {
          "output_type": "stream",
          "name": "stdout",
          "text": [
            "\n",
            "\n",
            "R2 train set = 0.9217\n",
            "\n",
            "\n",
            "R2 on test set = 0.8175\n",
            "\n",
            "\n"
          ]
        }
      ]
    },
    {
      "cell_type": "markdown",
      "source": [
        "### 10 Most Important Variables"
      ],
      "metadata": {
        "id": "yIR56_qF0YC0"
      }
    },
    {
      "cell_type": "code",
      "source": [
        "list(sorted((zip(X_train.columns,np.abs(ridge.coef_))),key=lambda x:x[1],reverse=True))[:10]"
      ],
      "metadata": {
        "colab": {
          "base_uri": "https://localhost:8080/"
        },
        "id": "_KPhHTt80XYN",
        "outputId": "62911386-8b56-4cbf-e19f-2fc967e9196c"
      },
      "execution_count": 103,
      "outputs": [
        {
          "output_type": "execute_result",
          "data": {
            "text/plain": [
              "[('RoofMatl_WdShngl', 103439.36484825288),\n",
              " ('BsmtFinSF1_square', 86446.5288367691),\n",
              " ('Condition2_PosN', 85751.89074907792),\n",
              " ('1stFlrSF', 73868.17883583717),\n",
              " ('GrLivArea', 64952.29257014772),\n",
              " ('TotalBsmtSF_square', 59755.28930681827),\n",
              " ('BsmtFinSF1', 52759.64336387655),\n",
              " ('2ndFlrSF_square', 52447.475676302194),\n",
              " ('OverallQual_square', 51639.48621244105),\n",
              " ('PoolArea', 44334.887332390346)]"
            ]
          },
          "metadata": {},
          "execution_count": 103
        }
      ]
    },
    {
      "cell_type": "markdown",
      "source": [
        "## 3. Lasso Regression (Default Alpha)"
      ],
      "metadata": {
        "id": "k9iFt3d4mlDw"
      }
    },
    {
      "cell_type": "code",
      "source": [
        "from sklearn.linear_model import Lasso\n",
        "\n",
        "# Create a first fitted model\n",
        "lasso= Lasso().fit(X_train,y_train)\n",
        "\n",
        "y_train_pred = lasso.predict(X_train)\n",
        "\n",
        "print(f'\\n\\nR2 train set = {round(r2_score(y_train,y_train_pred),4)}')\n",
        "\n",
        "y_test_pred = lasso.predict(X_test)\n",
        "\n",
        "print(f'\\n\\nR2 on test set = {round(r2_score(y_test, y_test_pred),4)}\\n\\n')"
      ],
      "metadata": {
        "id": "eHkbd3tNPzys",
        "colab": {
          "base_uri": "https://localhost:8080/"
        },
        "outputId": "66642c04-8dd3-4f2c-87b7-4bd86c0ec4f3"
      },
      "execution_count": 104,
      "outputs": [
        {
          "output_type": "stream",
          "name": "stdout",
          "text": [
            "\n",
            "\n",
            "R2 train set = 0.9425\n",
            "\n",
            "\n",
            "R2 on test set = 0.7016\n",
            "\n",
            "\n"
          ]
        }
      ]
    },
    {
      "cell_type": "markdown",
      "source": [
        "### 10 Most Important Variables"
      ],
      "metadata": {
        "id": "bWwTpS3o3C0S"
      }
    },
    {
      "cell_type": "code",
      "source": [
        "list(sorted((zip(X_train.columns,np.abs(lasso.coef_))),key=lambda x:x[1],reverse=True))[:10]"
      ],
      "metadata": {
        "colab": {
          "base_uri": "https://localhost:8080/"
        },
        "id": "LYwD7J_u3DYb",
        "outputId": "9e88197e-904c-4b39-a43c-6100eec7c16d"
      },
      "execution_count": 105,
      "outputs": [
        {
          "output_type": "execute_result",
          "data": {
            "text/plain": [
              "[('RoofMatl_WdShngl', 552501.5142878944),\n",
              " ('PoolArea_square', 531530.1468294626),\n",
              " ('PoolArea', 529750.1229482231),\n",
              " ('RoofMatl_Membran', 525726.8294786131),\n",
              " ('RoofMatl_Roll', 474487.38338608097),\n",
              " ('RoofMatl_CompShg', 464177.8151078169),\n",
              " ('RoofMatl_Tar&Grv', 458996.99946475384),\n",
              " ('RoofMatl_WdShake', 458061.22748274024),\n",
              " ('1stFlrSF', 257555.80181150293),\n",
              " ('GrLivArea_square', 245237.25296883582)]"
            ]
          },
          "metadata": {},
          "execution_count": 105
        }
      ]
    },
    {
      "cell_type": "markdown",
      "source": [
        "## 4. Ridge Hyperparamter Tuning"
      ],
      "metadata": {
        "id": "q7A0wTvTuoVa"
      }
    },
    {
      "cell_type": "code",
      "source": [
        "# list of alphas to tune - if value too high it will lead to underfitting, if it is too low, \n",
        "# it will not handle the overfitting\n",
        "\n",
        "from sklearn.model_selection import GridSearchCV\n",
        "\n",
        "params = {'alpha': [0.0001, 0.001, 0.01, 0.05, 0.1, \n",
        " 0.2, 0.3, 0.4, 0.5, 0.6, 0.7, 0.8, 0.9, 1.0, 2.0, 3.0, \n",
        " 4.0, 5.0, 6.0, 7.0, 8.0, 9.0, 10.0, 20, 50, 100, 500, 1000 ]}\n",
        "\n",
        "ridge = Ridge()\n",
        "\n",
        "# cross validation\n",
        "folds = 5\n",
        "model_cv = GridSearchCV(estimator = ridge, \n",
        "                        param_grid = params, \n",
        "                        scoring= 'neg_mean_absolute_error',  \n",
        "                        cv = folds, \n",
        "                        return_train_score=True,\n",
        "                        verbose = 1)            \n",
        "model_cv.fit(X_train, y_train) "
      ],
      "metadata": {
        "id": "Bl2zcGFqPzuo",
        "colab": {
          "base_uri": "https://localhost:8080/"
        },
        "outputId": "5e91ddd5-ad57-4b87-addb-756e9fd2b353"
      },
      "execution_count": 106,
      "outputs": [
        {
          "output_type": "stream",
          "name": "stdout",
          "text": [
            "Fitting 5 folds for each of 28 candidates, totalling 140 fits\n"
          ]
        },
        {
          "output_type": "execute_result",
          "data": {
            "text/plain": [
              "GridSearchCV(cv=5, estimator=Ridge(),\n",
              "             param_grid={'alpha': [0.0001, 0.001, 0.01, 0.05, 0.1, 0.2, 0.3,\n",
              "                                   0.4, 0.5, 0.6, 0.7, 0.8, 0.9, 1.0, 2.0, 3.0,\n",
              "                                   4.0, 5.0, 6.0, 7.0, 8.0, 9.0, 10.0, 20, 50,\n",
              "                                   100, 500, 1000]},\n",
              "             return_train_score=True, scoring='neg_mean_absolute_error',\n",
              "             verbose=1)"
            ]
          },
          "metadata": {},
          "execution_count": 106
        }
      ]
    },
    {
      "cell_type": "code",
      "source": [
        "# Printing the best hyperparameter alpha\n",
        "print(model_cv.best_params_)"
      ],
      "metadata": {
        "id": "OcWY_uxuPzlq",
        "colab": {
          "base_uri": "https://localhost:8080/"
        },
        "outputId": "14c3a7c2-1bc6-41c1-b4d9-d0a445a39b66"
      },
      "execution_count": 107,
      "outputs": [
        {
          "output_type": "stream",
          "name": "stdout",
          "text": [
            "{'alpha': 0.2}\n"
          ]
        }
      ]
    },
    {
      "cell_type": "code",
      "source": [
        "#Fitting Ridge model for alpha = 10 and printing coefficients which have been penalised\n",
        "\n",
        "# Compared to default alpha, R2 on train set has reduced quite a lot and R2 on test set has reduced slightly \n",
        "# However, the difference between train and test set R2 is reduced that means \"overfitting has reduced\"\n",
        "\n",
        "alpha = model_cv.best_params_['alpha']\n",
        "ridge = Ridge(alpha=alpha)\n",
        "\n",
        "ridge.fit(X_train, y_train)\n",
        "\n",
        "y_train_pred = ridge.predict(X_train)\n",
        "\n",
        "print(f'\\n\\nR2 train set = {round(r2_score(y_train,y_train_pred),4)}')\n",
        "\n",
        "y_test_pred = ridge.predict(X_test)\n",
        "\n",
        "print(f'\\n\\nR2 on test set = {round(r2_score(y_test, y_test_pred),4)}\\n\\n')"
      ],
      "metadata": {
        "id": "7KrnoO8DPzjO",
        "colab": {
          "base_uri": "https://localhost:8080/"
        },
        "outputId": "feee2970-ee5d-4a5d-fdf0-ff0201655588"
      },
      "execution_count": 108,
      "outputs": [
        {
          "output_type": "stream",
          "name": "stdout",
          "text": [
            "\n",
            "\n",
            "R2 train set = 0.9345\n",
            "\n",
            "\n",
            "R2 on test set = 0.822\n",
            "\n",
            "\n"
          ]
        }
      ]
    },
    {
      "cell_type": "markdown",
      "source": [
        "### 10 Most Important Variables"
      ],
      "metadata": {
        "id": "xvY5FxUX3W1K"
      }
    },
    {
      "cell_type": "code",
      "source": [
        "list(sorted((zip(X_train.columns,np.abs(ridge.coef_))),key=lambda x:x[1],reverse=True))[:10]"
      ],
      "metadata": {
        "colab": {
          "base_uri": "https://localhost:8080/"
        },
        "id": "kt8P940E3Xfl",
        "outputId": "d350c4c4-b0a1-42c0-8c11-c3a534e89516"
      },
      "execution_count": 109,
      "outputs": [
        {
          "output_type": "execute_result",
          "data": {
            "text/plain": [
              "[('BsmtFinSF1_square', 196153.47801182044),\n",
              " ('RoofMatl_WdShngl', 150698.7148112706),\n",
              " ('Condition2_PosN', 138505.2647357074),\n",
              " ('1stFlrSF', 132805.9513772182),\n",
              " ('TotalBsmtSF_square', 119656.0951908411),\n",
              " ('BsmtFinSF1', 118537.16073657098),\n",
              " ('GrLivArea', 108037.86194991844),\n",
              " ('TotalBsmtSF', 101871.44061705336),\n",
              " ('GrLivArea_square', 95115.14508204088),\n",
              " ('OverallQual_square', 87431.61135830368)]"
            ]
          },
          "metadata": {},
          "execution_count": 109
        }
      ]
    },
    {
      "cell_type": "markdown",
      "source": [
        "## 4. Lasso Hyperparamter Tuning"
      ],
      "metadata": {
        "id": "BGrBKxkxuxRH"
      }
    },
    {
      "cell_type": "code",
      "source": [
        "lasso = Lasso()\n",
        "\n",
        "# cross validation\n",
        "import warnings\n",
        "warnings.filterwarnings(\"ignore\")\n",
        "\n",
        "model_cv = GridSearchCV(estimator = lasso, \n",
        "                        param_grid = params, \n",
        "                        scoring= 'neg_mean_absolute_error', \n",
        "                        cv = folds, \n",
        "                        return_train_score=True,\n",
        "                        verbose = 1)            \n",
        "\n",
        "model_cv.fit(X_train, y_train) "
      ],
      "metadata": {
        "id": "fcilUg2EPzgq",
        "colab": {
          "base_uri": "https://localhost:8080/"
        },
        "outputId": "0d80f5e7-8e55-40ad-f5a4-d019e2384331"
      },
      "execution_count": 110,
      "outputs": [
        {
          "output_type": "stream",
          "name": "stdout",
          "text": [
            "Fitting 5 folds for each of 28 candidates, totalling 140 fits\n"
          ]
        },
        {
          "output_type": "execute_result",
          "data": {
            "text/plain": [
              "GridSearchCV(cv=5, estimator=Lasso(),\n",
              "             param_grid={'alpha': [0.0001, 0.001, 0.01, 0.05, 0.1, 0.2, 0.3,\n",
              "                                   0.4, 0.5, 0.6, 0.7, 0.8, 0.9, 1.0, 2.0, 3.0,\n",
              "                                   4.0, 5.0, 6.0, 7.0, 8.0, 9.0, 10.0, 20, 50,\n",
              "                                   100, 500, 1000]},\n",
              "             return_train_score=True, scoring='neg_mean_absolute_error',\n",
              "             verbose=1)"
            ]
          },
          "metadata": {},
          "execution_count": 110
        }
      ]
    },
    {
      "cell_type": "code",
      "source": [
        "# Printing the best hyperparameter alpha\n",
        "print(model_cv.best_params_)"
      ],
      "metadata": {
        "id": "LuJfvKl2Pzdu",
        "colab": {
          "base_uri": "https://localhost:8080/"
        },
        "outputId": "f8520584-71c5-431d-b0a3-482260c8c6fb"
      },
      "execution_count": 111,
      "outputs": [
        {
          "output_type": "stream",
          "name": "stdout",
          "text": [
            "{'alpha': 50}\n"
          ]
        }
      ]
    },
    {
      "cell_type": "code",
      "source": [
        "# Compared to defalt alpha, R2 on train set has reduced slightly and R2 on test set has increased \n",
        "# The difference between train and test set R2 is reduced that means \"overfitting has reduced\"\n",
        "\n",
        "alpha =model_cv.best_params_['alpha']\n",
        "\n",
        "lasso = Lasso(alpha=alpha)\n",
        "        \n",
        "lasso.fit(X_train, y_train) \n",
        "\n",
        "y_train_pred = lasso.predict(X_train)\n",
        "\n",
        "print(f'\\n\\nR2 train set = {round(r2_score(y_train,y_train_pred),4)}')\n",
        "\n",
        "y_test_pred = lasso.predict(X_test)\n",
        "\n",
        "print(f'\\n\\nR2 on test set = {round(r2_score(y_test, y_test_pred),4)}\\n\\n')"
      ],
      "metadata": {
        "colab": {
          "base_uri": "https://localhost:8080/"
        },
        "id": "WuqhqxYawjlA",
        "outputId": "2514a99c-88c1-40e8-d577-889d8f2b8db2"
      },
      "execution_count": 112,
      "outputs": [
        {
          "output_type": "stream",
          "name": "stdout",
          "text": [
            "\n",
            "\n",
            "R2 train set = 0.9209\n",
            "\n",
            "\n",
            "R2 on test set = 0.8479\n",
            "\n",
            "\n"
          ]
        }
      ]
    },
    {
      "cell_type": "markdown",
      "source": [
        "### 10 Most Important Variables"
      ],
      "metadata": {
        "id": "j4g9oRjA3YtR"
      }
    },
    {
      "cell_type": "code",
      "source": [
        "list(sorted((zip(X_train.columns,np.abs(lasso.coef_))),key=lambda x:x[1],reverse=True))[:10]"
      ],
      "metadata": {
        "colab": {
          "base_uri": "https://localhost:8080/"
        },
        "id": "CQvvlI8Vw2gI",
        "outputId": "a4662dd7-655c-4693-a42d-dc0293351c83"
      },
      "execution_count": 113,
      "outputs": [
        {
          "output_type": "execute_result",
          "data": {
            "text/plain": [
              "[('BsmtFinSF1_square', 395355.3600119325),\n",
              " ('BsmtFinSF1', 146047.8079511702),\n",
              " ('Condition2_PosN', 137167.96763957737),\n",
              " ('GrLivArea', 107951.28006828824),\n",
              " ('RoofMatl_WdShngl', 101384.15766038772),\n",
              " ('OverallQual_square', 73502.9230811677),\n",
              " ('1stFlrSF', 69605.4038824905),\n",
              " ('MasVnrArea_square', 50892.656465517146),\n",
              " ('2ndFlrSF_square', 44521.95141275388),\n",
              " ('Neighborhood_StoneBr', 43615.87771639074)]"
            ]
          },
          "metadata": {},
          "execution_count": 113
        }
      ]
    },
    {
      "cell_type": "markdown",
      "source": [
        "# Subjective Questions"
      ],
      "metadata": {
        "id": "-glnuXio4bXp"
      }
    },
    {
      "cell_type": "markdown",
      "source": [
        "## Q1\n",
        "What is the optimal value of alpha for ridge and lasso regression? What will be the changes in the model if you choose double the value of alpha for both ridge and lasso? What will be the most important predictor variables after the change is implemented?"
      ],
      "metadata": {
        "id": "YAFXRZLg4bMy"
      }
    },
    {
      "cell_type": "code",
      "source": [
        "alpha = 0.4\n",
        "ridge = Ridge(alpha=alpha)\n",
        "\n",
        "ridge.fit(X_train, y_train)\n",
        "\n",
        "y_train_pred = ridge.predict(X_train)\n",
        "\n",
        "print(f'\\n\\nR2 train set = {round(r2_score(y_train,y_train_pred),4)}')\n",
        "\n",
        "y_test_pred = ridge.predict(X_test)\n",
        "\n",
        "print(f'\\n\\nR2 on test set = {round(r2_score(y_test, y_test_pred),4)}\\n\\n')"
      ],
      "metadata": {
        "colab": {
          "base_uri": "https://localhost:8080/"
        },
        "id": "LgkzVtFw3n0t",
        "outputId": "3f297520-5fa1-4376-b75e-fda5cf3d1afc"
      },
      "execution_count": 117,
      "outputs": [
        {
          "output_type": "stream",
          "name": "stdout",
          "text": [
            "\n",
            "\n",
            "R2 train set = 0.9301\n",
            "\n",
            "\n",
            "R2 on test set = 0.8187\n",
            "\n",
            "\n"
          ]
        }
      ]
    },
    {
      "cell_type": "code",
      "source": [
        "list(sorted((zip(X_train.columns,np.abs(ridge.coef_))),key=lambda x:x[1],reverse=True))[:10]"
      ],
      "metadata": {
        "colab": {
          "base_uri": "https://localhost:8080/"
        },
        "id": "DR-bXyaS9yBz",
        "outputId": "0f5806d7-0b56-48ac-ab2c-57bc0d240062"
      },
      "execution_count": 118,
      "outputs": [
        {
          "output_type": "execute_result",
          "data": {
            "text/plain": [
              "[('BsmtFinSF1_square', 145745.8273556113),\n",
              " ('RoofMatl_WdShngl', 130860.48659983839),\n",
              " ('Condition2_PosN', 118030.36878193982),\n",
              " ('1stFlrSF', 108662.21462522174),\n",
              " ('TotalBsmtSF_square', 95670.12507611055),\n",
              " ('GrLivArea', 90113.74134763346),\n",
              " ('BsmtFinSF1', 88729.425629373),\n",
              " ('TotalBsmtSF', 74827.36058682499),\n",
              " ('OverallQual_square', 67781.99132416988),\n",
              " ('OpenPorchSF_square', 64774.25001527412)]"
            ]
          },
          "metadata": {},
          "execution_count": 118
        }
      ]
    },
    {
      "cell_type": "code",
      "source": [
        "alpha = 100\n",
        "\n",
        "lasso = Lasso(alpha=alpha)\n",
        "        \n",
        "lasso.fit(X_train, y_train) \n",
        "\n",
        "y_train_pred = lasso.predict(X_train)\n",
        "\n",
        "print(f'\\n\\nR2 train set = {round(r2_score(y_train,y_train_pred),4)}')\n",
        "\n",
        "y_test_pred = lasso.predict(X_test)\n",
        "\n",
        "print(f'\\n\\nR2 on test set = {round(r2_score(y_test, y_test_pred),4)}\\n\\n')"
      ],
      "metadata": {
        "colab": {
          "base_uri": "https://localhost:8080/"
        },
        "id": "N7ZMEEMo5umj",
        "outputId": "23bc9611-5fc5-4b43-f606-e7ee791b79dc"
      },
      "execution_count": 120,
      "outputs": [
        {
          "output_type": "stream",
          "name": "stdout",
          "text": [
            "\n",
            "\n",
            "R2 train set = 0.9046\n",
            "\n",
            "\n",
            "R2 on test set = 0.8434\n",
            "\n",
            "\n"
          ]
        }
      ]
    },
    {
      "cell_type": "code",
      "source": [
        "list(sorted((zip(X_train.columns,np.abs(lasso.coef_))),key=lambda x:x[1],reverse=True))[:10]"
      ],
      "metadata": {
        "colab": {
          "base_uri": "https://localhost:8080/"
        },
        "id": "H9yjqf_E92yn",
        "outputId": "e3c9d791-fbe0-427a-839e-6dca52028ce8"
      },
      "execution_count": 121,
      "outputs": [
        {
          "output_type": "execute_result",
          "data": {
            "text/plain": [
              "[('BsmtFinSF1_square', 141315.36722018704),\n",
              " ('RoofMatl_WdShngl', 98473.51532481202),\n",
              " ('Condition2_PosN', 85599.61901477624),\n",
              " ('OverallQual_square', 83014.9679204572),\n",
              " ('GrLivArea', 81240.04162256488),\n",
              " ('1stFlrSF', 56709.20985792774),\n",
              " ('GarageCars_square', 46476.23411115641),\n",
              " ('2ndFlrSF_square', 45167.681856635),\n",
              " ('BsmtFinSF1', 44592.32117881542),\n",
              " ('Neighborhood_StoneBr', 44429.18873905697)]"
            ]
          },
          "metadata": {},
          "execution_count": 121
        }
      ]
    },
    {
      "cell_type": "markdown",
      "source": [
        "## Q3\n",
        "After building the model, you realised that the five most important predictor variables in the lasso model are not available in the incoming data. You will now have to create another model excluding the five most important predictor variables. Which are the five most important predictor variables now?"
      ],
      "metadata": {
        "id": "DLd8gNqR6YZ0"
      }
    },
    {
      "cell_type": "code",
      "source": [
        "alpha = 50\n",
        "\n",
        "drop_cols=['BsmtFinSF1_square', 'BsmtFinSF1','Condition2_PosN',\\\n",
        "           'GrLivArea','RoofMatl_WdShngl']\n",
        "\n",
        "X_train_1 = X_train.drop(columns=drop_cols)\n",
        "\n",
        "lasso = Lasso(alpha=alpha)\n",
        "        \n",
        "lasso.fit(X_train_1, y_train) \n",
        "\n",
        "list(sorted((zip(X_train.columns,np.abs(lasso.coef_))),key=lambda x:x[1],reverse=True))[:10]"
      ],
      "metadata": {
        "id": "BY3Gcfrk6eGs",
        "colab": {
          "base_uri": "https://localhost:8080/"
        },
        "outputId": "5a725ec1-f4ab-47b6-8cc2-2dcc3351db4a"
      },
      "execution_count": 125,
      "outputs": [
        {
          "output_type": "execute_result",
          "data": {
            "text/plain": [
              "[('BsmtFinSF1_square', 307523.27344479255),\n",
              " ('BsmtUnfSF', 164440.86068673796),\n",
              " ('TotalBsmtSF', 131687.2549127829),\n",
              " ('BsmtUnfSF_square', 93191.29349475296),\n",
              " ('MSSubClass_square', 77703.16151354027),\n",
              " ('LotArea', 49056.13948379399),\n",
              " ('3SsnPorch', 46463.45683191016),\n",
              " ('TotRmsAbvGrd_square', 44705.396959453195),\n",
              " ('Neighborhood_Sawyer', 43963.197763530596),\n",
              " ('YearBuilt_square', 43180.79070521534)]"
            ]
          },
          "metadata": {},
          "execution_count": 125
        }
      ]
    }
  ]
}